{
  "nbformat": 4,
  "nbformat_minor": 0,
  "metadata": {
    "colab": {
      "provenance": []
    },
    "kernelspec": {
      "name": "python3",
      "display_name": "Python 3"
    },
    "language_info": {
      "name": "python"
    }
  },
  "cells": [
    {
      "cell_type": "markdown",
      "source": [
        "logical operator\n",
        "used with boolean\n",
        "and or\n",
        "\n",
        "*   and\n",
        "*   or,not\n",
        "    \n",
        "\n"
      ],
      "metadata": {
        "id": "OQ8O6-3IzjkG"
      }
    },
    {
      "cell_type": "code",
      "execution_count": null,
      "metadata": {
        "colab": {
          "base_uri": "https://localhost:8080/"
        },
        "id": "P2KsZdLKzOjw",
        "outputId": "f8af3751-4988-47ff-ba92-e76bd5c2aa0a"
      },
      "outputs": [
        {
          "output_type": "execute_result",
          "data": {
            "text/plain": [
              "True"
            ]
          },
          "metadata": {},
          "execution_count": 11
        }
      ],
      "source": [
        "True and True"
      ]
    },
    {
      "cell_type": "code",
      "source": [
        "True and False"
      ],
      "metadata": {
        "colab": {
          "base_uri": "https://localhost:8080/"
        },
        "id": "WyAWPX5yzemN",
        "outputId": "e91a4d44-0a4c-4287-aece-9e3fb2b706d7"
      },
      "execution_count": null,
      "outputs": [
        {
          "output_type": "execute_result",
          "data": {
            "text/plain": [
              "False"
            ]
          },
          "metadata": {},
          "execution_count": 12
        }
      ]
    },
    {
      "cell_type": "code",
      "source": [
        "False and True\n",
        "False and False"
      ],
      "metadata": {
        "colab": {
          "base_uri": "https://localhost:8080/"
        },
        "id": "46XKqVBNzgQV",
        "outputId": "aba5963a-b6fe-471d-ed00-cca99da6b908"
      },
      "execution_count": null,
      "outputs": [
        {
          "output_type": "execute_result",
          "data": {
            "text/plain": [
              "False"
            ]
          },
          "metadata": {},
          "execution_count": 13
        }
      ]
    },
    {
      "cell_type": "code",
      "source": [
        "percent=50\n",
        "if percent >=50 and percent<70:\n",
        "    print(\"2nd divison\")\n"
      ],
      "metadata": {
        "colab": {
          "base_uri": "https://localhost:8080/"
        },
        "id": "KWzU9mNQzjH7",
        "outputId": "9ed0906d-07b0-4f9a-c534-4be4999ee210"
      },
      "execution_count": null,
      "outputs": [
        {
          "output_type": "stream",
          "name": "stdout",
          "text": [
            "2nd divison\n"
          ]
        }
      ]
    },
    {
      "cell_type": "markdown",
      "source": [
        "or operator\n",
        "\n",
        "\n"
      ],
      "metadata": {
        "id": "1NiocLDc0FHc"
      }
    },
    {
      "cell_type": "code",
      "source": [
        "True or True"
      ],
      "metadata": {
        "colab": {
          "base_uri": "https://localhost:8080/"
        },
        "id": "GIO7nCjP0IoU",
        "outputId": "ec59edbb-e590-4fed-c5ee-fa51b104dc5b"
      },
      "execution_count": null,
      "outputs": [
        {
          "output_type": "execute_result",
          "data": {
            "text/plain": [
              "True"
            ]
          },
          "metadata": {},
          "execution_count": 3
        }
      ]
    },
    {
      "cell_type": "code",
      "source": [
        "True or False"
      ],
      "metadata": {
        "colab": {
          "base_uri": "https://localhost:8080/"
        },
        "id": "BklQ8VGx0LhN",
        "outputId": "e1c56b29-5809-4499-978b-91efbbddd520"
      },
      "execution_count": null,
      "outputs": [
        {
          "output_type": "execute_result",
          "data": {
            "text/plain": [
              "True"
            ]
          },
          "metadata": {},
          "execution_count": 4
        }
      ]
    },
    {
      "cell_type": "code",
      "source": [
        "False or True\n"
      ],
      "metadata": {
        "colab": {
          "base_uri": "https://localhost:8080/"
        },
        "id": "NjxfGict0OgV",
        "outputId": "cdb26e6c-3d50-464f-ca04-5a4ec864e93c"
      },
      "execution_count": null,
      "outputs": [
        {
          "output_type": "execute_result",
          "data": {
            "text/plain": [
              "True"
            ]
          },
          "metadata": {},
          "execution_count": 5
        }
      ]
    },
    {
      "cell_type": "code",
      "source": [
        "False or False\n",
        "\n",
        "\n"
      ],
      "metadata": {
        "colab": {
          "base_uri": "https://localhost:8080/"
        },
        "id": "h6h0EGJ90Q1w",
        "outputId": "ccd7ee45-4bdc-4fa0-c436-ef71704263bf"
      },
      "execution_count": null,
      "outputs": [
        {
          "output_type": "execute_result",
          "data": {
            "text/plain": [
              "False"
            ]
          },
          "metadata": {},
          "execution_count": 6
        }
      ]
    },
    {
      "cell_type": "code",
      "source": [
        "percent = 80\n",
        "if percent == 80 or percent > 80:\n",
        "    print (\"distinction\")\n"
      ],
      "metadata": {
        "colab": {
          "base_uri": "https://localhost:8080/"
        },
        "id": "49GzR3mt0TwY",
        "outputId": "9b506d92-ab0a-4495-dfe7-91223babeb24"
      },
      "execution_count": null,
      "outputs": [
        {
          "output_type": "stream",
          "name": "stdout",
          "text": [
            "distinction\n"
          ]
        }
      ]
    },
    {
      "cell_type": "markdown",
      "source": [
        "not operator"
      ],
      "metadata": {
        "id": "3UpSebii1xDG"
      }
    },
    {
      "cell_type": "code",
      "source": [
        "not True"
      ],
      "metadata": {
        "colab": {
          "base_uri": "https://localhost:8080/"
        },
        "id": "p-bU2DoD0wg8",
        "outputId": "610a5c4c-28e2-42d0-b36c-4a1e7f5be28e"
      },
      "execution_count": null,
      "outputs": [
        {
          "output_type": "execute_result",
          "data": {
            "text/plain": [
              "False"
            ]
          },
          "metadata": {},
          "execution_count": 8
        }
      ]
    },
    {
      "cell_type": "code",
      "source": [
        "not False"
      ],
      "metadata": {
        "colab": {
          "base_uri": "https://localhost:8080/"
        },
        "id": "FJCbNc8T11jE",
        "outputId": "9ad578ff-07d5-418f-c1e5-8f725b64b3b8"
      },
      "execution_count": null,
      "outputs": [
        {
          "output_type": "execute_result",
          "data": {
            "text/plain": [
              "True"
            ]
          },
          "metadata": {},
          "execution_count": 9
        }
      ]
    },
    {
      "cell_type": "code",
      "source": [],
      "metadata": {
        "id": "b09IlEH1256B"
      },
      "execution_count": null,
      "outputs": []
    }
  ]
}