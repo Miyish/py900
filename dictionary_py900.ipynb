{
  "nbformat": 4,
  "nbformat_minor": 0,
  "metadata": {
    "colab": {
      "provenance": []
    },
    "kernelspec": {
      "name": "python3",
      "display_name": "Python 3"
    },
    "language_info": {
      "name": "python"
    }
  },
  "cells": [
    {
      "cell_type": "code",
      "execution_count": null,
      "metadata": {
        "id": "XATBYXVe_-bY"
      },
      "outputs": [],
      "source": []
    },
    {
      "cell_type": "markdown",
      "source": [
        "# syntax\n",
        "\n",
        "```python\n",
        "{\n",
        "    key:val1,\n",
        "    key:val2,\n",
        "    key:val3,\n",
        "    ....\n",
        "    keyn:valn\n",
        "}\n",
        "\n",
        "```"
      ],
      "metadata": {
        "id": "9ciYvcUrApjE"
      }
    },
    {
      "cell_type": "code",
      "source": [
        "#  keys are generally int,foat,string for now ; aru pani hunxa\n",
        "# values jun sukai data type ko hunxa"
      ],
      "metadata": {
        "id": "lP8Fg6DjBEEX"
      },
      "execution_count": null,
      "outputs": []
    },
    {
      "cell_type": "code",
      "source": [
        "# creating empty dictionary\n",
        "my_dict=dict()\n",
        "type(my_dict)"
      ],
      "metadata": {
        "colab": {
          "base_uri": "https://localhost:8080/"
        },
        "id": "GYwrXkvdBafj",
        "outputId": "1fb7b155-58ad-4e44-d021-fe8eed954f8e"
      },
      "execution_count": null,
      "outputs": [
        {
          "output_type": "execute_result",
          "data": {
            "text/plain": [
              "dict"
            ]
          },
          "metadata": {},
          "execution_count": 2
        }
      ]
    },
    {
      "cell_type": "code",
      "source": [
        "my_dict=dict()\n",
        "type(my_dict)"
      ],
      "metadata": {
        "colab": {
          "base_uri": "https://localhost:8080/"
        },
        "id": "b646EogqBlQe",
        "outputId": "e0a472ca-9244-44cd-e78d-9f967b2268b2"
      },
      "execution_count": null,
      "outputs": [
        {
          "output_type": "execute_result",
          "data": {
            "text/plain": [
              "dict"
            ]
          },
          "metadata": {},
          "execution_count": 3
        }
      ]
    },
    {
      "cell_type": "code",
      "source": [
        "about={\n",
        "    'name':'kshitiz',\n",
        "    'teaches':['python','data science'],\n",
        "    'age':26\n",
        "\n",
        "}"
      ],
      "metadata": {
        "id": "jO-aybM9Bskv"
      },
      "execution_count": null,
      "outputs": []
    },
    {
      "cell_type": "code",
      "source": [
        "print(about)"
      ],
      "metadata": {
        "colab": {
          "base_uri": "https://localhost:8080/"
        },
        "id": "AYr7cPT8CUIS",
        "outputId": "7bfa0dab-2f7d-4676-e377-b75ce5700d5d"
      },
      "execution_count": null,
      "outputs": [
        {
          "output_type": "stream",
          "name": "stdout",
          "text": [
            "{'name': 'kshitiz', 'teaches': ['python', 'data science'], 'age': 26}\n"
          ]
        }
      ]
    },
    {
      "cell_type": "code",
      "source": [
        "about['name']  # accesing values using key"
      ],
      "metadata": {
        "colab": {
          "base_uri": "https://localhost:8080/",
          "height": 35
        },
        "id": "ZbY4-MTGCV-g",
        "outputId": "e4610b2f-3e97-4f8e-8147-706f69f2a64f"
      },
      "execution_count": null,
      "outputs": [
        {
          "output_type": "execute_result",
          "data": {
            "text/plain": [
              "'kshitiz'"
            ],
            "application/vnd.google.colaboratory.intrinsic+json": {
              "type": "string"
            }
          },
          "metadata": {},
          "execution_count": 15
        }
      ]
    },
    {
      "cell_type": "code",
      "source": [
        "about.get(\"age\")"
      ],
      "metadata": {
        "colab": {
          "base_uri": "https://localhost:8080/"
        },
        "id": "a02MsRzzCgVs",
        "outputId": "c36efea3-18bd-4eea-f3ac-21c6f533f65a"
      },
      "execution_count": null,
      "outputs": [
        {
          "output_type": "execute_result",
          "data": {
            "text/plain": [
              "26"
            ]
          },
          "metadata": {},
          "execution_count": 16
        }
      ]
    },
    {
      "cell_type": "code",
      "source": [
        "about['teaches']"
      ],
      "metadata": {
        "colab": {
          "base_uri": "https://localhost:8080/"
        },
        "id": "Dcd1EaA8CrLd",
        "outputId": "4f8a0080-5c50-45ec-ba9c-1d8635ac61ef"
      },
      "execution_count": null,
      "outputs": [
        {
          "output_type": "execute_result",
          "data": {
            "text/plain": [
              "['python', 'data science']"
            ]
          },
          "metadata": {},
          "execution_count": 17
        }
      ]
    },
    {
      "cell_type": "code",
      "source": [
        "about.keys()"
      ],
      "metadata": {
        "colab": {
          "base_uri": "https://localhost:8080/"
        },
        "id": "0D_oiVb9Cz1B",
        "outputId": "afe66eb1-e7af-49a6-df62-b72e4a83b91d"
      },
      "execution_count": null,
      "outputs": [
        {
          "output_type": "execute_result",
          "data": {
            "text/plain": [
              "dict_keys(['name', 'teaches', 'age'])"
            ]
          },
          "metadata": {},
          "execution_count": 18
        }
      ]
    },
    {
      "cell_type": "code",
      "source": [
        "about.values()"
      ],
      "metadata": {
        "colab": {
          "base_uri": "https://localhost:8080/"
        },
        "id": "t5YeokozDHfn",
        "outputId": "1fa09e0f-1639-47f4-eb42-64ad90388144"
      },
      "execution_count": null,
      "outputs": [
        {
          "output_type": "execute_result",
          "data": {
            "text/plain": [
              "dict_values(['kshitiz', ['python', 'data science'], 26])"
            ]
          },
          "metadata": {},
          "execution_count": 22
        }
      ]
    },
    {
      "cell_type": "code",
      "source": [
        "about={\n",
        "    'name':'kshitiz',\n",
        "    'teaches':['python','data science'],\n",
        "    'age':26\n",
        "\n",
        "}"
      ],
      "metadata": {
        "id": "ZQaWiDliDLHP"
      },
      "execution_count": null,
      "outputs": []
    },
    {
      "cell_type": "code",
      "source": [
        "about.items()"
      ],
      "metadata": {
        "colab": {
          "base_uri": "https://localhost:8080/"
        },
        "id": "Cd7HQtxwCmUB",
        "outputId": "26b47f2d-6ad6-450f-c388-e519b4d3e7c2"
      },
      "execution_count": null,
      "outputs": [
        {
          "output_type": "execute_result",
          "data": {
            "text/plain": [
              "dict_items([('name', 'kshitiz'), ('teaches', ['python', 'data science']), ('age', 26)])"
            ]
          },
          "metadata": {},
          "execution_count": 3
        }
      ]
    },
    {
      "cell_type": "code",
      "source": [
        "for key,val in about.items():\n",
        "    print(key,\"=\",val)\n"
      ],
      "metadata": {
        "colab": {
          "base_uri": "https://localhost:8080/"
        },
        "id": "frA_Stn9CvUX",
        "outputId": "b642478d-26e5-4cf7-b8e5-637db792a4a4"
      },
      "execution_count": null,
      "outputs": [
        {
          "output_type": "stream",
          "name": "stdout",
          "text": [
            "name = kshitiz\n",
            "teaches = ['python', 'data science']\n",
            "age = 26\n"
          ]
        }
      ]
    },
    {
      "cell_type": "code",
      "source": [
        "about={\n",
        "    'name':'kshitiz',\n",
        "    'teaches':['python','data science'],\n",
        "    'age':26\n",
        "\n",
        "}\n",
        "print(about)\n",
        "for key,val in about.items():\n",
        "    print(key,\"=\",val)\n"
      ],
      "metadata": {
        "colab": {
          "base_uri": "https://localhost:8080/"
        },
        "id": "h1r2BTNDYWgg",
        "outputId": "3d2dcf04-6a7c-4ddf-891e-6a37904e2105"
      },
      "execution_count": null,
      "outputs": [
        {
          "output_type": "stream",
          "name": "stdout",
          "text": [
            "{'name': 'kshitiz', 'teaches': ['python', 'data science'], 'age': 26}\n",
            "name = kshitiz\n",
            "teaches = ['python', 'data science']\n",
            "age = 26\n"
          ]
        }
      ]
    },
    {
      "cell_type": "code",
      "source": [
        "# adding key: value pairs  in dictionary"
      ],
      "metadata": {
        "id": "Rfeg7mZpDFnb"
      },
      "execution_count": null,
      "outputs": []
    },
    {
      "cell_type": "code",
      "source": [
        "about={\n",
        "    'name':'kshitiz',\n",
        "    'teaches':['python','data science'],\n",
        "    'age':26\n",
        "\n",
        "}"
      ],
      "metadata": {
        "id": "uSaEkZj7DRIG"
      },
      "execution_count": null,
      "outputs": []
    },
    {
      "cell_type": "code",
      "source": [
        "about['location']='patan' # adding/update key value pair"
      ],
      "metadata": {
        "id": "KJgvKj7jDS7j"
      },
      "execution_count": null,
      "outputs": []
    },
    {
      "cell_type": "code",
      "source": [
        "about"
      ],
      "metadata": {
        "colab": {
          "base_uri": "https://localhost:8080/"
        },
        "id": "m_bcKXj8DYVC",
        "outputId": "4eb01e50-58a5-4536-94ed-b77dc98515be"
      },
      "execution_count": null,
      "outputs": [
        {
          "output_type": "execute_result",
          "data": {
            "text/plain": [
              "{'name': 'kshitiz',\n",
              " 'teaches': ['python', 'data science'],\n",
              " 'age': 26,\n",
              " 'location': 'patan'}"
            ]
          },
          "metadata": {},
          "execution_count": 9
        }
      ]
    },
    {
      "cell_type": "code",
      "source": [
        "about.update({'id':5})  # adding/update key value pair"
      ],
      "metadata": {
        "id": "KmY8RHB3DZZv"
      },
      "execution_count": null,
      "outputs": []
    },
    {
      "cell_type": "code",
      "source": [
        "about"
      ],
      "metadata": {
        "colab": {
          "base_uri": "https://localhost:8080/"
        },
        "id": "0lenor7CDpwx",
        "outputId": "9348eb63-5468-4402-eab4-bf31d83d54a0"
      },
      "execution_count": null,
      "outputs": [
        {
          "output_type": "execute_result",
          "data": {
            "text/plain": [
              "{'name': 'kshitiz',\n",
              " 'teaches': ['python', 'data science'],\n",
              " 'age': 26,\n",
              " 'location': 'patan',\n",
              " 'id': 5}"
            ]
          },
          "metadata": {},
          "execution_count": 11
        }
      ]
    },
    {
      "cell_type": "code",
      "source": [
        "# string list dictionary aaunu par xa majjale"
      ],
      "metadata": {
        "id": "0zq2K40LDrW8"
      },
      "execution_count": null,
      "outputs": []
    },
    {
      "cell_type": "code",
      "source": [
        "about.pop('teaches')"
      ],
      "metadata": {
        "colab": {
          "base_uri": "https://localhost:8080/"
        },
        "id": "YfyIybzSEjlX",
        "outputId": "f6b2dff5-a445-47bb-8372-7e1dd45eff81"
      },
      "execution_count": null,
      "outputs": [
        {
          "output_type": "execute_result",
          "data": {
            "text/plain": [
              "['python', 'data science']"
            ]
          },
          "metadata": {},
          "execution_count": 13
        }
      ]
    },
    {
      "cell_type": "code",
      "source": [
        "about"
      ],
      "metadata": {
        "colab": {
          "base_uri": "https://localhost:8080/"
        },
        "id": "Utrp6mknFABY",
        "outputId": "2fe81708-793a-4651-badc-38177a8d629e"
      },
      "execution_count": null,
      "outputs": [
        {
          "output_type": "execute_result",
          "data": {
            "text/plain": [
              "{'name': 'kshitiz', 'age': 26, 'location': 'patan', 'id': 5}"
            ]
          },
          "metadata": {},
          "execution_count": 14
        }
      ]
    },
    {
      "cell_type": "code",
      "source": [],
      "metadata": {
        "id": "52Qkhpf5FCwm"
      },
      "execution_count": null,
      "outputs": []
    },
    {
      "cell_type": "markdown",
      "source": [
        "# dictionary comprehension"
      ],
      "metadata": {
        "id": "RDCzXM_iFI9n"
      }
    },
    {
      "cell_type": "code",
      "source": [
        "data={1:'one',2:'two',3:'three'}"
      ],
      "metadata": {
        "id": "L3zubiBOFQIG"
      },
      "execution_count": null,
      "outputs": []
    },
    {
      "cell_type": "code",
      "source": [
        "# exchanging key: value pair"
      ],
      "metadata": {
        "id": "Appbc1_GFd35"
      },
      "execution_count": null,
      "outputs": []
    },
    {
      "cell_type": "code",
      "source": [
        "output={val:key for key,val in data.items()}"
      ],
      "metadata": {
        "colab": {
          "base_uri": "https://localhost:8080/"
        },
        "id": "eyP5eerCFjbj",
        "outputId": "b7a43b0e-fba8-4b26-929d-ca30752f96d0"
      },
      "execution_count": null,
      "outputs": [
        {
          "output_type": "execute_result",
          "data": {
            "text/plain": [
              "{'one': 1, 'two': 2, 'three': 3}"
            ]
          },
          "metadata": {},
          "execution_count": 19
        }
      ]
    },
    {
      "cell_type": "code",
      "source": [
        "output={}\n",
        "for key, val in data.items():\n",
        "    output[val]=key\n",
        "print(output)"
      ],
      "metadata": {
        "colab": {
          "base_uri": "https://localhost:8080/"
        },
        "id": "FeS9y_-kFsm7",
        "outputId": "285b9736-01bd-4dd6-e26c-af528d98e996"
      },
      "execution_count": null,
      "outputs": [
        {
          "output_type": "stream",
          "name": "stdout",
          "text": [
            "{'one': 1, 'two': 2, 'three': 3}\n"
          ]
        }
      ]
    },
    {
      "cell_type": "code",
      "source": [],
      "metadata": {
        "id": "Aw7yJOZPGQdx"
      },
      "execution_count": null,
      "outputs": []
    },
    {
      "cell_type": "markdown",
      "source": [
        "# nested dictionary"
      ],
      "metadata": {
        "id": "awbLG2dHHDcp"
      }
    },
    {
      "cell_type": "code",
      "source": [
        "data={\n",
        "    \"child1\":{'name':'ram'},\n",
        "    \"child2\":{'name':'shyam','age':23}\n",
        "}"
      ],
      "metadata": {
        "id": "HPvQYK4fHF3z"
      },
      "execution_count": null,
      "outputs": []
    },
    {
      "cell_type": "code",
      "source": [
        "data['child1']"
      ],
      "metadata": {
        "colab": {
          "base_uri": "https://localhost:8080/"
        },
        "id": "uNYIVvLuIEnG",
        "outputId": "4711ad21-70c2-44e1-cf39-85dc05893e2b"
      },
      "execution_count": null,
      "outputs": [
        {
          "output_type": "execute_result",
          "data": {
            "text/plain": [
              "{'name': 'ram'}"
            ]
          },
          "metadata": {},
          "execution_count": 25
        }
      ]
    },
    {
      "cell_type": "code",
      "source": [
        "data['child1']['name']"
      ],
      "metadata": {
        "colab": {
          "base_uri": "https://localhost:8080/",
          "height": 35
        },
        "id": "bhe0jArvIWqd",
        "outputId": "a537a5d0-c961-4d40-d565-0417dd5e74c5"
      },
      "execution_count": null,
      "outputs": [
        {
          "output_type": "execute_result",
          "data": {
            "text/plain": [
              "'ram'"
            ],
            "application/vnd.google.colaboratory.intrinsic+json": {
              "type": "string"
            }
          },
          "metadata": {},
          "execution_count": 26
        }
      ]
    },
    {
      "cell_type": "code",
      "source": [
        "data['child2']['age']"
      ],
      "metadata": {
        "colab": {
          "base_uri": "https://localhost:8080/"
        },
        "id": "0MxBCeA9IjuD",
        "outputId": "f64ea9f6-f0cc-4f6e-a27c-95fdbf43f0c6"
      },
      "execution_count": null,
      "outputs": [
        {
          "output_type": "execute_result",
          "data": {
            "text/plain": [
              "23"
            ]
          },
          "metadata": {},
          "execution_count": 27
        }
      ]
    },
    {
      "cell_type": "code",
      "source": [
        "data['child1']['age']"
      ],
      "metadata": {
        "colab": {
          "base_uri": "https://localhost:8080/",
          "height": 141
        },
        "id": "W-ld7THoIqoC",
        "outputId": "8abea293-06fb-4286-bfd2-e4cca41a8ed4"
      },
      "execution_count": null,
      "outputs": [
        {
          "output_type": "error",
          "ename": "KeyError",
          "evalue": "'age'",
          "traceback": [
            "\u001b[0;31m---------------------------------------------------------------------------\u001b[0m",
            "\u001b[0;31mKeyError\u001b[0m                                  Traceback (most recent call last)",
            "\u001b[0;32m<ipython-input-28-f61e569565be>\u001b[0m in \u001b[0;36m<cell line: 1>\u001b[0;34m()\u001b[0m\n\u001b[0;32m----> 1\u001b[0;31m \u001b[0mdata\u001b[0m\u001b[0;34m[\u001b[0m\u001b[0;34m'child1'\u001b[0m\u001b[0;34m]\u001b[0m\u001b[0;34m[\u001b[0m\u001b[0;34m'age'\u001b[0m\u001b[0;34m]\u001b[0m\u001b[0;34m\u001b[0m\u001b[0;34m\u001b[0m\u001b[0m\n\u001b[0m",
            "\u001b[0;31mKeyError\u001b[0m: 'age'"
          ]
        }
      ]
    },
    {
      "cell_type": "code",
      "source": [
        "data['child2']['name']"
      ],
      "metadata": {
        "colab": {
          "base_uri": "https://localhost:8080/",
          "height": 35
        },
        "id": "_hL6bYlpIu22",
        "outputId": "d5ebe863-dae7-425f-b82d-33022abeec7e"
      },
      "execution_count": null,
      "outputs": [
        {
          "output_type": "execute_result",
          "data": {
            "text/plain": [
              "'shyam'"
            ],
            "application/vnd.google.colaboratory.intrinsic+json": {
              "type": "string"
            }
          },
          "metadata": {},
          "execution_count": 29
        }
      ]
    },
    {
      "cell_type": "code",
      "source": [
        "# dictionary is known as maping data type"
      ],
      "metadata": {
        "id": "N7E-mSdcI78o"
      },
      "execution_count": null,
      "outputs": []
    },
    {
      "cell_type": "code",
      "source": [],
      "metadata": {
        "id": "cR4Lid-dJEqY"
      },
      "execution_count": null,
      "outputs": []
    }
  ]
}