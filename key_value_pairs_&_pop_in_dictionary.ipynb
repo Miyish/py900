{
  "nbformat": 4,
  "nbformat_minor": 0,
  "metadata": {
    "colab": {
      "provenance": []
    },
    "kernelspec": {
      "name": "python3",
      "display_name": "Python 3"
    },
    "language_info": {
      "name": "python"
    }
  },
  "cells": [
    {
      "cell_type": "markdown",
      "source": [
        "# syntax\n",
        "\n",
        "```python\n",
        "{\n",
        "    key:val1,\n",
        "    key:val2,\n",
        "    key:val3,\n",
        "    ....\n",
        "    keyn:valn\n",
        "}\n",
        "\n",
        "```"
      ],
      "metadata": {
        "id": "J8OqYywibD4_"
      }
    },
    {
      "cell_type": "code",
      "source": [],
      "metadata": {
        "id": "Ah2999tObW4g"
      },
      "execution_count": null,
      "outputs": []
    },
    {
      "cell_type": "code",
      "source": [
        "ak = {\n",
        "    'name':'Kavya',\n",
        "    'caste':'Sharma',\n",
        "    'passion':['running','dancing','smoking'],\n",
        "    'age':23\n",
        "}\n",
        "print (ak.items())\n",
        "for key, val in ak.items():\n",
        "    print(key,'=',val)"
      ],
      "metadata": {
        "colab": {
          "base_uri": "https://localhost:8080/"
        },
        "id": "Y3pi_olgexEl",
        "outputId": "6619da23-c43e-4f8e-92f6-5f109b960798"
      },
      "execution_count": null,
      "outputs": [
        {
          "output_type": "stream",
          "name": "stdout",
          "text": [
            "dict_items([('name', 'Kavya'), ('caste', 'Sharma'), ('passion', ['running', 'dancing', 'smoking']), ('age', 23)])\n",
            "name = Kavya\n",
            "caste = Sharma\n",
            "passion = ['running', 'dancing', 'smoking']\n",
            "age = 23\n"
          ]
        }
      ]
    },
    {
      "cell_type": "code",
      "execution_count": null,
      "metadata": {
        "id": "fbjNhd_tCVXr"
      },
      "outputs": [],
      "source": [
        "about = {\n",
        "    'name': 'Miyosh',\n",
        "    'teaches' : ['python', 'data science'],\n",
        "    'age': 26\n",
        "    }#adding key:value pairs in dictionary"
      ]
    },
    {
      "cell_type": "code",
      "source": [
        "about['name']"
      ],
      "metadata": {
        "colab": {
          "base_uri": "https://localhost:8080/",
          "height": 35
        },
        "id": "Ta4Ji87ubbXm",
        "outputId": "1a162e22-aae4-479f-e413-6958e5b50f9e"
      },
      "execution_count": null,
      "outputs": [
        {
          "output_type": "execute_result",
          "data": {
            "text/plain": [
              "'Miyosh'"
            ],
            "application/vnd.google.colaboratory.intrinsic+json": {
              "type": "string"
            }
          },
          "metadata": {},
          "execution_count": 2
        }
      ]
    },
    {
      "cell_type": "code",
      "source": [
        "about.get(\"age\")"
      ],
      "metadata": {
        "colab": {
          "base_uri": "https://localhost:8080/"
        },
        "id": "P7dIU8Khbjeh",
        "outputId": "6cea15d0-e43b-46fd-af86-d1e76d4f807b"
      },
      "execution_count": null,
      "outputs": [
        {
          "output_type": "execute_result",
          "data": {
            "text/plain": [
              "26"
            ]
          },
          "metadata": {},
          "execution_count": 3
        }
      ]
    },
    {
      "cell_type": "code",
      "source": [
        "about['teaches']"
      ],
      "metadata": {
        "colab": {
          "base_uri": "https://localhost:8080/"
        },
        "id": "R3sqACd6bqyg",
        "outputId": "5e68a58e-2b93-4eec-d56a-862032149a35"
      },
      "execution_count": null,
      "outputs": [
        {
          "output_type": "execute_result",
          "data": {
            "text/plain": [
              "['python', 'data science']"
            ]
          },
          "metadata": {},
          "execution_count": 4
        }
      ]
    },
    {
      "cell_type": "code",
      "source": [
        "about.keys()"
      ],
      "metadata": {
        "colab": {
          "base_uri": "https://localhost:8080/"
        },
        "id": "rIpU0LS4buFu",
        "outputId": "b50a3a99-8be8-41fd-9585-015696d2b61d"
      },
      "execution_count": null,
      "outputs": [
        {
          "output_type": "execute_result",
          "data": {
            "text/plain": [
              "dict_keys(['name', 'teaches', 'age'])"
            ]
          },
          "metadata": {},
          "execution_count": 5
        }
      ]
    },
    {
      "cell_type": "code",
      "source": [
        "about.values()"
      ],
      "metadata": {
        "colab": {
          "base_uri": "https://localhost:8080/"
        },
        "id": "eklsJzXXbxU0",
        "outputId": "4518b3be-c3eb-4b30-b8a6-5e1078b9ec6c"
      },
      "execution_count": null,
      "outputs": [
        {
          "output_type": "execute_result",
          "data": {
            "text/plain": [
              "dict_values(['Miyosh', ['python', 'data science'], 26])"
            ]
          },
          "metadata": {},
          "execution_count": 6
        }
      ]
    },
    {
      "cell_type": "code",
      "source": [
        "about.items()"
      ],
      "metadata": {
        "colab": {
          "base_uri": "https://localhost:8080/"
        },
        "id": "QgwCQ29jDEUM",
        "outputId": "11a4c198-0f2d-4b71-9687-fc1acbdda328"
      },
      "execution_count": null,
      "outputs": [
        {
          "output_type": "execute_result",
          "data": {
            "text/plain": [
              "dict_items([('name', 'Miyosh'), ('teaches', ['python', 'data science']), ('age', 26)])"
            ]
          },
          "metadata": {},
          "execution_count": 2
        }
      ]
    },
    {
      "cell_type": "code",
      "source": [
        "for key, val in about.items():\n",
        "    print(key,'=',val)\n"
      ],
      "metadata": {
        "colab": {
          "base_uri": "https://localhost:8080/"
        },
        "id": "iRCAOBCeC79y",
        "outputId": "bd4ddcd3-7f6e-49eb-b8b8-ba2c9677ee6f"
      },
      "execution_count": null,
      "outputs": [
        {
          "output_type": "stream",
          "name": "stdout",
          "text": [
            "name = Miyosh\n",
            "teaches = ['python', 'data science']\n",
            "age = 26\n"
          ]
        }
      ]
    },
    {
      "cell_type": "code",
      "source": [
        "about['location'] = 'Patan'#this method or"
      ],
      "metadata": {
        "id": "461C7prIDSkB"
      },
      "execution_count": null,
      "outputs": []
    },
    {
      "cell_type": "code",
      "source": [
        "about"
      ],
      "metadata": {
        "colab": {
          "base_uri": "https://localhost:8080/"
        },
        "id": "tKzDhh8TErtA",
        "outputId": "ea767f4d-1725-4ae7-a247-cb4ce5352612"
      },
      "execution_count": null,
      "outputs": [
        {
          "output_type": "execute_result",
          "data": {
            "text/plain": [
              "{'name': 'Miyosh',\n",
              " 'teaches': ['python', 'data science'],\n",
              " 'age': 26,\n",
              " 'location': 'Patan',\n",
              " 'id': 5}"
            ]
          },
          "metadata": {},
          "execution_count": 8
        }
      ]
    },
    {
      "cell_type": "code",
      "source": [
        "about.update({'id':5})#adding key value pair#this method"
      ],
      "metadata": {
        "id": "JWOOltXXDk7b"
      },
      "execution_count": null,
      "outputs": []
    },
    {
      "cell_type": "code",
      "source": [
        "about"
      ],
      "metadata": {
        "colab": {
          "base_uri": "https://localhost:8080/"
        },
        "id": "k31kKP9JDrKI",
        "outputId": "63b6e13b-8bdc-42fe-cb95-8acd9dc83917"
      },
      "execution_count": null,
      "outputs": [
        {
          "output_type": "execute_result",
          "data": {
            "text/plain": [
              "{'name': 'Miyosh',\n",
              " 'teaches': ['python', 'data science'],\n",
              " 'age': 26,\n",
              " 'location': 'Patan',\n",
              " 'id': 5}"
            ]
          },
          "metadata": {},
          "execution_count": 6
        }
      ]
    },
    {
      "cell_type": "code",
      "source": [
        "about .pop('teaches')"
      ],
      "metadata": {
        "colab": {
          "base_uri": "https://localhost:8080/"
        },
        "id": "W1x5DAZNDsXQ",
        "outputId": "5a508494-3d76-4b7f-86f0-6cf3c1b051e0"
      },
      "execution_count": null,
      "outputs": [
        {
          "output_type": "execute_result",
          "data": {
            "text/plain": [
              "['python', 'data science']"
            ]
          },
          "metadata": {},
          "execution_count": 10
        }
      ]
    },
    {
      "cell_type": "code",
      "source": [
        "about"
      ],
      "metadata": {
        "colab": {
          "base_uri": "https://localhost:8080/"
        },
        "id": "7hG8qb9yFFzL",
        "outputId": "f333aa68-81be-47f0-ad00-704df9799633"
      },
      "execution_count": null,
      "outputs": [
        {
          "output_type": "execute_result",
          "data": {
            "text/plain": [
              "{'name': 'Miyosh', 'age': 26, 'location': 'Patan', 'id': 5}"
            ]
          },
          "metadata": {},
          "execution_count": 11
        }
      ]
    },
    {
      "cell_type": "code",
      "source": [
        "Details = {\n",
        "    'name':'Kavya',\n",
        "    'caste':'Sharma',\n",
        "    'passion':['running','dancing','smoking'],\n",
        "    'age':23\n",
        "}\n",
        "for key,val in Details.items():\n",
        "    print(key,'=',val)"
      ],
      "metadata": {
        "colab": {
          "base_uri": "https://localhost:8080/"
        },
        "id": "tBQ2VXtifWTV",
        "outputId": "bc4ed1b0-c16e-433b-ff1c-df24452a2f15"
      },
      "execution_count": null,
      "outputs": [
        {
          "output_type": "stream",
          "name": "stdout",
          "text": [
            "name = Kavya\n",
            "caste = Sharma\n",
            "passion = ['running', 'dancing', 'smoking']\n",
            "age = 23\n"
          ]
        }
      ]
    },
    {
      "cell_type": "code",
      "source": [
        "Languages = {\n",
        "    1:'Python',\n",
        "    2:'Java',\n",
        "    3:'Java',\n",
        "    4:'C'\n",
        "}\n",
        "for key,val in Languages.items():\n",
        "    print(key,'.',val)\n",
        "print(Languages.values())"
      ],
      "metadata": {
        "colab": {
          "base_uri": "https://localhost:8080/"
        },
        "id": "NDw5IREmf2SE",
        "outputId": "2a5dd64c-8972-484f-8796-a6bbf14b30f9"
      },
      "execution_count": null,
      "outputs": [
        {
          "output_type": "stream",
          "name": "stdout",
          "text": [
            "1 . Python\n",
            "2 . Java\n",
            "3 . Java\n",
            "4 . C\n",
            "dict_values(['Python', 'Java', 'Java', 'C'])\n"
          ]
        }
      ]
    },
    {
      "cell_type": "code",
      "source": [],
      "metadata": {
        "id": "AWJHhSUIhGKG"
      },
      "execution_count": null,
      "outputs": []
    },
    {
      "cell_type": "code",
      "source": [
        "Fruits = {'One':'Apple',\n",
        "          'Two':'Banana',\n",
        "          'Three':'Orange',\n",
        "          'Four':'Grape',\n",
        "\n",
        "}\n",
        "Fruits.update({'Five':'Berry'})\n",
        "Fruits.pop('Two')\n",
        "for key,val in Fruits.items():\n",
        "    print(key,'=',val)\n",
        "Fruits.get('One')\n",
        "\n",
        "\n",
        "\n"
      ],
      "metadata": {
        "colab": {
          "base_uri": "https://localhost:8080/",
          "height": 104
        },
        "id": "9pIKAdbWgcuy",
        "outputId": "db3ba331-c848-4a7a-f1b0-8cd6646d1b26"
      },
      "execution_count": null,
      "outputs": [
        {
          "output_type": "stream",
          "name": "stdout",
          "text": [
            "One = Apple\n",
            "Three = Orange\n",
            "Four = Grape\n",
            "Five = Berry\n"
          ]
        },
        {
          "output_type": "execute_result",
          "data": {
            "text/plain": [
              "'Apple'"
            ],
            "application/vnd.google.colaboratory.intrinsic+json": {
              "type": "string"
            }
          },
          "metadata": {},
          "execution_count": 39
        }
      ]
    },
    {
      "cell_type": "code",
      "source": [
        "Fruits.get('One')"
      ],
      "metadata": {
        "id": "REKr6Djmh8gJ"
      },
      "execution_count": null,
      "outputs": []
    },
    {
      "cell_type": "markdown",
      "source": [
        "# Dictionary comprehension"
      ],
      "metadata": {
        "id": "qWULc732FNCi"
      }
    },
    {
      "cell_type": "code",
      "source": [
        "data={1:'one',2:'two',3:'three'}\n",
        "data"
      ],
      "metadata": {
        "colab": {
          "base_uri": "https://localhost:8080/"
        },
        "id": "651E5fqpFH_Y",
        "outputId": "cbed6b70-4dff-46da-b147-ff98c29b03a5"
      },
      "execution_count": null,
      "outputs": [
        {
          "output_type": "execute_result",
          "data": {
            "text/plain": [
              "{1: 'one', 2: 'two', 3: 'three'}"
            ]
          },
          "metadata": {},
          "execution_count": 11
        }
      ]
    },
    {
      "cell_type": "code",
      "source": [
        "#how to exchange key:value pair?"
      ],
      "metadata": {
        "id": "Y_l18unLFdz6"
      },
      "execution_count": null,
      "outputs": []
    },
    {
      "cell_type": "code",
      "source": [
        "output = {val:key for key, val in data.items()}\n",
        "output"
      ],
      "metadata": {
        "colab": {
          "base_uri": "https://localhost:8080/"
        },
        "id": "2Q1bBnnsFjzg",
        "outputId": "20808cbc-c2f6-4205-bfcc-d603805a3e09"
      },
      "execution_count": null,
      "outputs": [
        {
          "output_type": "execute_result",
          "data": {
            "text/plain": [
              "{'one': 1, 'two': 2, 'three': 3}"
            ]
          },
          "metadata": {},
          "execution_count": 15
        }
      ]
    },
    {
      "cell_type": "code",
      "source": [
        "output={}\n",
        "for key, val in data.items():\n",
        "    output[val]=key\n",
        "print(output)"
      ],
      "metadata": {
        "colab": {
          "base_uri": "https://localhost:8080/"
        },
        "id": "EXWAuaShFssI",
        "outputId": "d0033ef8-a922-43ab-aed4-37e4082e84ee"
      },
      "execution_count": null,
      "outputs": [
        {
          "output_type": "stream",
          "name": "stdout",
          "text": [
            "{'one': 1, 'two': 2, 'three': 3}\n"
          ]
        }
      ]
    },
    {
      "cell_type": "code",
      "source": [
        "data={'Ram':'one','Sita':'two','Hari':'three'}\n",
        "output = {key:val for val, key in data.items()}\n",
        "print(output)"
      ],
      "metadata": {
        "colab": {
          "base_uri": "https://localhost:8080/"
        },
        "id": "590Wi80ivF4E",
        "outputId": "c55e0c96-ad3a-40f7-a494-45aa18a69e5e"
      },
      "execution_count": null,
      "outputs": [
        {
          "output_type": "stream",
          "name": "stdout",
          "text": [
            "{'one': 'Ram', 'two': 'Sita', 'three': 'Hari'}\n"
          ]
        }
      ]
    },
    {
      "cell_type": "code",
      "source": [
        "data={'Ram':1,'Sita':'two','Hari':'three'}\n",
        "output = {key:val for val, key in data.items()}\n",
        "output"
      ],
      "metadata": {
        "colab": {
          "base_uri": "https://localhost:8080/"
        },
        "id": "boY3iAm1wupT",
        "outputId": "2679e61b-eaa0-4788-9426-86b2756b232a"
      },
      "execution_count": null,
      "outputs": [
        {
          "output_type": "execute_result",
          "data": {
            "text/plain": [
              "{1: 'Ram', 'two': 'Sita', 'three': 'Hari'}"
            ]
          },
          "metadata": {},
          "execution_count": 20
        }
      ]
    },
    {
      "cell_type": "code",
      "source": [
        "data={'Ram':'one','Sita':'two','Hari':'three'}\n",
        "output = {key:val for val, key in data.items()}\n",
        "output"
      ],
      "metadata": {
        "colab": {
          "base_uri": "https://localhost:8080/"
        },
        "id": "X3BLwEdWxRdd",
        "outputId": "8eb7650b-01ff-4ef6-c63a-d4fcddfeb1fa"
      },
      "execution_count": null,
      "outputs": [
        {
          "output_type": "execute_result",
          "data": {
            "text/plain": [
              "{'one': 'Ram', 'two': 'Sita', 'three': 'Hari'}"
            ]
          },
          "metadata": {},
          "execution_count": 21
        }
      ]
    },
    {
      "cell_type": "markdown",
      "source": [
        "# Nested dictionary"
      ],
      "metadata": {
        "id": "gncWL0xbGlrW"
      }
    },
    {
      "cell_type": "code",
      "source": [
        "data = {\n",
        "    'child1':{'name':'ram'},\n",
        "    'child2':{'name':'shyam','age':23}\n",
        "}\n",
        "data"
      ],
      "metadata": {
        "colab": {
          "base_uri": "https://localhost:8080/"
        },
        "id": "yAVMDrTdGHzp",
        "outputId": "77f34952-16d0-46cc-8a20-f2898b77049d"
      },
      "execution_count": null,
      "outputs": [
        {
          "output_type": "execute_result",
          "data": {
            "text/plain": [
              "{'child1': {'name': 'ram'}, 'child2': {'name': 'shyam', 'age': 23}}"
            ]
          },
          "metadata": {},
          "execution_count": 18
        }
      ]
    },
    {
      "cell_type": "code",
      "source": [
        "data['child1']"
      ],
      "metadata": {
        "colab": {
          "base_uri": "https://localhost:8080/"
        },
        "id": "Fx8e-8L6IGN7",
        "outputId": "82b7e5f3-9870-4d45-fd92-9e3fb008c175"
      },
      "execution_count": null,
      "outputs": [
        {
          "output_type": "execute_result",
          "data": {
            "text/plain": [
              "{'name': 'ram'}"
            ]
          },
          "metadata": {},
          "execution_count": 19
        }
      ]
    },
    {
      "cell_type": "code",
      "source": [
        "data['child1'] ['name']"
      ],
      "metadata": {
        "colab": {
          "base_uri": "https://localhost:8080/",
          "height": 35
        },
        "id": "7LiSWagzIa8P",
        "outputId": "03504b7c-50b0-4426-fbcd-52c06e0b6dba"
      },
      "execution_count": null,
      "outputs": [
        {
          "output_type": "execute_result",
          "data": {
            "text/plain": [
              "'ram'"
            ],
            "application/vnd.google.colaboratory.intrinsic+json": {
              "type": "string"
            }
          },
          "metadata": {},
          "execution_count": 20
        }
      ]
    },
    {
      "cell_type": "code",
      "source": [
        "data['child2'] ['age']"
      ],
      "metadata": {
        "colab": {
          "base_uri": "https://localhost:8080/"
        },
        "id": "50uQIyPDIjVP",
        "outputId": "965467f1-eb36-439c-827c-e68b5fd00976"
      },
      "execution_count": null,
      "outputs": [
        {
          "output_type": "execute_result",
          "data": {
            "text/plain": [
              "23"
            ]
          },
          "metadata": {},
          "execution_count": 21
        }
      ]
    },
    {
      "cell_type": "code",
      "source": [
        "data['child1'] ['age']"
      ],
      "metadata": {
        "colab": {
          "base_uri": "https://localhost:8080/",
          "height": 141
        },
        "id": "kon4glvOIpPH",
        "outputId": "ac7278e9-3c61-4d07-957a-e6f8657ebb38"
      },
      "execution_count": null,
      "outputs": [
        {
          "output_type": "error",
          "ename": "KeyError",
          "evalue": "'age'",
          "traceback": [
            "\u001b[0;31m---------------------------------------------------------------------------\u001b[0m",
            "\u001b[0;31mKeyError\u001b[0m                                  Traceback (most recent call last)",
            "\u001b[0;32m<ipython-input-22-6bd7a5a59925>\u001b[0m in \u001b[0;36m<cell line: 1>\u001b[0;34m()\u001b[0m\n\u001b[0;32m----> 1\u001b[0;31m \u001b[0mdata\u001b[0m\u001b[0;34m[\u001b[0m\u001b[0;34m'child1'\u001b[0m\u001b[0;34m]\u001b[0m \u001b[0;34m[\u001b[0m\u001b[0;34m'age'\u001b[0m\u001b[0;34m]\u001b[0m\u001b[0;34m\u001b[0m\u001b[0;34m\u001b[0m\u001b[0m\n\u001b[0m",
            "\u001b[0;31mKeyError\u001b[0m: 'age'"
          ]
        }
      ]
    },
    {
      "cell_type": "code",
      "source": [
        "#dictionary is mapping data type"
      ],
      "metadata": {
        "id": "iT5WPMenIwAv"
      },
      "execution_count": null,
      "outputs": []
    },
    {
      "cell_type": "markdown",
      "source": [
        "# File handling"
      ],
      "metadata": {
        "id": "xfFQvl0FKHmW"
      }
    },
    {
      "cell_type": "markdown",
      "source": [
        "# syntax\n",
        "\n",
        "`file = open(filename,mode)`\n",
        "mode types:\n",
        "* read : 'r'\n",
        "* write : 'w'\n",
        "* create : 'x'\n",
        "* append : 'a'\n",
        "\n",
        "At the end you have to close a file,\n",
        "`* file.close()`"
      ],
      "metadata": {
        "id": "JPwd-AdVKM80"
      }
    },
    {
      "cell_type": "code",
      "source": [
        "import os\n",
        "os.path.exists('broadway.txt')"
      ],
      "metadata": {
        "colab": {
          "base_uri": "https://localhost:8080/"
        },
        "id": "n9U7mlD2JIE_",
        "outputId": "bedb037e-cd5b-43cd-a48f-ecb28a234cee"
      },
      "execution_count": null,
      "outputs": [
        {
          "output_type": "execute_result",
          "data": {
            "text/plain": [
              "False"
            ]
          },
          "metadata": {},
          "execution_count": 3
        }
      ]
    },
    {
      "cell_type": "code",
      "source": [
        "#the file doesn't exist yet so it is false"
      ],
      "metadata": {
        "id": "18O8IQa3LH05"
      },
      "execution_count": null,
      "outputs": []
    },
    {
      "cell_type": "code",
      "source": [
        "file = open('broadway.txt','x')\n",
        "file.close()"
      ],
      "metadata": {
        "id": "ZS0k_HXKLSa2"
      },
      "execution_count": null,
      "outputs": []
    },
    {
      "cell_type": "code",
      "source": [
        "os.path.exists('broadway.txt')"
      ],
      "metadata": {
        "colab": {
          "base_uri": "https://localhost:8080/"
        },
        "id": "M2OsVlP8LfiA",
        "outputId": "d2b90a28-ffa7-4310-a706-cb8ec03accee"
      },
      "execution_count": null,
      "outputs": [
        {
          "output_type": "execute_result",
          "data": {
            "text/plain": [
              "True"
            ]
          },
          "metadata": {},
          "execution_count": 6
        }
      ]
    },
    {
      "cell_type": "markdown",
      "source": [
        "# Read"
      ],
      "metadata": {
        "id": "_hb3neoOMc97"
      }
    },
    {
      "cell_type": "code",
      "source": [
        "file = open ('student.txt','r')\n",
        "content = file.read()\n",
        "file.close()"
      ],
      "metadata": {
        "colab": {
          "base_uri": "https://localhost:8080/",
          "height": 176
        },
        "id": "ryN6faA7LlzP",
        "outputId": "fd2769d4-41e6-429e-962a-1bebd188e0b5"
      },
      "execution_count": null,
      "outputs": [
        {
          "output_type": "error",
          "ename": "FileNotFoundError",
          "evalue": "[Errno 2] No such file or directory: 'student.txt'",
          "traceback": [
            "\u001b[0;31m---------------------------------------------------------------------------\u001b[0m",
            "\u001b[0;31mFileNotFoundError\u001b[0m                         Traceback (most recent call last)",
            "\u001b[0;32m<ipython-input-7-40b60dfa515f>\u001b[0m in \u001b[0;36m<cell line: 1>\u001b[0;34m()\u001b[0m\n\u001b[0;32m----> 1\u001b[0;31m \u001b[0mfile\u001b[0m \u001b[0;34m=\u001b[0m \u001b[0mopen\u001b[0m \u001b[0;34m(\u001b[0m\u001b[0;34m'student.txt'\u001b[0m\u001b[0;34m,\u001b[0m\u001b[0;34m'r'\u001b[0m\u001b[0;34m)\u001b[0m\u001b[0;34m\u001b[0m\u001b[0;34m\u001b[0m\u001b[0m\n\u001b[0m\u001b[1;32m      2\u001b[0m \u001b[0mcontent\u001b[0m \u001b[0;34m=\u001b[0m \u001b[0mfile\u001b[0m\u001b[0;34m.\u001b[0m\u001b[0mread\u001b[0m\u001b[0;34m(\u001b[0m\u001b[0;34m)\u001b[0m\u001b[0;34m\u001b[0m\u001b[0;34m\u001b[0m\u001b[0m\n\u001b[1;32m      3\u001b[0m \u001b[0mfile\u001b[0m\u001b[0;34m.\u001b[0m\u001b[0mclose\u001b[0m\u001b[0;34m(\u001b[0m\u001b[0;34m)\u001b[0m\u001b[0;34m\u001b[0m\u001b[0;34m\u001b[0m\u001b[0m\n",
            "\u001b[0;31mFileNotFoundError\u001b[0m: [Errno 2] No such file or directory: 'student.txt'"
          ]
        }
      ]
    },
    {
      "cell_type": "code",
      "source": [
        "try:\n",
        "    file = open('student.txt','r')\n",
        "    content = file.read()\n",
        "    file.close()\n",
        "except Exception as e:\n",
        "    print(e)"
      ],
      "metadata": {
        "colab": {
          "base_uri": "https://localhost:8080/"
        },
        "id": "-hwPy5ztMs4w",
        "outputId": "ba855366-6fb3-4f5c-b44e-52d7b2b25bee"
      },
      "execution_count": null,
      "outputs": [
        {
          "output_type": "stream",
          "name": "stdout",
          "text": [
            "[Errno 2] No such file or directory: 'student.txt'\n"
          ]
        }
      ]
    },
    {
      "cell_type": "markdown",
      "source": [
        "# write mode\n",
        "* write mode ma file exist garepani wa nagarepani naya file banxa.old file ko data loss huncha"
      ],
      "metadata": {
        "id": "fTxwc6GRNUQv"
      }
    },
    {
      "cell_type": "code",
      "source": [
        "file = open('student.txt','w')\n",
        "file.write('Swastika\\n')#backslash n le naya line ma print garcha\n",
        "file.write('MD Samir')\n",
        "file.close()\n"
      ],
      "metadata": {
        "id": "5C8-WRFUNKeg"
      },
      "execution_count": null,
      "outputs": []
    },
    {
      "cell_type": "code",
      "source": [
        "file = open('student.txt','r')\n",
        "content = file.read()\n",
        "file.close()\n",
        "print (content)"
      ],
      "metadata": {
        "colab": {
          "base_uri": "https://localhost:8080/"
        },
        "id": "LTNNlE9nOJvQ",
        "outputId": "e707d9ea-1c50-4b48-b220-c993a786541a"
      },
      "execution_count": null,
      "outputs": [
        {
          "output_type": "stream",
          "name": "stdout",
          "text": [
            "Swastika\n",
            "MD Samir\n"
          ]
        }
      ]
    },
    {
      "cell_type": "code",
      "source": [
        "file = open('student.txt','w')\n",
        "file.write('Rajat\\n')#backslash n le naya line ma print garcha\n",
        "file.write('Miyosh')\n",
        "file.close()\n"
      ],
      "metadata": {
        "id": "BDNg7VHaO0nX"
      },
      "execution_count": null,
      "outputs": []
    },
    {
      "cell_type": "code",
      "source": [
        "file = open('student.txt','r')\n",
        "content = file.read()\n",
        "file.close()\n",
        "print (content)"
      ],
      "metadata": {
        "colab": {
          "base_uri": "https://localhost:8080/"
        },
        "id": "VN11dZK2PSrR",
        "outputId": "86e1d3c2-3781-45db-8a71-d0fa597ed35f"
      },
      "execution_count": null,
      "outputs": [
        {
          "output_type": "stream",
          "name": "stdout",
          "text": [
            "Rajat\n",
            "Miyosh\n"
          ]
        }
      ]
    },
    {
      "cell_type": "markdown",
      "source": [
        "#Append mode\n",
        "\n",
        "> file exist gardaina bhane naya create hunxa\n",
        "\n",
        "\n",
        "1.   file exist garxa bhane purano ma append huncha;data loss hudaina\n",
        "\n",
        "\n"
      ],
      "metadata": {
        "id": "oQ8SUUQ2QpZD"
      }
    },
    {
      "cell_type": "code",
      "source": [
        "file = open('tinkune.txt','a')\n",
        "file.write('Kshitiz\\n')\n",
        "file.close()"
      ],
      "metadata": {
        "id": "7KWDL2_ePVjX"
      },
      "execution_count": null,
      "outputs": []
    },
    {
      "cell_type": "code",
      "source": [
        "file = open('tinkune.txt','a')\n",
        "file.write('Binita\\n')\n",
        "file.write('Rojan\\n')\n",
        "file.write('Anurodh')\n",
        "file.close()"
      ],
      "metadata": {
        "id": "Yh1tLxzyRiAH"
      },
      "execution_count": null,
      "outputs": []
    },
    {
      "cell_type": "code",
      "source": [
        "file = open('tinkune.txt','r')\n",
        "content = file.read()\n",
        "print (content)"
      ],
      "metadata": {
        "colab": {
          "base_uri": "https://localhost:8080/"
        },
        "id": "yyqHYfJYSOSV",
        "outputId": "42bea0c4-c135-4782-9c7b-10f0844482d4"
      },
      "execution_count": null,
      "outputs": [
        {
          "output_type": "stream",
          "name": "stdout",
          "text": [
            "Kshitiz\n",
            "Binita\n",
            "Rojan\n",
            "Anurodh\n"
          ]
        }
      ]
    },
    {
      "cell_type": "code",
      "source": [
        "#new technique\n",
        "with open('tinkune.txt','r') as file:\n",
        "    content = file.read()\n",
        "print(content)"
      ],
      "metadata": {
        "colab": {
          "base_uri": "https://localhost:8080/"
        },
        "id": "9Ke6MHT4Ru_Q",
        "outputId": "fa0940d0-4fcf-4e07-9a63-323fdfe990e0"
      },
      "execution_count": null,
      "outputs": [
        {
          "output_type": "stream",
          "name": "stdout",
          "text": [
            "Kshitiz\n",
            "Binita\n",
            "Rojan\n",
            "Anurodh\n"
          ]
        }
      ]
    },
    {
      "cell_type": "code",
      "source": [
        "with open('tinkune.txt','r') as file:\n",
        "    content = file.readline()#line\n",
        "print(content)"
      ],
      "metadata": {
        "colab": {
          "base_uri": "https://localhost:8080/"
        },
        "id": "WfzwYb1wSGrX",
        "outputId": "171fd17a-6b0b-4b28-b582-2519a64147b3"
      },
      "execution_count": null,
      "outputs": [
        {
          "output_type": "stream",
          "name": "stdout",
          "text": [
            "Kshitiz\n",
            "\n"
          ]
        }
      ]
    },
    {
      "cell_type": "code",
      "source": [
        "with open('tinkune.txt','r') as file:\n",
        "    content = file.readlines()#lines\n",
        "print(content)"
      ],
      "metadata": {
        "colab": {
          "base_uri": "https://localhost:8080/"
        },
        "id": "LhXGb7PgTMUf",
        "outputId": "b0c06184-47fa-4565-a301-4f80f5fe7fe8"
      },
      "execution_count": null,
      "outputs": [
        {
          "output_type": "stream",
          "name": "stdout",
          "text": [
            "['Kshitiz\\n', 'Binita\\n', 'Rojan\\n', 'Anurodh']\n"
          ]
        }
      ]
    },
    {
      "cell_type": "code",
      "source": [],
      "metadata": {
        "id": "y8r-cxfSTRrY"
      },
      "execution_count": null,
      "outputs": []
    }
  ]
}