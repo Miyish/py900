{
  "nbformat": 4,
  "nbformat_minor": 0,
  "metadata": {
    "colab": {
      "provenance": []
    },
    "kernelspec": {
      "name": "python3",
      "display_name": "Python 3"
    },
    "language_info": {
      "name": "python"
    }
  },
  "cells": [
    {
      "cell_type": "code",
      "execution_count": null,
      "metadata": {
        "colab": {
          "base_uri": "https://localhost:8080/"
        },
        "id": "4i9g2joRWDJv",
        "outputId": "8c66ebef-f330-413f-8198-4f379d4f017c"
      },
      "outputs": [
        {
          "output_type": "stream",
          "name": "stdout",
          "text": [
            "False\n",
            "True\n"
          ]
        }
      ],
      "source": [
        "a = 5 # assignment operator\n",
        "print(a == 10) #a and 10 barabar ho? bhanera check garna.\n",
        "print(a != 10)#a is not equal to 10?"
      ]
    },
    {
      "cell_type": "code",
      "source": [
        "a= int(input(\"enter your no.\")) #program to check if input is 5 then hello else bye.\n",
        "if a==5:\n",
        "  print(\"Hello\")\n",
        "else:\n",
        "    print(\"Bye\")"
      ],
      "metadata": {
        "colab": {
          "base_uri": "https://localhost:8080/"
        },
        "id": "lYEjnHOBW6j-",
        "outputId": "83f27767-039a-4181-b039-b4489808de81"
      },
      "execution_count": null,
      "outputs": [
        {
          "output_type": "stream",
          "name": "stdout",
          "text": [
            "enter your no.5\n",
            "Hello\n"
          ]
        }
      ]
    },
    {
      "cell_type": "code",
      "source": [
        "a = int(input(\"enter your age; \"))      #to check if a person is eligible to vote.\n",
        "if a>=18:\n",
        "    print(\"you can vote\")\n",
        "elif\n",
        "else:\n",
        "    print(\"you are ungerage\")"
      ],
      "metadata": {
        "colab": {
          "base_uri": "https://localhost:8080/"
        },
        "id": "2vF8sbAbYhVa",
        "outputId": "c7851cc3-32fd-4059-b28d-6c24dd7b7ba2"
      },
      "execution_count": null,
      "outputs": [
        {
          "output_type": "stream",
          "name": "stdout",
          "text": [
            "enter your age; 2\n",
            "you are ungerage\n"
          ]
        }
      ]
    },
    {
      "cell_type": "code",
      "source": [
        "#4 spaces or 1 tab is called indentation; it is used to identify block of code."
      ],
      "metadata": {
        "id": "LbO3rnjcZj0f"
      },
      "execution_count": null,
      "outputs": []
    },
    {
      "cell_type": "code",
      "source": [],
      "metadata": {
        "id": "8SUxC6UlbFpr"
      },
      "execution_count": null,
      "outputs": []
    }
  ]
}