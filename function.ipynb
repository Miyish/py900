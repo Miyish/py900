{
  "nbformat": 4,
  "nbformat_minor": 0,
  "metadata": {
    "colab": {
      "provenance": []
    },
    "kernelspec": {
      "name": "python3",
      "display_name": "Python 3"
    },
    "language_info": {
      "name": "python"
    }
  },
  "cells": [
    {
      "cell_type": "code",
      "execution_count": null,
      "metadata": {
        "colab": {
          "base_uri": "https://localhost:8080/"
        },
        "id": "2DN_cStAU009",
        "outputId": "ce188942-a892-4120-b99c-e34a60518241"
      },
      "outputs": [
        {
          "output_type": "stream",
          "name": "stdout",
          "text": [
            "5\n"
          ]
        }
      ],
      "source": [
        "a = 2\n",
        "b = 3\n",
        "c = a+b\n",
        "print(c)"
      ]
    },
    {
      "cell_type": "code",
      "source": [
        "def addition():\n",
        "    a = 2\n",
        "    b = 3\n",
        "    c = a+ b\n",
        "    print(c)#function bhitra print or return garnuparcha"
      ],
      "metadata": {
        "id": "NyEawcEeX2VN"
      },
      "execution_count": null,
      "outputs": []
    },
    {
      "cell_type": "code",
      "source": [
        "addition()\n",
        "addition()\n",
        "addition()\n",
        "addition()"
      ],
      "metadata": {
        "colab": {
          "base_uri": "https://localhost:8080/"
        },
        "id": "_0rx0FwAYOVc",
        "outputId": "9268669f-755f-464f-89f9-e395147a1c51"
      },
      "execution_count": null,
      "outputs": [
        {
          "output_type": "stream",
          "name": "stdout",
          "text": [
            "5\n",
            "5\n",
            "5\n",
            "5\n"
          ]
        }
      ]
    },
    {
      "cell_type": "code",
      "source": [
        "def addition():\n",
        "    a = 2\n",
        "    b = 3\n",
        "    c = a+ b\n",
        "    return c#saves value for future use\n"
      ],
      "metadata": {
        "id": "ueflwnLLYSm0"
      },
      "execution_count": null,
      "outputs": []
    },
    {
      "cell_type": "code",
      "source": [
        "total = addition()\n",
        "total*5"
      ],
      "metadata": {
        "colab": {
          "base_uri": "https://localhost:8080/"
        },
        "id": "TOonAQAzZJ9R",
        "outputId": "b8bd0f8d-0d57-4acf-804d-3a3e7d6d7b38"
      },
      "execution_count": null,
      "outputs": [
        {
          "output_type": "execute_result",
          "data": {
            "text/plain": [
              "25"
            ]
          },
          "metadata": {},
          "execution_count": 7
        }
      ]
    },
    {
      "cell_type": "code",
      "source": [
        "#real now hai function"
      ],
      "metadata": {
        "id": "1tRV7flxZQeK"
      },
      "execution_count": null,
      "outputs": []
    },
    {
      "cell_type": "code",
      "source": [
        "def addition(a,b):#a & b are arguement\n",
        "    c=a+b\n",
        "    return c"
      ],
      "metadata": {
        "id": "c0pSr-stZtza"
      },
      "execution_count": null,
      "outputs": []
    },
    {
      "cell_type": "code",
      "source": [
        "addition(a = 2,b = 5)"
      ],
      "metadata": {
        "colab": {
          "base_uri": "https://localhost:8080/"
        },
        "id": "SOJ4gsyoZ2Ji",
        "outputId": "d38c01aa-4419-49d4-8e21-c49dc845ca25"
      },
      "execution_count": null,
      "outputs": [
        {
          "output_type": "execute_result",
          "data": {
            "text/plain": [
              "7"
            ]
          },
          "metadata": {},
          "execution_count": 12
        }
      ]
    },
    {
      "cell_type": "code",
      "source": [
        "#sab assignment operator ko function banaune\n",
        "#volume of sphere\n"
      ],
      "metadata": {
        "id": "XiHDoT2UZ7oC"
      },
      "execution_count": null,
      "outputs": []
    },
    {
      "cell_type": "code",
      "source": [
        "def sub(x,y):\n",
        "    c = x - y\n",
        "    return c\n",
        "x= int (input ('enter a no.:'))\n",
        "y= int(input('enter a no.:'))\n",
        "diff = sub(x=x,y=y)\n",
        "print(diff)"
      ],
      "metadata": {
        "id": "72SCM7DVaSYZ",
        "colab": {
          "base_uri": "https://localhost:8080/"
        },
        "outputId": "4ced764b-cdf5-4489-a184-1354091364b4"
      },
      "execution_count": null,
      "outputs": [
        {
          "output_type": "stream",
          "name": "stdout",
          "text": [
            "enter a no.:55\n",
            "enter a no.:3\n",
            "52\n"
          ]
        }
      ]
    },
    {
      "cell_type": "code",
      "source": [
        "def sub(x,y):\n",
        "    c = x - y\n",
        "    return c\n",
        "a= int (input ('enter a no.:'))\n",
        "b= int(input('enter a no.:'))\n",
        "diff = sub(x=a,y=b)\n",
        "print(diff)"
      ],
      "metadata": {
        "colab": {
          "base_uri": "https://localhost:8080/"
        },
        "id": "EeLKKdDjV9Gp",
        "outputId": "a7ff7180-8c90-4fa2-bc32-a8098dacd3fd"
      },
      "execution_count": null,
      "outputs": [
        {
          "output_type": "stream",
          "name": "stdout",
          "text": [
            "enter a no.:5\n",
            "enter a no.:3\n",
            "2\n"
          ]
        }
      ]
    },
    {
      "cell_type": "code",
      "source": [
        "def test():\n",
        "    global name#global use garesi you can use the variable outside the function\n",
        "    name = 'ram'\n",
        "    print(name)"
      ],
      "metadata": {
        "id": "nDyIhmeeWH-w"
      },
      "execution_count": null,
      "outputs": []
    },
    {
      "cell_type": "code",
      "source": [
        "test()#global use garexa bhane function ma function call garesi tyo local variable global hunca"
      ],
      "metadata": {
        "colab": {
          "base_uri": "https://localhost:8080/"
        },
        "id": "ZnhJXgKkXRXH",
        "outputId": "08cc751b-a4cf-48b2-c40d-1a9b38910e2c"
      },
      "execution_count": null,
      "outputs": [
        {
          "output_type": "stream",
          "name": "stdout",
          "text": [
            "ram\n"
          ]
        }
      ]
    },
    {
      "cell_type": "code",
      "source": [
        "name"
      ],
      "metadata": {
        "colab": {
          "base_uri": "https://localhost:8080/",
          "height": 35
        },
        "id": "UwVrURcZXUzV",
        "outputId": "9fb97472-1d40-40f5-ed74-a255ca4a7b9e"
      },
      "execution_count": null,
      "outputs": [
        {
          "output_type": "execute_result",
          "data": {
            "text/plain": [
              "'ram'"
            ],
            "application/vnd.google.colaboratory.intrinsic+json": {
              "type": "string"
            }
          },
          "metadata": {},
          "execution_count": 5
        }
      ]
    },
    {
      "cell_type": "code",
      "source": [
        "def greet(name,msg):\n",
        "    print(f'Hi {name}, {msg}.')\n",
        "greet(name='Miyosh',msg='Good Morning')"
      ],
      "metadata": {
        "colab": {
          "base_uri": "https://localhost:8080/"
        },
        "id": "GvcZIFw_XWV9",
        "outputId": "818b2999-e9c5-4a89-fa5b-ad1b4fc92523"
      },
      "execution_count": null,
      "outputs": [
        {
          "output_type": "stream",
          "name": "stdout",
          "text": [
            "Hi Miyosh, Good Morning.\n"
          ]
        }
      ]
    },
    {
      "cell_type": "code",
      "source": [
        "def greet(name,msg='Good Morning'):#name is non default argument,msg is a default argument\n",
        "    print(f'Hi {name}, {msg}.')"
      ],
      "metadata": {
        "id": "UaMzCb39YrOW"
      },
      "execution_count": null,
      "outputs": []
    },
    {
      "cell_type": "code",
      "source": [
        "greet(name='Miyosh')"
      ],
      "metadata": {
        "colab": {
          "base_uri": "https://localhost:8080/"
        },
        "id": "k_amSDxqZUOV",
        "outputId": "5739f120-0967-44f1-e9da-3eeab7f2180e"
      },
      "execution_count": null,
      "outputs": [
        {
          "output_type": "stream",
          "name": "stdout",
          "text": [
            "Hi Miyosh, Good Morning.\n"
          ]
        }
      ]
    },
    {
      "cell_type": "code",
      "source": [
        "greet(name='MD samir',msg='Good afternoon')\n"
      ],
      "metadata": {
        "colab": {
          "base_uri": "https://localhost:8080/"
        },
        "id": "Jh4KQIxkZX3O",
        "outputId": "6724e209-71a2-4ef1-b14e-5d6a53d1b09d"
      },
      "execution_count": null,
      "outputs": [
        {
          "output_type": "stream",
          "name": "stdout",
          "text": [
            "Hi MD samir, Good afternoon.\n"
          ]
        }
      ]
    },
    {
      "cell_type": "code",
      "source": [
        "def greet(msg='Good Morning', name):#python ma non default argument name le default argument msg lai follow gardaina.\n",
        "    print(f'Hi {name}, {msg}.')"
      ],
      "metadata": {
        "colab": {
          "base_uri": "https://localhost:8080/",
          "height": 106
        },
        "id": "TO9O6RJAZq_l",
        "outputId": "f4afd56f-b56e-436b-fe94-ada4b305ad1f"
      },
      "execution_count": null,
      "outputs": [
        {
          "output_type": "error",
          "ename": "SyntaxError",
          "evalue": "non-default argument follows default argument (<ipython-input-20-dfc5d247ba48>, line 1)",
          "traceback": [
            "\u001b[0;36m  File \u001b[0;32m\"<ipython-input-20-dfc5d247ba48>\"\u001b[0;36m, line \u001b[0;32m1\u001b[0m\n\u001b[0;31m    def greet(msg='Good Morning', name):#python ma non default argument name le default argument msg lai follow gardaina.\u001b[0m\n\u001b[0m                                  ^\u001b[0m\n\u001b[0;31mSyntaxError\u001b[0m\u001b[0;31m:\u001b[0m non-default argument follows default argument\n"
          ]
        }
      ]
    },
    {
      "cell_type": "markdown",
      "source": [
        "# Args vs Kwargs\n",
        "\n",
        "\n",
        "1.   It makes function flexible using variable length argument\n",
        "\n"
      ],
      "metadata": {
        "id": "h_emmv26w-48"
      }
    },
    {
      "cell_type": "markdown",
      "source": [
        "# *args\n",
        "#no key value pairs\n",
        "#tuple ma jancha"
      ],
      "metadata": {
        "id": "bdf15WfAxu6V"
      }
    },
    {
      "cell_type": "code",
      "source": [
        "def total(*args):\n",
        "    print(args,type(args))"
      ],
      "metadata": {
        "id": "WV50N3hmxDYg"
      },
      "execution_count": null,
      "outputs": []
    },
    {
      "cell_type": "code",
      "source": [
        "total(2,3)"
      ],
      "metadata": {
        "colab": {
          "base_uri": "https://localhost:8080/"
        },
        "id": "UjdQICUFyGRy",
        "outputId": "170d2074-c136-4343-bae7-c6ebd7ebb65c"
      },
      "execution_count": null,
      "outputs": [
        {
          "output_type": "stream",
          "name": "stdout",
          "text": [
            "(2, 3) <class 'tuple'>\n"
          ]
        }
      ]
    },
    {
      "cell_type": "code",
      "source": [
        "total(6,7,9)"
      ],
      "metadata": {
        "colab": {
          "base_uri": "https://localhost:8080/"
        },
        "id": "KxIpkd5OyH6e",
        "outputId": "255bb505-3b0c-4864-c7f3-890915db6a4e"
      },
      "execution_count": null,
      "outputs": [
        {
          "output_type": "stream",
          "name": "stdout",
          "text": [
            "(6, 7, 9) <class 'tuple'>\n"
          ]
        }
      ]
    },
    {
      "cell_type": "code",
      "source": [
        "def total(*args):\n",
        "    total_sum = 0\n",
        "    for item in args:\n",
        "        total_sum = total_sum + item\n",
        "    return total_sum"
      ],
      "metadata": {
        "id": "vCtFuJHYyMW1"
      },
      "execution_count": null,
      "outputs": []
    },
    {
      "cell_type": "code",
      "source": [
        "def Average(*args):\n",
        "    Total = sum(args)\n",
        "    Count = len(args)\n",
        "    for item in args:\n",
        "        Average = Total/Count\n",
        "    return Average\n",
        "Average(1,2,3)"
      ],
      "metadata": {
        "colab": {
          "base_uri": "https://localhost:8080/"
        },
        "id": "UgzU6Lb06k9k",
        "outputId": "b062c165-7328-4d4f-c658-f2ef1fecb358"
      },
      "execution_count": null,
      "outputs": [
        {
          "output_type": "execute_result",
          "data": {
            "text/plain": [
              "2.0"
            ]
          },
          "metadata": {},
          "execution_count": 25
        }
      ]
    },
    {
      "cell_type": "code",
      "source": [
        "def Average(*args):\n",
        "    Total = sum(args)\n",
        "    Count = len(args)\n",
        "    for item in args:\n",
        "        Average = Total/Count\n",
        "    return Average\n",
        "Average(1,2,3)"
      ],
      "metadata": {
        "colab": {
          "base_uri": "https://localhost:8080/"
        },
        "id": "VAER4uXOCpGC",
        "outputId": "be154d3d-8144-48bb-edaa-f466ce6f13a4"
      },
      "execution_count": null,
      "outputs": [
        {
          "output_type": "execute_result",
          "data": {
            "text/plain": [
              "2.0"
            ]
          },
          "metadata": {},
          "execution_count": 27
        }
      ]
    },
    {
      "cell_type": "code",
      "source": [
        "name = 'Miyosh'\n",
        "def Average(*args):\n",
        "    Total = sum(args)\n",
        "    Count = len(args)\n",
        "    for item in args:\n",
        "        Average = Total/Count\n",
        "    return Average\n",
        "print('The Avg is' ,Average(2,3,4,5,67,9,888))\n",
        "\n",
        "print(f'hello {name}')"
      ],
      "metadata": {
        "colab": {
          "base_uri": "https://localhost:8080/"
        },
        "id": "27DSWJI3DQNl",
        "outputId": "785b4d18-4766-426d-e3b8-0d55179e664d"
      },
      "execution_count": null,
      "outputs": [
        {
          "output_type": "stream",
          "name": "stdout",
          "text": [
            "The Avg is 139.71428571428572\n",
            "hello Miyosh\n"
          ]
        }
      ]
    },
    {
      "cell_type": "code",
      "source": [
        "total(5,5)"
      ],
      "metadata": {
        "colab": {
          "base_uri": "https://localhost:8080/"
        },
        "id": "1WaRE7qAykUO",
        "outputId": "74d75aad-873d-40a4-fe3a-8c7d6cce5bba"
      },
      "execution_count": null,
      "outputs": [
        {
          "output_type": "execute_result",
          "data": {
            "text/plain": [
              "10"
            ]
          },
          "metadata": {},
          "execution_count": 21
        }
      ]
    },
    {
      "cell_type": "markdown",
      "source": [
        "# **kwargs\n",
        "#key value pairs ko lagi\n",
        "#dictionary ma jancha"
      ],
      "metadata": {
        "id": "NX_zUA0Ky9yS"
      }
    },
    {
      "cell_type": "code",
      "source": [
        "def about(**kwargs):\n",
        "    print(kwargs,type(kwargs))"
      ],
      "metadata": {
        "id": "fmgNal3kyoy-"
      },
      "execution_count": null,
      "outputs": []
    },
    {
      "cell_type": "code",
      "source": [
        "about(3,1)"
      ],
      "metadata": {
        "colab": {
          "base_uri": "https://localhost:8080/",
          "height": 141
        },
        "id": "QyuTuV07zX59",
        "outputId": "ab9d9475-675b-46b0-9b9d-7afe52ee95e7"
      },
      "execution_count": null,
      "outputs": [
        {
          "output_type": "error",
          "ename": "TypeError",
          "evalue": "about() takes 0 positional arguments but 2 were given",
          "traceback": [
            "\u001b[0;31m---------------------------------------------------------------------------\u001b[0m",
            "\u001b[0;31mTypeError\u001b[0m                                 Traceback (most recent call last)",
            "\u001b[0;32m<ipython-input-11-92787cfa1ece>\u001b[0m in \u001b[0;36m<cell line: 1>\u001b[0;34m()\u001b[0m\n\u001b[0;32m----> 1\u001b[0;31m \u001b[0mabout\u001b[0m\u001b[0;34m(\u001b[0m\u001b[0;36m3\u001b[0m\u001b[0;34m,\u001b[0m\u001b[0;36m1\u001b[0m\u001b[0;34m)\u001b[0m\u001b[0;34m\u001b[0m\u001b[0;34m\u001b[0m\u001b[0m\n\u001b[0m",
            "\u001b[0;31mTypeError\u001b[0m: about() takes 0 positional arguments but 2 were given"
          ]
        }
      ]
    },
    {
      "cell_type": "code",
      "source": [
        "about(name='miyosh',age=26)"
      ],
      "metadata": {
        "colab": {
          "base_uri": "https://localhost:8080/"
        },
        "id": "lOUu-dEBzdnF",
        "outputId": "f39c4f42-d1bd-4847-b4fd-290edd34ad18"
      },
      "execution_count": null,
      "outputs": [
        {
          "output_type": "stream",
          "name": "stdout",
          "text": [
            "{'name': 'miyosh', 'age': 26} <class 'dict'>\n"
          ]
        }
      ]
    },
    {
      "cell_type": "code",
      "source": [
        "#function can return multiple value"
      ],
      "metadata": {
        "id": "VXsK4Uqzziil"
      },
      "execution_count": null,
      "outputs": []
    },
    {
      "cell_type": "code",
      "source": [
        "def square_and_cube(a):\n",
        "    sq=a**2\n",
        "    cu = a**3\n",
        "    return sq,cu"
      ],
      "metadata": {
        "id": "Kpubzd410NFF"
      },
      "execution_count": null,
      "outputs": []
    },
    {
      "cell_type": "code",
      "source": [
        "square_and_cube(a=5)"
      ],
      "metadata": {
        "colab": {
          "base_uri": "https://localhost:8080/"
        },
        "id": "AxTWBLgm05oD",
        "outputId": "fc415f31-4664-4ef2-9cc9-e4c2b07cfbc7"
      },
      "execution_count": null,
      "outputs": [
        {
          "output_type": "execute_result",
          "data": {
            "text/plain": [
              "(25, 125)"
            ]
          },
          "metadata": {},
          "execution_count": 19
        }
      ]
    },
    {
      "cell_type": "code",
      "source": [
        "sq,cu = square_and_cube(a=5)#tuple unpacking"
      ],
      "metadata": {
        "id": "8CdzG2Ji0k6t"
      },
      "execution_count": null,
      "outputs": []
    },
    {
      "cell_type": "code",
      "source": [
        "sq\n"
      ],
      "metadata": {
        "colab": {
          "base_uri": "https://localhost:8080/"
        },
        "id": "A2S_LJ6M0p2N",
        "outputId": "6249793e-6771-4461-b3ab-efc22ecda049"
      },
      "execution_count": null,
      "outputs": [
        {
          "output_type": "execute_result",
          "data": {
            "text/plain": [
              "25"
            ]
          },
          "metadata": {},
          "execution_count": 17
        }
      ]
    },
    {
      "cell_type": "code",
      "source": [
        "cu"
      ],
      "metadata": {
        "colab": {
          "base_uri": "https://localhost:8080/"
        },
        "id": "Glq3vusi0wC1",
        "outputId": "81895750-9ece-45bc-fc3e-2719cde7f6a7"
      },
      "execution_count": null,
      "outputs": [
        {
          "output_type": "execute_result",
          "data": {
            "text/plain": [
              "125"
            ]
          },
          "metadata": {},
          "execution_count": 18
        }
      ]
    },
    {
      "cell_type": "code",
      "source": [
        "def Sunrise(**kwargs):\n",
        "        print(kwargs)\n",
        "Sunrise(Name='Kavya',Caste='Sharma',height = 100)"
      ],
      "metadata": {
        "colab": {
          "base_uri": "https://localhost:8080/"
        },
        "id": "x2t92pJQ0wk1",
        "outputId": "80a8be4a-8f40-444d-ab83-2b0e98ae5143"
      },
      "execution_count": null,
      "outputs": [
        {
          "output_type": "stream",
          "name": "stdout",
          "text": [
            "{'Name': 'Kavya', 'Caste': 'Sharma', 'height': 100}\n"
          ]
        }
      ]
    },
    {
      "cell_type": "code",
      "source": [
        "def total(*args):\n",
        "    total = 0\n",
        "    for item in args:\n",
        "        total = total + item\n",
        "    return total\n",
        "total(1,2,3)"
      ],
      "metadata": {
        "colab": {
          "base_uri": "https://localhost:8080/"
        },
        "id": "CcjjJrwFE0FR",
        "outputId": "da72d59c-1c6a-4622-d021-ac23f9479049"
      },
      "execution_count": null,
      "outputs": [
        {
          "output_type": "execute_result",
          "data": {
            "text/plain": [
              "6"
            ]
          },
          "metadata": {},
          "execution_count": 8
        }
      ]
    },
    {
      "cell_type": "code",
      "source": [
        "def language (**kwargs):\n",
        "    print(kwargs)\n",
        "language(name = 'Miyosh', Caste = 'karki')"
      ],
      "metadata": {
        "colab": {
          "base_uri": "https://localhost:8080/"
        },
        "id": "wCrCz1XadOYC",
        "outputId": "96ddc7f0-097f-4a4b-8830-5766f0402761"
      },
      "execution_count": null,
      "outputs": [
        {
          "output_type": "stream",
          "name": "stdout",
          "text": [
            "{'name': 'Miyosh', 'Caste': 'karki'}\n"
          ]
        }
      ]
    },
    {
      "cell_type": "code",
      "source": [],
      "metadata": {
        "id": "vQZWjzvzdvi6"
      },
      "execution_count": null,
      "outputs": []
    }
  ]
}