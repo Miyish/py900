{
  "nbformat": 4,
  "nbformat_minor": 0,
  "metadata": {
    "colab": {
      "provenance": []
    },
    "kernelspec": {
      "name": "python3",
      "display_name": "Python 3"
    },
    "language_info": {
      "name": "python"
    }
  },
  "cells": [
    {
      "cell_type": "markdown",
      "source": [
        "TAKING USER INPUT"
      ],
      "metadata": {
        "id": "oWt4eJhVRynx"
      }
    },
    {
      "cell_type": "code",
      "execution_count": null,
      "metadata": {
        "colab": {
          "base_uri": "https://localhost:8080/"
        },
        "id": "L2bFC1yfNhnJ",
        "outputId": "0aaf5792-e8eb-4d52-9999-3338bb7d5e63"
      },
      "outputs": [
        {
          "name": "stdout",
          "output_type": "stream",
          "text": [
            "miyosh\n"
          ]
        }
      ],
      "source": [
        "name = input()"
      ]
    },
    {
      "cell_type": "code",
      "source": [
        "print (name)"
      ],
      "metadata": {
        "colab": {
          "base_uri": "https://localhost:8080/"
        },
        "id": "43SDB8aaN0eM",
        "outputId": "d36c3573-a8cf-434e-c6e7-1d38959fae4b"
      },
      "execution_count": null,
      "outputs": [
        {
          "output_type": "stream",
          "name": "stdout",
          "text": [
            "miyosh\n"
          ]
        }
      ]
    },
    {
      "cell_type": "code",
      "source": [
        "name = input(\"Enter your name ; \")\n",
        "location = input(\"Enter your location ;\")\n",
        "print(f\"My name is {name} and I live in {location} . \")"
      ],
      "metadata": {
        "colab": {
          "base_uri": "https://localhost:8080/"
        },
        "id": "-XKtq1D2N68Y",
        "outputId": "2d7b820c-8e9f-4ded-a37e-704306a51ead"
      },
      "execution_count": null,
      "outputs": [
        {
          "output_type": "stream",
          "name": "stdout",
          "text": [
            "Enter your name ; miyosh\n",
            "Enter your location ;balkumari\n",
            "My name is miyosh and I live in balkumari . \n"
          ]
        }
      ]
    },
    {
      "cell_type": "markdown",
      "source": [
        "#TYPE CASTING"
      ],
      "metadata": {
        "id": "OviLi4ttRsYi"
      }
    },
    {
      "cell_type": "code",
      "source": [
        "x = int(input(\"enter 1st no.; \"))       #typecasting from string to integer\n",
        "y = int(input(\"enter 2nd no..;\"))\n",
        "print(\"The sum is \",x+y)"
      ],
      "metadata": {
        "colab": {
          "base_uri": "https://localhost:8080/"
        },
        "id": "79j4VIfpOqtR",
        "outputId": "84a96747-1eb8-4265-efe4-f5f21320a1e5"
      },
      "execution_count": null,
      "outputs": [
        {
          "output_type": "stream",
          "name": "stdout",
          "text": [
            "enter 1st no.; 1\n",
            "enter 2nd no..;3\n",
            "The sum is  4\n"
          ]
        }
      ]
    },
    {
      "cell_type": "code",
      "source": [
        "# python ma explicit data  type casting huncha."
      ],
      "metadata": {
        "id": "2T-Q80VHQg43"
      },
      "execution_count": null,
      "outputs": []
    },
    {
      "cell_type": "code",
      "source": [
        "x= float(input(\"enter 1st no.;\"))\n",
        "y= float(input(\"enter 2nd no.;\"))\n",
        "total = x+y\n",
        "print(f\"The sum of float is {total}\")"
      ],
      "metadata": {
        "colab": {
          "base_uri": "https://localhost:8080/"
        },
        "id": "RHLK4-pvTCXd",
        "outputId": "fcf53d86-2fca-4dc0-9493-f2f9c22eed01"
      },
      "execution_count": null,
      "outputs": [
        {
          "output_type": "stream",
          "name": "stdout",
          "text": [
            "enter 1st no.;2.444\n",
            "enter 2nd no.;3.989\n",
            "The sum of float is 6.433\n"
          ]
        }
      ]
    },
    {
      "cell_type": "code",
      "source": [
        "p = 0.55\n",
        "print (isinstance (p,int))  #isinstance to check whether the variable is of a certin data type."
      ],
      "metadata": {
        "colab": {
          "base_uri": "https://localhost:8080/"
        },
        "id": "qNs2pw5IVDHd",
        "outputId": "4f6a9eab-f62c-4a51-ad74-2f1c96701082"
      },
      "execution_count": null,
      "outputs": [
        {
          "output_type": "stream",
          "name": "stdout",
          "text": [
            "False\n"
          ]
        }
      ]
    },
    {
      "cell_type": "code",
      "source": [
        "#True and False are boolean data types."
      ],
      "metadata": {
        "id": "itSskKcTVJiB"
      },
      "execution_count": null,
      "outputs": []
    },
    {
      "cell_type": "code",
      "source": [
        "True + True"
      ],
      "metadata": {
        "colab": {
          "base_uri": "https://localhost:8080/"
        },
        "id": "mmqO6MpVVgaJ",
        "outputId": "3b457f63-b89d-4153-f8d5-4690e47dd202"
      },
      "execution_count": null,
      "outputs": [
        {
          "output_type": "execute_result",
          "data": {
            "text/plain": [
              "2"
            ]
          },
          "metadata": {},
          "execution_count": 18
        }
      ]
    },
    {
      "cell_type": "code",
      "source": [
        "False + False\n"
      ],
      "metadata": {
        "colab": {
          "base_uri": "https://localhost:8080/"
        },
        "id": "NHLcnvuMV70f",
        "outputId": "b6808c0c-fa6a-432e-cf23-d56d97167e07"
      },
      "execution_count": null,
      "outputs": [
        {
          "output_type": "execute_result",
          "data": {
            "text/plain": [
              "0"
            ]
          },
          "metadata": {},
          "execution_count": 20
        }
      ]
    },
    {
      "cell_type": "code",
      "source": [
        "True + False"
      ],
      "metadata": {
        "colab": {
          "base_uri": "https://localhost:8080/"
        },
        "id": "K5L_Lu8cWKaI",
        "outputId": "cf8581b2-c8f7-4f57-8543-ec7d9d1fd6d5"
      },
      "execution_count": null,
      "outputs": [
        {
          "output_type": "execute_result",
          "data": {
            "text/plain": [
              "1"
            ]
          },
          "metadata": {},
          "execution_count": 21
        }
      ]
    },
    {
      "cell_type": "code",
      "source": [],
      "metadata": {
        "id": "NJygF2kHWTCv"
      },
      "execution_count": null,
      "outputs": []
    }
  ]
}