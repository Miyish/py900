{
  "nbformat": 4,
  "nbformat_minor": 0,
  "metadata": {
    "colab": {
      "provenance": []
    },
    "kernelspec": {
      "name": "python3",
      "display_name": "Python 3"
    },
    "language_info": {
      "name": "python"
    }
  },
  "cells": [
    {
      "cell_type": "code",
      "execution_count": null,
      "metadata": {
        "colab": {
          "base_uri": "https://localhost:8080/"
        },
        "id": "G6ygACgFE2f0",
        "outputId": "d809af57-c3ae-44dd-89f6-20dae8cd0639"
      },
      "outputs": [
        {
          "output_type": "stream",
          "name": "stdout",
          "text": [
            "\n",
            "Here is a list of the Python keywords.  Enter any keyword to get more help.\n",
            "\n",
            "False               class               from                or\n",
            "None                continue            global              pass\n",
            "True                def                 if                  raise\n",
            "and                 del                 import              return\n",
            "as                  elif                in                  try\n",
            "assert              else                is                  while\n",
            "async               except              lambda              with\n",
            "await               finally             nonlocal            yield\n",
            "break               for                 not                 \n",
            "\n"
          ]
        }
      ],
      "source": [
        "help('keywords')"
      ]
    },
    {
      "cell_type": "code",
      "source": [
        "#can't use keywords as variables."
      ],
      "metadata": {
        "id": "lJrKL9OiFLD5"
      },
      "execution_count": null,
      "outputs": []
    },
    {
      "cell_type": "code",
      "source": [
        "#python keywords are case sensitive and python is case sensitive language."
      ],
      "metadata": {
        "id": "iAo2Tj_9Fz0O"
      },
      "execution_count": null,
      "outputs": []
    },
    {
      "cell_type": "code",
      "source": [
        "#SQL is case insensitive language."
      ],
      "metadata": {
        "id": "6qqs440aGIte"
      },
      "execution_count": null,
      "outputs": []
    },
    {
      "cell_type": "code",
      "source": [
        "subject = \"python\"\n",
        "school = \"Broadway\"\n",
        "print(f'I study {subject} in {school}')"
      ],
      "metadata": {
        "colab": {
          "base_uri": "https://localhost:8080/"
        },
        "id": "e1OpF5xKGUfO",
        "outputId": "92df4aa3-7090-4770-ee84-6370cbd03431"
      },
      "execution_count": null,
      "outputs": [
        {
          "output_type": "stream",
          "name": "stdout",
          "text": [
            "I study python in Broadway\n"
          ]
        }
      ]
    },
    {
      "cell_type": "code",
      "source": [
        "#format string is used to format ."
      ],
      "metadata": {
        "id": "brba35r8ILGI"
      },
      "execution_count": null,
      "outputs": []
    },
    {
      "cell_type": "code",
      "source": [
        "#start with f before string and variables in curly bracket.\n"
      ],
      "metadata": {
        "id": "UH6PCH7SIVfW"
      },
      "execution_count": null,
      "outputs": []
    },
    {
      "cell_type": "code",
      "source": [
        "name = \"Miyosh\"\n",
        "age = \"25\"\n",
        "print(f\"MY name is {name}, I am {age} years old\")"
      ],
      "metadata": {
        "colab": {
          "base_uri": "https://localhost:8080/"
        },
        "id": "1OkQ3qqtIhFA",
        "outputId": "49c6b61b-86c6-4f10-a9b2-a4f51ccaa9d8"
      },
      "execution_count": null,
      "outputs": [
        {
          "output_type": "stream",
          "name": "stdout",
          "text": [
            "MY name is Miyosh, I am 25 years old\n"
          ]
        }
      ]
    },
    {
      "cell_type": "code",
      "source": [
        "#practicing f string."
      ],
      "metadata": {
        "id": "ivi_hEhOI6C2"
      },
      "execution_count": null,
      "outputs": []
    },
    {
      "cell_type": "code",
      "source": [
        "#Updating variable values."
      ],
      "metadata": {
        "id": "2KNoeHFPI-Ct"
      },
      "execution_count": null,
      "outputs": []
    },
    {
      "cell_type": "code",
      "source": [
        "a=20\n",
        "a=30\n",
        "a=40\n",
        "print(a)\n"
      ],
      "metadata": {
        "colab": {
          "base_uri": "https://localhost:8080/"
        },
        "id": "SsJEyON1KHk6",
        "outputId": "22bea84f-7491-4484-ef5b-c22a3cf3657b"
      },
      "execution_count": null,
      "outputs": [
        {
          "output_type": "stream",
          "name": "stdout",
          "text": [
            "40\n"
          ]
        }
      ]
    },
    {
      "cell_type": "code",
      "source": [
        "weight = 60\n",
        "weight = 60+1  #=vanda right ko pahila execute huncha.\n",
        "print(weight)"
      ],
      "metadata": {
        "colab": {
          "base_uri": "https://localhost:8080/"
        },
        "id": "LrtQka01KQZT",
        "outputId": "f8be85ef-cfec-4988-8e77-4dfb0a28edbf"
      },
      "execution_count": null,
      "outputs": [
        {
          "output_type": "stream",
          "name": "stdout",
          "text": [
            "61\n"
          ]
        }
      ]
    },
    {
      "cell_type": "markdown",
      "source": [
        "Assigning multiple valus to multiple variables\n"
      ],
      "metadata": {
        "id": "WW_I3fUAMpbn"
      }
    },
    {
      "cell_type": "code",
      "source": [
        "x, y = 5, 9   #assign multiple values at once\n",
        "print (x)\n",
        "print (y)"
      ],
      "metadata": {
        "colab": {
          "base_uri": "https://localhost:8080/"
        },
        "id": "654yuUz-Mx4v",
        "outputId": "08eba9ec-43b4-45b3-acef-0e904d0d269c"
      },
      "execution_count": null,
      "outputs": [
        {
          "output_type": "stream",
          "name": "stdout",
          "text": [
            "5\n",
            "9\n"
          ]
        }
      ]
    },
    {
      "cell_type": "code",
      "source": [
        "x, y = \"coffee\", \"tea\"   #assign multiple values at once\n",
        "print (x)\n",
        "print (y)"
      ],
      "metadata": {
        "colab": {
          "base_uri": "https://localhost:8080/"
        },
        "id": "JNS8hte7NYqM",
        "outputId": "8297778b-e5f5-483a-f1a3-e1cacbd6d746"
      },
      "execution_count": null,
      "outputs": [
        {
          "output_type": "stream",
          "name": "stdout",
          "text": [
            "coffee\n",
            "tea\n"
          ]
        }
      ]
    },
    {
      "cell_type": "code",
      "source": [],
      "metadata": {
        "id": "9yh13FxbOMe0"
      },
      "execution_count": null,
      "outputs": []
    },
    {
      "cell_type": "markdown",
      "source": [
        "Data type chcking"
      ],
      "metadata": {
        "id": "itcfV3nhOo_5"
      }
    },
    {
      "cell_type": "code",
      "source": [
        "a = 5\n",
        "print (type(a))"
      ],
      "metadata": {
        "colab": {
          "base_uri": "https://localhost:8080/"
        },
        "id": "790tv62VOshE",
        "outputId": "0e460036-58b0-4a11-bd7e-ccf273000c19"
      },
      "execution_count": null,
      "outputs": [
        {
          "output_type": "stream",
          "name": "stdout",
          "text": [
            "<class 'int'>\n"
          ]
        }
      ]
    },
    {
      "cell_type": "code",
      "source": [
        "b = 8 + 0.8j\n",
        "print(type(b))"
      ],
      "metadata": {
        "colab": {
          "base_uri": "https://localhost:8080/"
        },
        "id": "kQD7SaWXO0ht",
        "outputId": "e90e5fdd-8533-40c0-e3a6-1761c4e0fb09"
      },
      "execution_count": null,
      "outputs": [
        {
          "output_type": "stream",
          "name": "stdout",
          "text": [
            "<class 'complex'>\n"
          ]
        }
      ]
    },
    {
      "cell_type": "code",
      "source": [
        "name=\"Miyosh\"\n",
        "print(type(name))"
      ],
      "metadata": {
        "colab": {
          "base_uri": "https://localhost:8080/"
        },
        "id": "xsnQJcj6PeAs",
        "outputId": "41cefb04-eddd-42ef-a8d4-b82bd4695845"
      },
      "execution_count": null,
      "outputs": [
        {
          "output_type": "stream",
          "name": "stdout",
          "text": [
            "<class 'str'>\n"
          ]
        }
      ]
    },
    {
      "cell_type": "code",
      "source": [],
      "metadata": {
        "id": "vQd5rQzKQFV1"
      },
      "execution_count": null,
      "outputs": []
    }
  ]
}