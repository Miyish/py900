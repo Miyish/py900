{
  "nbformat": 4,
  "nbformat_minor": 0,
  "metadata": {
    "colab": {
      "provenance": []
    },
    "kernelspec": {
      "name": "python3",
      "display_name": "Python 3"
    },
    "language_info": {
      "name": "python"
    }
  },
  "cells": [
    {
      "cell_type": "code",
      "execution_count": null,
      "metadata": {
        "colab": {
          "base_uri": "https://localhost:8080/"
        },
        "id": "WEE4baRoGU-w",
        "outputId": "3bc59f8a-8274-4fe9-be4f-0615849355f6"
      },
      "outputs": [
        {
          "output_type": "stream",
          "name": "stdout",
          "text": [
            "['i', 'like', 'football']\n"
          ]
        }
      ],
      "source": [
        "string = \"i like football\"\n",
        "words = string.split()\n",
        "print(words)"
      ]
    },
    {
      "cell_type": "code",
      "source": [
        "type(words)"
      ],
      "metadata": {
        "colab": {
          "base_uri": "https://localhost:8080/"
        },
        "id": "C_h0vwl0GyxO",
        "outputId": "0e7fbf2e-1c77-401e-ad02-5ddc34abc34b"
      },
      "execution_count": null,
      "outputs": [
        {
          "output_type": "execute_result",
          "data": {
            "text/plain": [
              "list"
            ]
          },
          "metadata": {},
          "execution_count": 2
        }
      ]
    },
    {
      "cell_type": "markdown",
      "source": [
        "# List\n",
        "\n",
        "\n",
        "*   collection of items under one variable name\n",
        "*   allows duplicate value\n",
        "\n",
        "\n",
        "*   List supports multiple data types\n",
        "*   there is order and index.\n",
        "\n",
        "\n",
        "\n"
      ],
      "metadata": {
        "id": "HoTubF7MG_L_"
      }
    },
    {
      "cell_type": "code",
      "source": [
        "#creating an empty list--- 1st method\n",
        "l1 = list()\n",
        "print(l1)\n",
        "type(l1)"
      ],
      "metadata": {
        "colab": {
          "base_uri": "https://localhost:8080/"
        },
        "id": "mIbPQRlQG1WR",
        "outputId": "0b995386-0050-4697-aa6a-de85d7e7d7a2"
      },
      "execution_count": null,
      "outputs": [
        {
          "output_type": "stream",
          "name": "stdout",
          "text": [
            "[]\n"
          ]
        },
        {
          "output_type": "execute_result",
          "data": {
            "text/plain": [
              "list"
            ]
          },
          "metadata": {},
          "execution_count": 6
        }
      ]
    },
    {
      "cell_type": "code",
      "source": [
        "#creating empty list-----2nd method\n",
        "l1 = []\n",
        "print(l1)\n",
        "type(l1)"
      ],
      "metadata": {
        "colab": {
          "base_uri": "https://localhost:8080/"
        },
        "id": "JKHMjDvpHuMJ",
        "outputId": "fb335f0c-388f-4db1-8af7-ae6d0aa2244e"
      },
      "execution_count": null,
      "outputs": [
        {
          "output_type": "stream",
          "name": "stdout",
          "text": [
            "[]\n"
          ]
        },
        {
          "output_type": "execute_result",
          "data": {
            "text/plain": [
              "list"
            ]
          },
          "metadata": {},
          "execution_count": 7
        }
      ]
    },
    {
      "cell_type": "markdown",
      "source": [
        "# Example of List"
      ],
      "metadata": {
        "id": "N757VkadIorg"
      }
    },
    {
      "cell_type": "code",
      "source": [
        "l1 = [True, 40, 'Hello', 40.3, True]        #there isorder,duplicates\n",
        "print(l1)"
      ],
      "metadata": {
        "colab": {
          "base_uri": "https://localhost:8080/"
        },
        "id": "XA8S0SHuH50X",
        "outputId": "a3613aaf-dfc4-4229-dc0d-275c5d06bdb4"
      },
      "execution_count": null,
      "outputs": [
        {
          "output_type": "stream",
          "name": "stdout",
          "text": [
            "[True, 40, 'Hello', 40.3, True]\n"
          ]
        }
      ]
    },
    {
      "cell_type": "code",
      "source": [
        "gift = ['Laptop', 'Visa', 'Money', 'Nobel', 'Visa','Laptop']    #there is index.\n",
        "print(gift)"
      ],
      "metadata": {
        "colab": {
          "base_uri": "https://localhost:8080/"
        },
        "id": "KzTEOPteI4YN",
        "outputId": "d49068f9-d684-4f61-a09f-0bf43e67cfca"
      },
      "execution_count": null,
      "outputs": [
        {
          "output_type": "stream",
          "name": "stdout",
          "text": [
            "['Laptop', 'Visa', 'Money', 'Nobel', 'Visa', 'Laptop']\n"
          ]
        }
      ]
    },
    {
      "cell_type": "code",
      "source": [
        "gift[:3]"
      ],
      "metadata": {
        "colab": {
          "base_uri": "https://localhost:8080/"
        },
        "id": "yeXckktMKxys",
        "outputId": "e9f1c1a8-7995-459f-ce54-f735d63219fc"
      },
      "execution_count": null,
      "outputs": [
        {
          "output_type": "execute_result",
          "data": {
            "text/plain": [
              "['Laptop', 'Visa', 'Money']"
            ]
          },
          "metadata": {},
          "execution_count": 27
        }
      ]
    },
    {
      "cell_type": "code",
      "source": [
        "gift[2:5]"
      ],
      "metadata": {
        "colab": {
          "base_uri": "https://localhost:8080/"
        },
        "id": "FAcKQJivLKlK",
        "outputId": "5608af4f-cce8-44fe-c60b-2413e07cd0f7"
      },
      "execution_count": null,
      "outputs": [
        {
          "output_type": "execute_result",
          "data": {
            "text/plain": [
              "['Money', 'Nobel', 'Visa']"
            ]
          },
          "metadata": {},
          "execution_count": 22
        }
      ]
    },
    {
      "cell_type": "markdown",
      "source": [
        "# Negative Indexing\n",
        "\n",
        "*   starts from -1\n",
        "*  \n",
        "\n"
      ],
      "metadata": {
        "id": "SrXt7A6hMave"
      }
    },
    {
      "cell_type": "code",
      "source": [
        "gift"
      ],
      "metadata": {
        "colab": {
          "base_uri": "https://localhost:8080/"
        },
        "id": "h29zq0l9L2bk",
        "outputId": "1e0c4b0b-b98f-488a-ee5d-8532f2426d83"
      },
      "execution_count": null,
      "outputs": [
        {
          "output_type": "execute_result",
          "data": {
            "text/plain": [
              "['Laptop', 'Visa', 'Money', 'Nobel', 'Visa', 'Laptop']"
            ]
          },
          "metadata": {},
          "execution_count": 23
        }
      ]
    },
    {
      "cell_type": "code",
      "source": [
        "gift[-1]"
      ],
      "metadata": {
        "colab": {
          "base_uri": "https://localhost:8080/",
          "height": 35
        },
        "id": "jwvJdqDBNE_A",
        "outputId": "09ba9bb4-31a4-45a3-8fa6-d5606249970b"
      },
      "execution_count": null,
      "outputs": [
        {
          "output_type": "execute_result",
          "data": {
            "text/plain": [
              "'Laptop'"
            ],
            "application/vnd.google.colaboratory.intrinsic+json": {
              "type": "string"
            }
          },
          "metadata": {},
          "execution_count": 24
        }
      ]
    },
    {
      "cell_type": "code",
      "source": [
        "gift[-3]"
      ],
      "metadata": {
        "colab": {
          "base_uri": "https://localhost:8080/",
          "height": 35
        },
        "id": "_J1CATMTNHuv",
        "outputId": "5202bd76-95b8-4600-f5dd-2cea058e0d0f"
      },
      "execution_count": null,
      "outputs": [
        {
          "output_type": "execute_result",
          "data": {
            "text/plain": [
              "'Nobel'"
            ],
            "application/vnd.google.colaboratory.intrinsic+json": {
              "type": "string"
            }
          },
          "metadata": {},
          "execution_count": 26
        }
      ]
    },
    {
      "cell_type": "code",
      "source": [
        "gift[-3:]   #selects last 3 items"
      ],
      "metadata": {
        "colab": {
          "base_uri": "https://localhost:8080/"
        },
        "id": "rdGjpigeNOaX",
        "outputId": "65c182ac-d334-477f-c018-5db342b4459d"
      },
      "execution_count": null,
      "outputs": [
        {
          "output_type": "execute_result",
          "data": {
            "text/plain": [
              "['Nobel', 'Visa', 'Laptop']"
            ]
          },
          "metadata": {},
          "execution_count": 31
        }
      ]
    },
    {
      "cell_type": "markdown",
      "source": [
        "# Loop\n"
      ],
      "metadata": {
        "id": "8Zomgxx-NhH_"
      }
    },
    {
      "cell_type": "code",
      "source": [
        "num = [4, 5, 6]\n",
        "total = 0\n",
        "for item in num:\n",
        "    print(item)\n",
        "    total = total + item\n",
        "print(\"the sum is\",total)"
      ],
      "metadata": {
        "colab": {
          "base_uri": "https://localhost:8080/"
        },
        "id": "yxciZNWlNZBY",
        "outputId": "d3a1e7e6-37c7-4ce4-c7bc-2dbab9af88e1"
      },
      "execution_count": null,
      "outputs": [
        {
          "output_type": "stream",
          "name": "stdout",
          "text": [
            "4\n",
            "5\n",
            "6\n",
            "the sum is 15\n"
          ]
        }
      ]
    },
    {
      "cell_type": "code",
      "source": [
        "num = [1,2,3]\n",
        "total = 0\n",
        "for item in num:\n",
        "    print(item)\n",
        "    total = total + item\n",
        "print(f\"the sum of no. is = {total}\")"
      ],
      "metadata": {
        "colab": {
          "base_uri": "https://localhost:8080/"
        },
        "id": "kkBvpBjKnco8",
        "outputId": "f066e3d0-8e66-42fa-b2ed-7beaf5a7f0e2"
      },
      "execution_count": null,
      "outputs": [
        {
          "output_type": "stream",
          "name": "stdout",
          "text": [
            "1\n",
            "2\n",
            "3\n",
            "the sum of no. is = 6\n"
          ]
        }
      ]
    },
    {
      "cell_type": "code",
      "source": [
        "num = [1, 2, 3, 4, 5]\n",
        "total = 0\n",
        "for item in num:\n",
        "    print(item)\n",
        "    total = total + item\n",
        "print(\"total = \", total)"
      ],
      "metadata": {
        "colab": {
          "base_uri": "https://localhost:8080/"
        },
        "id": "g_7p2vYL8JE3",
        "outputId": "1fa87bd3-c40a-4c5f-8c6a-ab2fbb20cd5c"
      },
      "execution_count": null,
      "outputs": [
        {
          "output_type": "stream",
          "name": "stdout",
          "text": [
            "1\n",
            "2\n",
            "3\n",
            "4\n",
            "5\n",
            "total =  15\n"
          ]
        }
      ]
    },
    {
      "cell_type": "code",
      "source": [
        "no = [11, 22, 222, 2]\n",
        "total = 0\n",
        "for item in no:\n",
        "    print(item)\n",
        "    total = total + item\n",
        "print(f'toal sum = ',total)"
      ],
      "metadata": {
        "colab": {
          "base_uri": "https://localhost:8080/"
        },
        "id": "lAy2VTwU83uE",
        "outputId": "09fc6e89-2fac-4adb-8dc9-530eeb27e328"
      },
      "execution_count": null,
      "outputs": [
        {
          "output_type": "stream",
          "name": "stdout",
          "text": [
            "11\n",
            "22\n",
            "222\n",
            "2\n",
            "toal sum =  257\n"
          ]
        }
      ]
    },
    {
      "cell_type": "code",
      "source": [
        "num = [9.6,1.77,2,3,4]\n",
        "minus = 0                                      #wrong chha\n",
        "for item in num:\n",
        "    print(item)\n",
        "    minus= minus - item\n",
        "print('minus = ',minus)"
      ],
      "metadata": {
        "colab": {
          "base_uri": "https://localhost:8080/"
        },
        "id": "X7ND9V3k9eZQ",
        "outputId": "10ca2cea-d82e-45c7-f23c-932c07a7ff3f"
      },
      "execution_count": null,
      "outputs": [
        {
          "output_type": "stream",
          "name": "stdout",
          "text": [
            "9.6\n",
            "1.77\n",
            "2\n",
            "3\n",
            "4\n",
            "minus =  -20.369999999999997\n"
          ]
        }
      ]
    },
    {
      "cell_type": "code",
      "source": [
        "#wap to find mean\n"
      ],
      "metadata": {
        "id": "UlOnAGdGNrgf"
      },
      "execution_count": null,
      "outputs": []
    },
    {
      "cell_type": "markdown",
      "source": [
        "\n",
        "\n",
        "---\n",
        "\n",
        "# While loop\n",
        "```python\n",
        "while True:\n",
        "    #block of while code\n",
        "```\n",
        "\n",
        "```python\n",
        "while condition:\n",
        "    # block of while code\n",
        "```"
      ],
      "metadata": {
        "id": "4SYQmpfMQ-ZM"
      }
    },
    {
      "cell_type": "code",
      "source": [
        "num = [4, 5, 6] #len(num)=3\n",
        "total = 0\n",
        "index = 0\n",
        "while index < len(num):\n",
        "    item = num[index]\n",
        "    total = total + item\n",
        "    index= index +1\n",
        "print(total)"
      ],
      "metadata": {
        "colab": {
          "base_uri": "https://localhost:8080/"
        },
        "id": "Y63npSWbQ98W",
        "outputId": "319c0039-4df4-4854-cf12-42245307d1e0"
      },
      "execution_count": null,
      "outputs": [
        {
          "output_type": "stream",
          "name": "stdout",
          "text": [
            "15\n"
          ]
        }
      ]
    },
    {
      "cell_type": "code",
      "source": [
        "lista = [1, 2, 3, 4]\n",
        "total = 0\n",
        "index = 0\n",
        "while index < len(lista):\n",
        "    item = lista[index]\n",
        "    total = total + item\n",
        "    index = index + 1\n",
        "print(f\"the sum of no. is {total}\")"
      ],
      "metadata": {
        "colab": {
          "base_uri": "https://localhost:8080/"
        },
        "id": "TbgR10V8pDA3",
        "outputId": "1da246c3-0020-42a3-ffaa-f0792fe9e5b1"
      },
      "execution_count": null,
      "outputs": [
        {
          "output_type": "stream",
          "name": "stdout",
          "text": [
            "the sum of no. is 10\n"
          ]
        }
      ]
    },
    {
      "cell_type": "markdown",
      "source": [
        "# Membership operator\n"
      ],
      "metadata": {
        "id": "02Khw4iiQR1y"
      }
    },
    {
      "cell_type": "code",
      "source": [
        "fruits = ['apple', 'banana', 'mango']\n",
        "'banana' in fruits"
      ],
      "metadata": {
        "colab": {
          "base_uri": "https://localhost:8080/"
        },
        "id": "7yT5oQBJQLc0",
        "outputId": "3105cc90-74ac-4c28-c39a-8e565333f4f2"
      },
      "execution_count": null,
      "outputs": [
        {
          "output_type": "execute_result",
          "data": {
            "text/plain": [
              "True"
            ]
          },
          "metadata": {},
          "execution_count": 2
        }
      ]
    },
    {
      "cell_type": "code",
      "source": [
        "'papaya' in fruits"
      ],
      "metadata": {
        "colab": {
          "base_uri": "https://localhost:8080/"
        },
        "id": "S7ldgG67Qgzj",
        "outputId": "feef46d9-8a63-473e-cd48-cdb58f570c46"
      },
      "execution_count": null,
      "outputs": [
        {
          "output_type": "execute_result",
          "data": {
            "text/plain": [
              "False"
            ]
          },
          "metadata": {},
          "execution_count": 3
        }
      ]
    },
    {
      "cell_type": "code",
      "source": [
        "'papaya' not in fruits"
      ],
      "metadata": {
        "colab": {
          "base_uri": "https://localhost:8080/"
        },
        "id": "i8uuQu2eQk4q",
        "outputId": "3398f37f-f5d4-488b-9ce7-e52c8fa7f68a"
      },
      "execution_count": null,
      "outputs": [
        {
          "output_type": "execute_result",
          "data": {
            "text/plain": [
              "True"
            ]
          },
          "metadata": {},
          "execution_count": 4
        }
      ]
    },
    {
      "cell_type": "code",
      "source": [
        "num = [4,5,6]\n",
        "total = 0           #2nd method for forloop.\n",
        "for index in range(len(num)):\n",
        "    item = num[index]\n",
        "    total = total +item\n",
        "print(total)"
      ],
      "metadata": {
        "id": "SJqLA6bQQneC",
        "colab": {
          "base_uri": "https://localhost:8080/"
        },
        "outputId": "9079330a-e2b9-48da-9d5a-7be93d46bde4"
      },
      "execution_count": null,
      "outputs": [
        {
          "output_type": "stream",
          "name": "stdout",
          "text": [
            "15\n"
          ]
        }
      ]
    },
    {
      "cell_type": "markdown",
      "source": [
        "# List is a mutable datatye\n",
        "\n",
        "\n",
        "*   same memeoy location ma update garna milcga bhane mutable\n",
        "*   mutable data types can be indexed and sliced\n",
        "\n"
      ],
      "metadata": {
        "id": "KndAQ_QBO_g9"
      }
    },
    {
      "cell_type": "code",
      "source": [
        "fruits = ['apple','banana','mango','orange','pear']\n",
        "fruits[1]='papaya'\n",
        "fruits[2:4]=['watermelon','kiwi']\n",
        "print(fruits)"
      ],
      "metadata": {
        "colab": {
          "base_uri": "https://localhost:8080/"
        },
        "id": "DvjTrQQmOoGK",
        "outputId": "c8aafe25-458d-4c36-cc01-af2636d32dfb"
      },
      "execution_count": null,
      "outputs": [
        {
          "output_type": "stream",
          "name": "stdout",
          "text": [
            "['apple', 'papaya', 'watermelon', 'kiwi', 'pear']\n"
          ]
        }
      ]
    },
    {
      "cell_type": "markdown",
      "source": [
        "#list methods"
      ],
      "metadata": {
        "id": "h8DJ6tlMQj-d"
      }
    },
    {
      "cell_type": "code",
      "source": [
        "fruits = ['apple','banana','mango','orange','pear','banana']\n",
        "fruits.remove('banana') #removes first banana only\n",
        "fruits"
      ],
      "metadata": {
        "colab": {
          "base_uri": "https://localhost:8080/"
        },
        "id": "9pHz4MBnPZzO",
        "outputId": "7127e7da-0539-4a99-81b0-181a1b0a494a"
      },
      "execution_count": null,
      "outputs": [
        {
          "output_type": "execute_result",
          "data": {
            "text/plain": [
              "['apple', 'mango', 'orange', 'pear', 'banana']"
            ]
          },
          "metadata": {},
          "execution_count": 17
        }
      ]
    },
    {
      "cell_type": "code",
      "source": [
        "line = ['Kshitiz','Binita','MD','Anurodh']\n",
        "line.insert(1,'Rachana')\n",
        "line"
      ],
      "metadata": {
        "colab": {
          "base_uri": "https://localhost:8080/"
        },
        "id": "qd_iSwfRRBsN",
        "outputId": "88faea67-1cde-4463-ff8f-59cc16c62b46"
      },
      "execution_count": null,
      "outputs": [
        {
          "output_type": "execute_result",
          "data": {
            "text/plain": [
              "['Kshitiz', 'Rachana', 'Binita', 'MD', 'Anurodh']"
            ]
          },
          "metadata": {},
          "execution_count": 18
        }
      ]
    },
    {
      "cell_type": "markdown",
      "source": [
        "# .append()\n",
        "\n",
        "*   adds behind in list\n",
        "*   \n",
        "\n"
      ],
      "metadata": {
        "id": "WWViWtSUSB8I"
      }
    },
    {
      "cell_type": "code",
      "source": [
        "line=[]\n",
        "line"
      ],
      "metadata": {
        "colab": {
          "base_uri": "https://localhost:8080/"
        },
        "id": "KyWSU73kRyQp",
        "outputId": "bf6c4ac3-7bd1-4925-a2d9-89f607026ad3"
      },
      "execution_count": null,
      "outputs": [
        {
          "output_type": "execute_result",
          "data": {
            "text/plain": [
              "[]"
            ]
          },
          "metadata": {},
          "execution_count": 30
        }
      ]
    },
    {
      "cell_type": "code",
      "source": [
        "line.append('Miyosh')\n",
        "line"
      ],
      "metadata": {
        "colab": {
          "base_uri": "https://localhost:8080/"
        },
        "id": "Dt6UEeS-St-D",
        "outputId": "6e17d604-4804-495f-d916-87727d36d3ea"
      },
      "execution_count": null,
      "outputs": [
        {
          "output_type": "execute_result",
          "data": {
            "text/plain": [
              "['Miyosh']"
            ]
          },
          "metadata": {},
          "execution_count": 31
        }
      ]
    },
    {
      "cell_type": "code",
      "source": [
        "line.append('Ram')\n",
        "line"
      ],
      "metadata": {
        "colab": {
          "base_uri": "https://localhost:8080/"
        },
        "id": "ly1F6oGvSxQ6",
        "outputId": "9d5add17-1a2e-4d0d-e808-b855a22f0756"
      },
      "execution_count": null,
      "outputs": [
        {
          "output_type": "execute_result",
          "data": {
            "text/plain": [
              "['Miyosh', 'Ram']"
            ]
          },
          "metadata": {},
          "execution_count": 32
        }
      ]
    },
    {
      "cell_type": "code",
      "source": [
        "line.append('sita')\n",
        "line"
      ],
      "metadata": {
        "colab": {
          "base_uri": "https://localhost:8080/"
        },
        "id": "DL-6p1viS9QP",
        "outputId": "58fe966c-364d-4c13-f57b-c20c3055df09"
      },
      "execution_count": null,
      "outputs": [
        {
          "output_type": "execute_result",
          "data": {
            "text/plain": [
              "['Miyosh', 'Ram', 'sita']"
            ]
          },
          "metadata": {},
          "execution_count": 33
        }
      ]
    },
    {
      "cell_type": "code",
      "source": [
        "print(line)"
      ],
      "metadata": {
        "colab": {
          "base_uri": "https://localhost:8080/"
        },
        "id": "lYkXt7W3TDQP",
        "outputId": "c849f222-dd0b-4843-f824-361ae6626a3a"
      },
      "execution_count": null,
      "outputs": [
        {
          "output_type": "stream",
          "name": "stdout",
          "text": [
            "['Miyosh', 'Ram', 'sita']\n"
          ]
        }
      ]
    },
    {
      "cell_type": "markdown",
      "source": [
        "# .pop()\n",
        "\n",
        "*  removes the last item in list if empty fruits.pop()\n",
        "\n",
        "\n",
        "*  \n",
        "\n",
        "\n",
        "\n"
      ],
      "metadata": {
        "id": "bSqVhUIQTtE2"
      }
    },
    {
      "cell_type": "code",
      "source": [
        "fruits = ['apple','banana','mango','orange','pear']\n",
        "fruits.pop()"
      ],
      "metadata": {
        "colab": {
          "base_uri": "https://localhost:8080/",
          "height": 35
        },
        "id": "QrS4hgcDTTsZ",
        "outputId": "3eb80e8e-9115-4089-a5b6-98e3f2597a06"
      },
      "execution_count": null,
      "outputs": [
        {
          "output_type": "execute_result",
          "data": {
            "text/plain": [
              "'pear'"
            ],
            "application/vnd.google.colaboratory.intrinsic+json": {
              "type": "string"
            }
          },
          "metadata": {},
          "execution_count": 35
        }
      ]
    },
    {
      "cell_type": "code",
      "source": [
        "fruits"
      ],
      "metadata": {
        "colab": {
          "base_uri": "https://localhost:8080/"
        },
        "id": "lPUyJOp1UJ8h",
        "outputId": "e5667795-42fc-4add-95bf-2bd88e460b62"
      },
      "execution_count": null,
      "outputs": [
        {
          "output_type": "execute_result",
          "data": {
            "text/plain": [
              "['apple', 'banana', 'mango', 'orange']"
            ]
          },
          "metadata": {},
          "execution_count": 37
        }
      ]
    },
    {
      "cell_type": "code",
      "source": [
        "fruits.pop()"
      ],
      "metadata": {
        "colab": {
          "base_uri": "https://localhost:8080/",
          "height": 35
        },
        "id": "bBa4A0wfUL00",
        "outputId": "1ad8c46a-4e01-4f40-944c-407e68f63e28"
      },
      "execution_count": null,
      "outputs": [
        {
          "output_type": "execute_result",
          "data": {
            "text/plain": [
              "'orange'"
            ],
            "application/vnd.google.colaboratory.intrinsic+json": {
              "type": "string"
            }
          },
          "metadata": {},
          "execution_count": 38
        }
      ]
    },
    {
      "cell_type": "code",
      "source": [
        "fruits"
      ],
      "metadata": {
        "colab": {
          "base_uri": "https://localhost:8080/"
        },
        "id": "VUljl9RhUSm4",
        "outputId": "45366096-f9b0-4b38-b70f-6d5533115903"
      },
      "execution_count": null,
      "outputs": [
        {
          "output_type": "execute_result",
          "data": {
            "text/plain": [
              "['apple', 'banana', 'mango']"
            ]
          },
          "metadata": {},
          "execution_count": 39
        }
      ]
    },
    {
      "cell_type": "code",
      "source": [
        "fruits.pop()"
      ],
      "metadata": {
        "colab": {
          "base_uri": "https://localhost:8080/",
          "height": 35
        },
        "id": "OQO5rYjvUUEg",
        "outputId": "9c044efb-2c9b-4697-d85e-5bd4068f7560"
      },
      "execution_count": null,
      "outputs": [
        {
          "output_type": "execute_result",
          "data": {
            "text/plain": [
              "'mango'"
            ],
            "application/vnd.google.colaboratory.intrinsic+json": {
              "type": "string"
            }
          },
          "metadata": {},
          "execution_count": 40
        }
      ]
    },
    {
      "cell_type": "code",
      "source": [
        "fruits"
      ],
      "metadata": {
        "colab": {
          "base_uri": "https://localhost:8080/"
        },
        "id": "F_Dt6uUpUXAY",
        "outputId": "597629dc-1881-4b38-f24b-3a6100990386"
      },
      "execution_count": null,
      "outputs": [
        {
          "output_type": "execute_result",
          "data": {
            "text/plain": [
              "['apple', 'banana']"
            ]
          },
          "metadata": {},
          "execution_count": 41
        }
      ]
    },
    {
      "cell_type": "code",
      "source": [
        "fruits = ['apple','banana','mango','orange','pear']\n",
        "fruits.pop(3)#index(3) is popped\n",
        "fruits"
      ],
      "metadata": {
        "colab": {
          "base_uri": "https://localhost:8080/"
        },
        "id": "w6ObXuWeUYwI",
        "outputId": "fff4abbf-ea20-4d9e-820e-9034c8c75c74"
      },
      "execution_count": null,
      "outputs": [
        {
          "output_type": "execute_result",
          "data": {
            "text/plain": [
              "['apple', 'banana', 'mango', 'pear']"
            ]
          },
          "metadata": {},
          "execution_count": 43
        }
      ]
    },
    {
      "cell_type": "markdown",
      "source": [
        "# [Using python list as stack and Queue](DSA)[link text] (https://docs.python.org/3/tutorial/datastructures.html#using-lists-as-st)"
      ],
      "metadata": {
        "id": "MlA-c6pgU0NP"
      }
    },
    {
      "cell_type": "markdown",
      "source": [
        "#.extend()\n"
      ],
      "metadata": {
        "id": "xtGdc9_iWai5"
      }
    },
    {
      "cell_type": "code",
      "source": [
        "a=[4,5]\n",
        "b=[6,5]\n",
        "a+b"
      ],
      "metadata": {
        "colab": {
          "base_uri": "https://localhost:8080/"
        },
        "id": "eCfEVoCgUsi3",
        "outputId": "80cd1e83-8884-4f5d-d059-46a30c2e8307"
      },
      "execution_count": null,
      "outputs": [
        {
          "output_type": "execute_result",
          "data": {
            "text/plain": [
              "[4, 5, 6, 5]"
            ]
          },
          "metadata": {},
          "execution_count": 44
        }
      ]
    },
    {
      "cell_type": "code",
      "source": [
        "a=[4,5]\n",
        "b=[6,5]\n",
        "a.extend(b)"
      ],
      "metadata": {
        "id": "U8j9CSepXCAM"
      },
      "execution_count": null,
      "outputs": []
    },
    {
      "cell_type": "code",
      "source": [
        "a"
      ],
      "metadata": {
        "colab": {
          "base_uri": "https://localhost:8080/"
        },
        "id": "Shp4jhhsXOnE",
        "outputId": "ddab408e-668e-410b-ed9b-f3b2650fc305"
      },
      "execution_count": null,
      "outputs": [
        {
          "output_type": "execute_result",
          "data": {
            "text/plain": [
              "[4, 5, 6, 5]"
            ]
          },
          "metadata": {},
          "execution_count": 46
        }
      ]
    },
    {
      "cell_type": "code",
      "source": [
        "b"
      ],
      "metadata": {
        "colab": {
          "base_uri": "https://localhost:8080/"
        },
        "id": "9DtsVLV0XQpN",
        "outputId": "b2da0a39-6475-4aca-8c9c-9fe65650d12a"
      },
      "execution_count": null,
      "outputs": [
        {
          "output_type": "execute_result",
          "data": {
            "text/plain": [
              "[6, 5]"
            ]
          },
          "metadata": {},
          "execution_count": 47
        }
      ]
    },
    {
      "cell_type": "code",
      "source": [
        "a=[4,5]\n",
        "b=[6,5]\n",
        "b.extend(a)\n"
      ],
      "metadata": {
        "id": "8kv7uj2kXQ6L"
      },
      "execution_count": null,
      "outputs": []
    },
    {
      "cell_type": "code",
      "source": [
        "b"
      ],
      "metadata": {
        "colab": {
          "base_uri": "https://localhost:8080/"
        },
        "id": "MYc2XmYHXfBU",
        "outputId": "f0b77c62-590e-43c3-974e-8b1719d6e9be"
      },
      "execution_count": null,
      "outputs": [
        {
          "output_type": "execute_result",
          "data": {
            "text/plain": [
              "[6, 5, 4, 5]"
            ]
          },
          "metadata": {},
          "execution_count": 49
        }
      ]
    },
    {
      "cell_type": "code",
      "source": [
        "a"
      ],
      "metadata": {
        "colab": {
          "base_uri": "https://localhost:8080/"
        },
        "id": "xQdD5dnQXgM8",
        "outputId": "3d61862c-2575-4e3a-e455-39cf043d1193"
      },
      "execution_count": null,
      "outputs": [
        {
          "output_type": "execute_result",
          "data": {
            "text/plain": [
              "[4, 5]"
            ]
          },
          "metadata": {},
          "execution_count": 50
        }
      ]
    },
    {
      "cell_type": "markdown",
      "source": [
        "# sort"
      ],
      "metadata": {
        "id": "agSqgfocYKCP"
      }
    },
    {
      "cell_type": "code",
      "source": [
        "data=[-6,2,7,0,-3,5]\n",
        "data.sort()#ascending order\n",
        "data"
      ],
      "metadata": {
        "colab": {
          "base_uri": "https://localhost:8080/"
        },
        "id": "uqe4wE_zXgo0",
        "outputId": "ca841314-7c66-4723-8af3-462352092c9b"
      },
      "execution_count": null,
      "outputs": [
        {
          "output_type": "execute_result",
          "data": {
            "text/plain": [
              "[-6, -3, 0, 2, 5, 7]"
            ]
          },
          "metadata": {},
          "execution_count": 1
        }
      ]
    },
    {
      "cell_type": "code",
      "source": [
        "data=[-6,2,7,0,-3,5]\n",
        "data.sort(reverse = True)#descending order\n",
        "data"
      ],
      "metadata": {
        "colab": {
          "base_uri": "https://localhost:8080/"
        },
        "id": "m7d7hOSrYV1b",
        "outputId": "551c0fa1-7116-42d4-8491-45464fcdab2d"
      },
      "execution_count": null,
      "outputs": [
        {
          "output_type": "execute_result",
          "data": {
            "text/plain": [
              "[7, 5, 2, 0, -3, -6]"
            ]
          },
          "metadata": {},
          "execution_count": 3
        }
      ]
    },
    {
      "cell_type": "code",
      "source": [
        "data=[-6,2,7,0,-3,5]\n",
        "sorted(data)#sort garcha without updating original data variable"
      ],
      "metadata": {
        "colab": {
          "base_uri": "https://localhost:8080/"
        },
        "id": "aotJrJX5YeBL",
        "outputId": "8b738e28-8400-49c9-d4b8-be916168283a"
      },
      "execution_count": null,
      "outputs": [
        {
          "output_type": "execute_result",
          "data": {
            "text/plain": [
              "[-6, -3, 0, 2, 5, 7]"
            ]
          },
          "metadata": {},
          "execution_count": 7
        }
      ]
    },
    {
      "cell_type": "code",
      "source": [
        "data"
      ],
      "metadata": {
        "colab": {
          "base_uri": "https://localhost:8080/"
        },
        "id": "etk9R26aY_Xy",
        "outputId": "b96a0fa7-ee27-4000-87dc-d7ee5ced3a13"
      },
      "execution_count": null,
      "outputs": [
        {
          "output_type": "execute_result",
          "data": {
            "text/plain": [
              "[-6, 2, 7, 0, -3, 5]"
            ]
          },
          "metadata": {},
          "execution_count": 5
        }
      ]
    },
    {
      "cell_type": "code",
      "source": [
        "#abdul bari DSA youtube"
      ],
      "metadata": {
        "id": "afYH0DB0ZALS"
      },
      "execution_count": null,
      "outputs": []
    },
    {
      "cell_type": "code",
      "source": [
        "#wap to square each item of a list\n"
      ],
      "metadata": {
        "id": "1aVuIbqnZkMR"
      },
      "execution_count": null,
      "outputs": []
    },
    {
      "cell_type": "code",
      "source": [
        "num = [5,6,2,1,7]\n",
        "sq=[]\n",
        "for item in num:\n",
        "    print(sq)\n",
        "    sq.append(item**2)\n",
        "print(sq)"
      ],
      "metadata": {
        "colab": {
          "base_uri": "https://localhost:8080/"
        },
        "id": "dwslPCamaFlx",
        "outputId": "82dc1d5b-9ac2-4c5c-d9a1-88f7e443a681"
      },
      "execution_count": null,
      "outputs": [
        {
          "output_type": "stream",
          "name": "stdout",
          "text": [
            "[]\n",
            "[25]\n",
            "[25, 36]\n",
            "[25, 36, 4]\n",
            "[25, 36, 4, 1]\n",
            "[25, 36, 4, 1, 49]\n"
          ]
        }
      ]
    },
    {
      "cell_type": "code",
      "source": [
        "num = [5,6,2,1,7]\n",
        "cube=[]\n",
        "for item in num:\n",
        "    print(cube)\n",
        "    cube.append(item**3)\n",
        "    print(cube)"
      ],
      "metadata": {
        "colab": {
          "base_uri": "https://localhost:8080/"
        },
        "id": "MqQGeLHmaUs5",
        "outputId": "6ec1ce49-b09c-4f5a-c7ae-aea82318a561"
      },
      "execution_count": null,
      "outputs": [
        {
          "output_type": "stream",
          "name": "stdout",
          "text": [
            "[]\n",
            "[125]\n",
            "[125]\n",
            "[125, 216]\n",
            "[125, 216]\n",
            "[125, 216, 8]\n",
            "[125, 216, 8]\n",
            "[125, 216, 8, 1]\n",
            "[125, 216, 8, 1]\n",
            "[125, 216, 8, 1, 343]\n"
          ]
        }
      ]
    },
    {
      "cell_type": "code",
      "source": [
        "#wap to check odd/even sq odd list even list\n"
      ],
      "metadata": {
        "id": "YfVDSW4Ebjdm"
      },
      "execution_count": null,
      "outputs": []
    },
    {
      "cell_type": "code",
      "source": [
        "lista = [1,2,3,4,5,6]\n",
        "odd=[]\n",
        "even=[]\n",
        "for item in lista:\n",
        "    if item%2 == 0:\n",
        "        even.append(item)\n",
        "    else:\n",
        "        odd.append(item**2)\n",
        "print(f'the even no. are {even}')\n",
        "print(f'the squared odd no. are {odd}')\n",
        "\n"
      ],
      "metadata": {
        "colab": {
          "base_uri": "https://localhost:8080/"
        },
        "id": "98rzW4l6Gl3T",
        "outputId": "0df525c5-6eff-4ea3-eae8-59c9f01bb5b8"
      },
      "execution_count": null,
      "outputs": [
        {
          "output_type": "stream",
          "name": "stdout",
          "text": [
            "the even no. are [2, 4, 6]\n",
            "the squared odd no. are [1, 9, 25]\n"
          ]
        }
      ]
    },
    {
      "cell_type": "markdown",
      "source": [
        "#List comprehension\n",
        "\n",
        "*   shorter faster and elegant\n",
        "\n",
        "\n"
      ],
      "metadata": {
        "id": "3AAO-yihsMAl"
      }
    },
    {
      "cell_type": "markdown",
      "source": [
        "```python\n",
        "[expression for item in iterable]\n",
        "[expression for item in iterable if True]\n",
        "[expression if True else expression for item in iterable]\n",
        "```\n",
        "usually expression is 'item' hai"
      ],
      "metadata": {
        "id": "-dZGiZFosYou"
      }
    },
    {
      "cell_type": "markdown",
      "source": [
        "# j j ma loop ma launa milcha they are known as iterables"
      ],
      "metadata": {
        "id": "mChwM6mptCQY"
      }
    },
    {
      "cell_type": "code",
      "source": [
        "#wap square"
      ],
      "metadata": {
        "id": "vevRjjHyH8dg"
      },
      "execution_count": null,
      "outputs": []
    },
    {
      "cell_type": "code",
      "source": [
        "num = [5,6,2,1,7]"
      ],
      "metadata": {
        "id": "s81iEz5Ut8Um"
      },
      "execution_count": null,
      "outputs": []
    },
    {
      "cell_type": "code",
      "source": [
        "sq = [item ** 2 for item in num]#sq\n",
        "print(sq)"
      ],
      "metadata": {
        "colab": {
          "base_uri": "https://localhost:8080/"
        },
        "id": "zbEQu_f4tvsJ",
        "outputId": "fd41e9ea-816d-43ff-f3c0-f512c8b2458c"
      },
      "execution_count": null,
      "outputs": [
        {
          "output_type": "stream",
          "name": "stdout",
          "text": [
            "[25, 36, 4, 1, 49]\n"
          ]
        }
      ]
    },
    {
      "cell_type": "code",
      "source": [
        "cube = [item ** 3 for item in num]#cube list comprehension\n",
        "print(cube)"
      ],
      "metadata": {
        "colab": {
          "base_uri": "https://localhost:8080/"
        },
        "id": "XrPY3Drct3fX",
        "outputId": "84fb32ce-a8ed-4f31-cc1e-b8e178a524d7"
      },
      "execution_count": null,
      "outputs": [
        {
          "output_type": "stream",
          "name": "stdout",
          "text": [
            "[125, 216, 8, 1, 343]\n"
          ]
        }
      ]
    },
    {
      "cell_type": "code",
      "source": [
        "#list compehension with if only"
      ],
      "metadata": {
        "id": "We0lq8_ZuJpX"
      },
      "execution_count": null,
      "outputs": []
    },
    {
      "cell_type": "code",
      "source": [
        "import random       #pseudo random int generator\n",
        "random.randint (a=0, b=100)#undeterminisitic algorythm"
      ],
      "metadata": {
        "colab": {
          "base_uri": "https://localhost:8080/"
        },
        "id": "AnXo3dGgui6G",
        "outputId": "10a2eb2c-9f64-4582-8c47-178032d86be1"
      },
      "execution_count": null,
      "outputs": [
        {
          "output_type": "execute_result",
          "data": {
            "text/plain": [
              "3"
            ]
          },
          "metadata": {},
          "execution_count": 10
        }
      ]
    },
    {
      "cell_type": "code",
      "source": [
        "import random\n",
        "random.seed(10)#gives the seed value which needs to be >=0\n",
        "random.randint (a=0, b=100)#deterministic algorythm"
      ],
      "metadata": {
        "colab": {
          "base_uri": "https://localhost:8080/"
        },
        "id": "33R0UHDeu4kX",
        "outputId": "8e91105e-b830-4495-b43d-a367476f1d0d"
      },
      "execution_count": null,
      "outputs": [
        {
          "output_type": "execute_result",
          "data": {
            "text/plain": [
              "73"
            ]
          },
          "metadata": {},
          "execution_count": 1
        }
      ]
    },
    {
      "cell_type": "code",
      "source": [
        "import random\n",
        "random.seed(0)\n",
        "nums =[random.randint (a=0, b=100) for i in range(10)]#a stands for lower value, b stands for higher value\n",
        "print(nums)"
      ],
      "metadata": {
        "colab": {
          "base_uri": "https://localhost:8080/"
        },
        "id": "Q92BO6RwvQ06",
        "outputId": "c04c408f-98f6-48e7-da08-2539f0e80f9c"
      },
      "execution_count": null,
      "outputs": [
        {
          "output_type": "stream",
          "name": "stdout",
          "text": [
            "[49, 97, 53, 5, 33, 65, 62, 51, 100, 38]\n"
          ]
        }
      ]
    },
    {
      "cell_type": "code",
      "source": [
        "even = [item for item in nums if item%2 == 0]#even no.\n",
        "print (even)"
      ],
      "metadata": {
        "colab": {
          "base_uri": "https://localhost:8080/"
        },
        "id": "ICrH3-oWwTkm",
        "outputId": "2b84bdc4-03a5-410a-ebf6-220da7d127b5"
      },
      "execution_count": null,
      "outputs": [
        {
          "output_type": "stream",
          "name": "stdout",
          "text": [
            "[62, 100, 38]\n"
          ]
        }
      ]
    },
    {
      "cell_type": "code",
      "source": [
        "odd = [item for item in nums if item%2 != 0]\n",
        "print(odd)#odd no."
      ],
      "metadata": {
        "colab": {
          "base_uri": "https://localhost:8080/"
        },
        "id": "MYBDa8WyxPiG",
        "outputId": "b7b44196-29e4-4f33-d738-aa66a5b2a4ae"
      },
      "execution_count": null,
      "outputs": [
        {
          "output_type": "stream",
          "name": "stdout",
          "text": [
            "[49, 97, 53, 5, 33, 65, 51]\n"
          ]
        }
      ]
    },
    {
      "cell_type": "markdown",
      "source": [
        "#List comprehension with if & else"
      ],
      "metadata": {
        "id": "X4IqrT7qzMBW"
      }
    },
    {
      "cell_type": "markdown",
      "source": [
        "#relu activation function"
      ],
      "metadata": {
        "id": "NYAQz0Hi0z5C"
      }
    },
    {
      "cell_type": "markdown",
      "source": [
        "![relu.webp](data:image/webp;base64,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)\n",
        "\n",
        "max(0,x)"
      ],
      "metadata": {
        "id": "VfGC-2ir0mhx"
      }
    },
    {
      "cell_type": "code",
      "source": [
        "import random\n",
        "random.seed(0)\n",
        "nums =[random.randint (a=-10, b=10) for i in range(10)]\n",
        "nums"
      ],
      "metadata": {
        "colab": {
          "base_uri": "https://localhost:8080/"
        },
        "id": "IxSvxDdg2Vjf",
        "outputId": "69573926-98ef-4a11-90d0-b06aa840ffca"
      },
      "execution_count": null,
      "outputs": [
        {
          "output_type": "execute_result",
          "data": {
            "text/plain": [
              "[2, 3, -9, -2, 6, 5, 2, -1, 5, 1]"
            ]
          },
          "metadata": {},
          "execution_count": 33
        }
      ]
    },
    {
      "cell_type": "code",
      "source": [
        "import random\n",
        "random.seed(0)\n",
        "nums =[random.randint (a=-10, b=10) for i in range(10)]\n",
        "relu = [item if item >=0 else 0 for item in nums]\n",
        "print(relu)\n"
      ],
      "metadata": {
        "colab": {
          "base_uri": "https://localhost:8080/"
        },
        "id": "Y3-IuKbWyqH8",
        "outputId": "30603ecc-6ab1-4787-987a-606b0fd2e4ae"
      },
      "execution_count": null,
      "outputs": [
        {
          "output_type": "stream",
          "name": "stdout",
          "text": [
            "[2, 3, 0, 0, 6, 5, 2, 0, 5, 1]\n"
          ]
        }
      ]
    },
    {
      "cell_type": "code",
      "source": [
        "#wap replace everything except banana for orange"
      ],
      "metadata": {
        "id": "NskkphJ_1pQA"
      },
      "execution_count": null,
      "outputs": []
    },
    {
      "cell_type": "code",
      "source": [
        "fruits = ['apple', 'banana','cherry','kiwi','mango']\n",
        "newlist = [item if item== 'banana' else 'orange' for item in fruits]\n",
        "print(newlist)"
      ],
      "metadata": {
        "colab": {
          "base_uri": "https://localhost:8080/"
        },
        "id": "rByXWmU919Gu",
        "outputId": "0ff6054b-8e62-4f7c-e5d7-4048373780af"
      },
      "execution_count": null,
      "outputs": [
        {
          "output_type": "stream",
          "name": "stdout",
          "text": [
            "['orange', 'banana', 'orange', 'orange', 'orange']\n"
          ]
        }
      ]
    },
    {
      "cell_type": "code",
      "source": [
        "fruitsa = ['apple','apple','apple','banana','banana']\n",
        "listb = [i if i == 'banana' else 'orange' for i in fruitsa]\n",
        "print(listb)"
      ],
      "metadata": {
        "colab": {
          "base_uri": "https://localhost:8080/"
        },
        "id": "815GDS2QlA6I",
        "outputId": "3956dacf-bbff-4101-b819-4500058db6ba"
      },
      "execution_count": null,
      "outputs": [
        {
          "output_type": "stream",
          "name": "stdout",
          "text": [
            "['orange', 'orange', 'orange', 'banana', 'banana']\n"
          ]
        }
      ]
    },
    {
      "cell_type": "code",
      "source": [
        "fruitsc = ['apple','apple','apple','banana','banana']\n",
        "listc = [item if item == 'banana' else 'orange' for item in fruitsc]\n",
        "print(listc)"
      ],
      "metadata": {
        "colab": {
          "base_uri": "https://localhost:8080/"
        },
        "id": "_H4yAhthllJ9",
        "outputId": "2711ca0e-3690-470b-db74-fc9ee41856db"
      },
      "execution_count": null,
      "outputs": [
        {
          "output_type": "stream",
          "name": "stdout",
          "text": [
            "['orange', 'orange', 'orange', 'banana', 'banana']\n"
          ]
        }
      ]
    },
    {
      "cell_type": "code",
      "source": [
        "fruitsa = ['apple','apple','apple','banana','banana']\n",
        "newlista = []\n",
        "for item in fruitsa:\n",
        "    if item == 'banana':\n",
        "        print(item)\n",
        "        newlista.append(item)\n",
        "    elif item != 'banana':\n",
        "        print('orange')\n",
        "        newlista.append('orange')\n",
        "print(newlista)\n",
        "\n",
        "\n",
        "\n"
      ],
      "metadata": {
        "colab": {
          "base_uri": "https://localhost:8080/"
        },
        "id": "Q_nO9DTYgvTd",
        "outputId": "9de660b3-6404-4583-add1-b0f5a9b0a931"
      },
      "execution_count": null,
      "outputs": [
        {
          "output_type": "stream",
          "name": "stdout",
          "text": [
            "orange\n",
            "orange\n",
            "orange\n",
            "banana\n",
            "banana\n",
            "['orange', 'orange', 'orange', 'banana', 'banana']\n"
          ]
        }
      ]
    },
    {
      "cell_type": "code",
      "source": [
        "fruitsa = ['apple','apple','apple','banana','banana']\n",
        "listing =[]\n",
        "for i in fruitsa:\n",
        "    if i == 'banana':\n",
        "        listing.append(item)\n",
        "    else:\n",
        "        listing.append('orange')\n",
        "print(listing)"
      ],
      "metadata": {
        "colab": {
          "base_uri": "https://localhost:8080/"
        },
        "id": "ZRdNy9LdkbmN",
        "outputId": "419c99f2-bb53-46fc-9dc7-65b56aa4c80b"
      },
      "execution_count": null,
      "outputs": [
        {
          "output_type": "stream",
          "name": "stdout",
          "text": [
            "['orange', 'orange', 'orange', 'banana', 'banana']\n"
          ]
        }
      ]
    },
    {
      "cell_type": "code",
      "source": [
        "fruits = ['apple', 'banana','cherry','kiwi','mango']\n",
        "fruits = [fruit.upper() for fruit in fruits]\n",
        "print(fruits)"
      ],
      "metadata": {
        "colab": {
          "base_uri": "https://localhost:8080/"
        },
        "id": "9S6cwJfW4MlH",
        "outputId": "db181206-0773-4b75-e103-8b5a01e1f276"
      },
      "execution_count": null,
      "outputs": [
        {
          "output_type": "stream",
          "name": "stdout",
          "text": [
            "['APPLE', 'BANANA', 'CHERRY', 'KIWI', 'MANGO']\n"
          ]
        }
      ]
    },
    {
      "cell_type": "code",
      "source": [
        "vegetables = ['carrot','brinjal','cauli','raddish']\n",
        "vegetables = [item.upper() for item in vegetables]\n",
        "print(vegetables)"
      ],
      "metadata": {
        "colab": {
          "base_uri": "https://localhost:8080/"
        },
        "id": "IzgV-KaNmdf0",
        "outputId": "c1dd9e27-561f-499a-8132-406591e7f923"
      },
      "execution_count": null,
      "outputs": [
        {
          "output_type": "stream",
          "name": "stdout",
          "text": [
            "['CARROT', 'BRINJAL', 'CAULI', 'RADDISH']\n"
          ]
        }
      ]
    },
    {
      "cell_type": "code",
      "source": [
        "fruitsa1 = ['apple','apple','apple','banana','banana']\n",
        "fruitsa1 = [item.upper() for item in fruitsa1]\n",
        "print(fruitsa1)"
      ],
      "metadata": {
        "colab": {
          "base_uri": "https://localhost:8080/"
        },
        "id": "PVOj_I3cl7bf",
        "outputId": "dafbe688-a9e0-47a0-802d-268b427be9f2"
      },
      "execution_count": null,
      "outputs": [
        {
          "output_type": "stream",
          "name": "stdout",
          "text": [
            "['APPLE', 'APPLE', 'APPLE', 'BANANA', 'BANANA']\n"
          ]
        }
      ]
    },
    {
      "cell_type": "code",
      "source": [
        "#leetcode #hackerrank"
      ],
      "metadata": {
        "id": "2KP9mpZh4XAX"
      },
      "execution_count": null,
      "outputs": []
    },
    {
      "cell_type": "code",
      "source": [],
      "metadata": {
        "id": "I3Fabh0d6DIW"
      },
      "execution_count": null,
      "outputs": []
    }
  ]
}