{
  "nbformat": 4,
  "nbformat_minor": 0,
  "metadata": {
    "colab": {
      "provenance": []
    },
    "kernelspec": {
      "name": "python3",
      "display_name": "Python 3"
    },
    "language_info": {
      "name": "python"
    }
  },
  "cells": [
    {
      "cell_type": "code",
      "execution_count": null,
      "metadata": {
        "colab": {
          "base_uri": "https://localhost:8080/"
        },
        "id": "UjGgc9uZ33VN",
        "outputId": "3f4d2035-6589-49db-d365-f4b8d0379883"
      },
      "outputs": [
        {
          "output_type": "stream",
          "name": "stdout",
          "text": [
            "<class 'str'>\n"
          ]
        }
      ],
      "source": [
        "name = \"shiva\"\n",
        "print(type(name))"
      ]
    },
    {
      "cell_type": "code",
      "source": [
        "s1 = \"shiva\"\n",
        "s2 = 'shiva'\n",
        "s1 == s2"
      ],
      "metadata": {
        "colab": {
          "base_uri": "https://localhost:8080/"
        },
        "id": "6O7du1aX4sDe",
        "outputId": "88648198-dd07-45f5-9933-75e9d8869b0d"
      },
      "execution_count": null,
      "outputs": [
        {
          "output_type": "execute_result",
          "data": {
            "text/plain": [
              "True"
            ]
          },
          "metadata": {},
          "execution_count": 3
        }
      ]
    },
    {
      "cell_type": "code",
      "source": [
        "time = 24\n",
        "assert time == 24"
      ],
      "metadata": {
        "id": "GsUvPrhf5Lzb"
      },
      "execution_count": null,
      "outputs": []
    },
    {
      "cell_type": "code",
      "source": [
        "time = 24               #prints error if assert is not true\n",
        "assert time == 23"
      ],
      "metadata": {
        "colab": {
          "base_uri": "https://localhost:8080/",
          "height": 158
        },
        "id": "ddNix5Dm506r",
        "outputId": "181ace6e-b247-40c1-8394-7cee433494e9"
      },
      "execution_count": null,
      "outputs": [
        {
          "output_type": "error",
          "ename": "AssertionError",
          "evalue": "",
          "traceback": [
            "\u001b[0;31m---------------------------------------------------------------------------\u001b[0m",
            "\u001b[0;31mAssertionError\u001b[0m                            Traceback (most recent call last)",
            "\u001b[0;32m<ipython-input-5-4e0dbf67a03e>\u001b[0m in \u001b[0;36m<cell line: 2>\u001b[0;34m()\u001b[0m\n\u001b[1;32m      1\u001b[0m \u001b[0mtime\u001b[0m \u001b[0;34m=\u001b[0m \u001b[0;36m24\u001b[0m\u001b[0;34m\u001b[0m\u001b[0;34m\u001b[0m\u001b[0m\n\u001b[0;32m----> 2\u001b[0;31m \u001b[0;32massert\u001b[0m \u001b[0mtime\u001b[0m \u001b[0;34m==\u001b[0m \u001b[0;36m23\u001b[0m\u001b[0;34m\u001b[0m\u001b[0;34m\u001b[0m\u001b[0m\n\u001b[0m",
            "\u001b[0;31mAssertionError\u001b[0m: "
          ]
        }
      ]
    },
    {
      "cell_type": "markdown",
      "source": [
        "# Single line string and multi line string"
      ],
      "metadata": {
        "id": "zrPc44ro6s_P"
      }
    },
    {
      "cell_type": "code",
      "source": [
        "msg = \"Hello world\"   #single line string\n",
        "print(msg)"
      ],
      "metadata": {
        "colab": {
          "base_uri": "https://localhost:8080/"
        },
        "id": "DzCTMW4T56gK",
        "outputId": "4e02d721-7fb6-4246-e33b-3edffadcf3a3"
      },
      "execution_count": null,
      "outputs": [
        {
          "output_type": "stream",
          "name": "stdout",
          "text": [
            "Hello world\n"
          ]
        }
      ]
    },
    {
      "cell_type": "code",
      "source": [
        "#multi line string\n",
        "poem = '''\n",
        "संसार रुपी सुख स्वर्गभित्र,\n",
        "रमें रमाएँ लिइ भित्र चित्र ।\n",
        "सारा भयो त्यो मरुभूमि तुल्य,\n",
        "रातै परेझैं अब बुझ्छु बल्ल ।\n",
        "रहेछ संसार निशा समान,\n",
        "आएन ज्यूँदै रहँदा नि ज्ञान ।\n",
        "आखीर श्रीकृष्ण रहेछ एक,\n",
        "न भक्ति भो, ज्ञान, नभो विवेक ।\n",
        "महामरुमा कणझैं म तातो,\n",
        "जलेर मर्दो बिनु आश लाटो ।\n",
        "सुकी रहेको तरुझैं छु खाली,\n",
        "चिताग्नि तापी जल डाल्न फाली ।\n",
        "संस्कार आफ्नो सब नै गुमाएँ,\n",
        "म शून्यमा शून्य सरी बिलाएँ ।\n",
        "जन्मेँ म यो स्वर्गविषे पलाएँ,\n",
        "आखीर भै खाक त्यसै बिलाएँ\n",
        "'''\n",
        "print(poem)"
      ],
      "metadata": {
        "colab": {
          "base_uri": "https://localhost:8080/"
        },
        "id": "_c8cc5_H7DS8",
        "outputId": "62eb3dfb-d7df-44a4-cd76-669bd2168ce6"
      },
      "execution_count": null,
      "outputs": [
        {
          "output_type": "stream",
          "name": "stdout",
          "text": [
            "\n",
            "संसार रुपी सुख स्वर्गभित्र,\n",
            "रमें रमाएँ लिइ भित्र चित्र ।\n",
            "सारा भयो त्यो मरुभूमि तुल्य,\n",
            "रातै परेझैं अब बुझ्छु बल्ल ।\n",
            "रहेछ संसार निशा समान,\n",
            "आएन ज्यूँदै रहँदा नि ज्ञान ।\n",
            "आखीर श्रीकृष्ण रहेछ एक,\n",
            "न भक्ति भो, ज्ञान, नभो विवेक ।\n",
            "महामरुमा कणझैं म तातो,\n",
            "जलेर मर्दो बिनु आश लाटो ।\n",
            "सुकी रहेको तरुझैं छु खाली,\n",
            "चिताग्नि तापी जल डाल्न फाली ।\n",
            "संस्कार आफ्नो सब नै गुमाएँ,\n",
            "म शून्यमा शून्य सरी बिलाएँ ।\n",
            "जन्मेँ म यो स्वर्गविषे पलाएँ,\n",
            "आखीर भै खाक त्यसै बिलाएँ\n",
            "\n"
          ]
        }
      ]
    },
    {
      "cell_type": "code",
      "source": [
        "s = \"hello world\""
      ],
      "metadata": {
        "id": "0vy2FJbu7hXh"
      },
      "execution_count": null,
      "outputs": []
    },
    {
      "cell_type": "markdown",
      "source": [
        "$$INDEXING  AND SLICING"
      ],
      "metadata": {
        "id": "pm9tEyJt9j6n"
      }
    },
    {
      "cell_type": "code",
      "source": [
        "#Indexing Syntax:   Variable = [index]"
      ],
      "metadata": {
        "id": "jPWqAU7s9S5Q"
      },
      "execution_count": null,
      "outputs": []
    },
    {
      "cell_type": "code",
      "source": [
        "s = \"hello world\"\n",
        "print(s[0])\n",
        "print(s[1])\n",
        "print(s[2])\n",
        "print(s[3])\n",
        "print(s[4])\n",
        "print(s[5])\n",
        "print(s[6])\n",
        "print(s[7])\n",
        "print(s[8])\n",
        "print(s[9])\n",
        "print(s[10])\n",
        "print(s[11])    # error because no index.\n"
      ],
      "metadata": {
        "colab": {
          "base_uri": "https://localhost:8080/",
          "height": 367
        },
        "id": "cIps1jkm--5c",
        "outputId": "d771ab28-3a94-4671-8cee-0ee98ee80bb0"
      },
      "execution_count": null,
      "outputs": [
        {
          "output_type": "stream",
          "name": "stdout",
          "text": [
            "h\n",
            "e\n",
            "l\n",
            "l\n",
            "o\n",
            " \n",
            "w\n",
            "o\n",
            "r\n",
            "l\n",
            "d\n"
          ]
        },
        {
          "output_type": "error",
          "ename": "IndexError",
          "evalue": "string index out of range",
          "traceback": [
            "\u001b[0;31m---------------------------------------------------------------------------\u001b[0m",
            "\u001b[0;31mIndexError\u001b[0m                                Traceback (most recent call last)",
            "\u001b[0;32m<ipython-input-17-35ab72eba9de>\u001b[0m in \u001b[0;36m<cell line: 13>\u001b[0;34m()\u001b[0m\n\u001b[1;32m     11\u001b[0m \u001b[0mprint\u001b[0m\u001b[0;34m(\u001b[0m\u001b[0ms\u001b[0m\u001b[0;34m[\u001b[0m\u001b[0;36m9\u001b[0m\u001b[0;34m]\u001b[0m\u001b[0;34m)\u001b[0m\u001b[0;34m\u001b[0m\u001b[0;34m\u001b[0m\u001b[0m\n\u001b[1;32m     12\u001b[0m \u001b[0mprint\u001b[0m\u001b[0;34m(\u001b[0m\u001b[0ms\u001b[0m\u001b[0;34m[\u001b[0m\u001b[0;36m10\u001b[0m\u001b[0;34m]\u001b[0m\u001b[0;34m)\u001b[0m\u001b[0;34m\u001b[0m\u001b[0;34m\u001b[0m\u001b[0m\n\u001b[0;32m---> 13\u001b[0;31m \u001b[0mprint\u001b[0m\u001b[0;34m(\u001b[0m\u001b[0ms\u001b[0m\u001b[0;34m[\u001b[0m\u001b[0;36m11\u001b[0m\u001b[0;34m]\u001b[0m\u001b[0;34m)\u001b[0m    \u001b[0;31m# error because no index.\u001b[0m\u001b[0;34m\u001b[0m\u001b[0;34m\u001b[0m\u001b[0m\n\u001b[0m",
            "\u001b[0;31mIndexError\u001b[0m: string index out of range"
          ]
        }
      ]
    },
    {
      "cell_type": "code",
      "source": [
        "#Slicing syntax: Variable [start:stop:step]\n",
        "\n",
        "\n",
        "#note: python doesn't print stop value."
      ],
      "metadata": {
        "id": "4CMC2NA0_GHq"
      },
      "execution_count": null,
      "outputs": []
    },
    {
      "cell_type": "code",
      "source": [
        "s = \"Hello world\"\n",
        "s[0:4]"
      ],
      "metadata": {
        "colab": {
          "base_uri": "https://localhost:8080/",
          "height": 35
        },
        "id": "DtPkl3dTAr0a",
        "outputId": "bc8f511a-122d-45a4-c4e7-959b12213c9f"
      },
      "execution_count": null,
      "outputs": [
        {
          "output_type": "execute_result",
          "data": {
            "text/plain": [
              "'Hell'"
            ],
            "application/vnd.google.colaboratory.intrinsic+json": {
              "type": "string"
            }
          },
          "metadata": {},
          "execution_count": 1
        }
      ]
    },
    {
      "cell_type": "markdown",
      "source": [
        "# For loop"
      ],
      "metadata": {
        "id": "0lZn8uuT59KF"
      }
    },
    {
      "cell_type": "code",
      "source": [
        "location = \"tinkune\"\n",
        "for item in location:\n",
        "    print(item)"
      ],
      "metadata": {
        "id": "EbA1I_DmBsXp",
        "colab": {
          "base_uri": "https://localhost:8080/"
        },
        "outputId": "1b9d0a24-51d1-4137-ee57-c0bce0e772f4"
      },
      "execution_count": null,
      "outputs": [
        {
          "output_type": "stream",
          "name": "stdout",
          "text": [
            "t\n",
            "i\n",
            "n\n",
            "k\n",
            "u\n",
            "n\n",
            "e\n"
          ]
        }
      ]
    },
    {
      "cell_type": "code",
      "source": [
        "for item in \"tinkune\":\n",
        "    print(item)"
      ],
      "metadata": {
        "colab": {
          "base_uri": "https://localhost:8080/"
        },
        "id": "BwMP1i-X6T4t",
        "outputId": "cfa082d7-4a6c-4983-ac4e-6cb3ac7b49e1"
      },
      "execution_count": null,
      "outputs": [
        {
          "output_type": "stream",
          "name": "stdout",
          "text": [
            "t\n",
            "i\n",
            "n\n",
            "k\n",
            "u\n",
            "n\n",
            "e\n"
          ]
        }
      ]
    },
    {
      "cell_type": "code",
      "source": [
        "country = input(\"enter your country's name = \")\n",
        "for item in country:\n",
        "    print(item)"
      ],
      "metadata": {
        "colab": {
          "base_uri": "https://localhost:8080/"
        },
        "id": "vm-3ZhF87Q5r",
        "outputId": "2cc7371a-c30d-4a4a-e10b-a6e75d7a6459"
      },
      "execution_count": null,
      "outputs": [
        {
          "output_type": "stream",
          "name": "stdout",
          "text": [
            "enter your country's name = Nepal\n",
            "N\n",
            "e\n",
            "p\n",
            "a\n",
            "l\n"
          ]
        }
      ]
    },
    {
      "cell_type": "markdown",
      "source": [
        "# Membership Operator\n",
        "\n",
        "\n",
        "*   in\n",
        "*   not in"
      ],
      "metadata": {
        "id": "Ja_PgQ5C8AKw"
      }
    },
    {
      "cell_type": "code",
      "source": [
        "country = \"nepal\"\n",
        "print(\"p\" in country)\n",
        "print(\"z\" in country)\n",
        "print(\"z\" not in country)"
      ],
      "metadata": {
        "colab": {
          "base_uri": "https://localhost:8080/"
        },
        "id": "zZwUiXPq7pH_",
        "outputId": "b7e79751-ae22-474b-dd37-1c1720cc236d"
      },
      "execution_count": null,
      "outputs": [
        {
          "output_type": "stream",
          "name": "stdout",
          "text": [
            "True\n",
            "False\n",
            "True\n"
          ]
        }
      ]
    },
    {
      "cell_type": "code",
      "source": [
        "country = \"nepal\"\n",
        "print(\"n\" in 'aeiou') #\"n\" aeiou ma pardainasoit's consonant\n",
        "print(\"e\" in 'aeiou') #vowel"
      ],
      "metadata": {
        "colab": {
          "base_uri": "https://localhost:8080/"
        },
        "id": "ZKXEyxgX8qVd",
        "outputId": "85d3fca0-7306-4802-f5a5-545b4f52dc52"
      },
      "execution_count": null,
      "outputs": [
        {
          "output_type": "stream",
          "name": "stdout",
          "text": [
            "False\n",
            "True\n"
          ]
        }
      ]
    },
    {
      "cell_type": "code",
      "source": [
        "country = \"nepal\"\n",
        "for item in country:\n",
        "    print(item)"
      ],
      "metadata": {
        "colab": {
          "base_uri": "https://localhost:8080/"
        },
        "id": "9UgnkDvm-Gc1",
        "outputId": "b39873b1-9828-48cf-a37b-b2680fbe5089"
      },
      "execution_count": null,
      "outputs": [
        {
          "output_type": "stream",
          "name": "stdout",
          "text": [
            "n\n",
            "e\n",
            "p\n",
            "a\n",
            "l\n"
          ]
        }
      ]
    },
    {
      "cell_type": "markdown",
      "source": [
        "##Syntax of for loop:\n",
        "```python\n",
        "for item in iterable:\n",
        "    #for loop logic\n",
        "    print(item)\n",
        "```"
      ],
      "metadata": {
        "id": "5DnCsXgr-Yws"
      }
    },
    {
      "cell_type": "code",
      "source": [
        "#WAP to check vowel and consonants of a word"
      ],
      "metadata": {
        "id": "NvO-naT39Zij"
      },
      "execution_count": null,
      "outputs": []
    },
    {
      "cell_type": "code",
      "source": [
        "country = \"nepal\"\n",
        "count1=0\n",
        "count2=0\n",
        "for char in country:\n",
        "    if char in 'aeiou':\n",
        "        count1=count1+1\n",
        "        print(f\"{char} is vowel\")\n",
        "    else:\n",
        "        count2=count2+1\n",
        "        print(f\"{char} is consonant\")\n",
        "print(f'total no. of vowels = {count1}')\n",
        "print(f'total no. of consonents = {count2}')"
      ],
      "metadata": {
        "colab": {
          "base_uri": "https://localhost:8080/"
        },
        "id": "sf06fjUU-wqb",
        "outputId": "ceb40043-c5dc-4b75-e14e-8e3482c2aed3"
      },
      "execution_count": null,
      "outputs": [
        {
          "output_type": "stream",
          "name": "stdout",
          "text": [
            "n is consonant\n",
            "e is vowel\n",
            "p is consonant\n",
            "a is vowel\n",
            "l is consonant\n",
            "total no. of vowels = 2\n",
            "total no. of consonents = 3\n"
          ]
        }
      ]
    },
    {
      "cell_type": "markdown",
      "source": [
        "#wap to count cons and vowels"
      ],
      "metadata": {
        "id": "ecIv4pG6ClpY"
      }
    },
    {
      "cell_type": "code",
      "source": [
        "country = \"nepal\"\n",
        "con = 0\n",
        "vow = 0\n",
        "for char in country:\n",
        "    if char in 'aeiou':\n",
        "        vow = vow + 1\n",
        "    else:\n",
        "        con = con + 1\n",
        "print(f\"Total no. of vowel in {country} word is {vow}\")\n",
        "print(f\"Total no. of consonant in {country} word is {con}\")\n"
      ],
      "metadata": {
        "colab": {
          "base_uri": "https://localhost:8080/"
        },
        "id": "NOO-t-xy_hVs",
        "outputId": "0b32d723-f078-46a0-c24b-674561ed256e"
      },
      "execution_count": null,
      "outputs": [
        {
          "output_type": "stream",
          "name": "stdout",
          "text": [
            "Total no. of vowel in nepal word is 2\n",
            "Total no. of consonant in nepal word is 3\n"
          ]
        }
      ]
    },
    {
      "cell_type": "markdown",
      "source": [
        "# continue\n"
      ],
      "metadata": {
        "id": "BJkDSB4IFdZ4"
      }
    },
    {
      "cell_type": "code",
      "source": [
        "country = \"united states\"\n",
        "con = 0\n",
        "vow = 0\n",
        "for char in country:\n",
        "    if char in 'aeiou':\n",
        "        vow = vow + 1\n",
        "    elif char == \" \":\n",
        "        print(\"space bar is there\")\n",
        "        continue    #continue le afu bhanda tala ko code chaldaina.#loop ek iteration skip garcha\n",
        "        print(\"yo muni print line hudaina\")\n",
        "    else:\n",
        "        con = con + 1\n",
        "print(f\"Total no. of vowel in {country} word is {vow}\")\n",
        "print(f\"Total no. of consonant in {country} word is {con}\")\n"
      ],
      "metadata": {
        "colab": {
          "base_uri": "https://localhost:8080/"
        },
        "id": "gy999t9kCk4W",
        "outputId": "d83d3a78-ce89-4786-e7c8-33cb3af11c29"
      },
      "execution_count": null,
      "outputs": [
        {
          "output_type": "stream",
          "name": "stdout",
          "text": [
            "space bar is there\n",
            "Total no. of vowel in united states word is 5\n",
            "Total no. of consonant in united states word is 7\n"
          ]
        }
      ]
    },
    {
      "cell_type": "code",
      "source": [
        "for index in range (0,5): #[0,1,2,3,4]\n",
        "    print(index)"
      ],
      "metadata": {
        "colab": {
          "base_uri": "https://localhost:8080/"
        },
        "id": "ppGFVCL8DSK2",
        "outputId": "9c72f3f2-4d99-45d2-f3ae-23157285cb57"
      },
      "execution_count": null,
      "outputs": [
        {
          "output_type": "stream",
          "name": "stdout",
          "text": [
            "0\n",
            "1\n",
            "2\n",
            "3\n",
            "4\n"
          ]
        }
      ]
    },
    {
      "cell_type": "code",
      "source": [
        "for index in range (0,5):\n",
        "    if index == 2:\n",
        "        continue #continue le garda 2 skip garcha ani feri loop garcha\n",
        "    print (index)"
      ],
      "metadata": {
        "colab": {
          "base_uri": "https://localhost:8080/"
        },
        "id": "cy64yVMGExJL",
        "outputId": "5b1f17cf-bc49-4552-c3d6-72352676fec9"
      },
      "execution_count": null,
      "outputs": [
        {
          "output_type": "stream",
          "name": "stdout",
          "text": [
            "0\n",
            "1\n",
            "3\n",
            "4\n"
          ]
        }
      ]
    },
    {
      "cell_type": "markdown",
      "source": [
        "# break"
      ],
      "metadata": {
        "id": "w3NyXu3uF6lW"
      }
    },
    {
      "cell_type": "code",
      "source": [
        "for index in range(0,5):\n",
        "    if index == 4:\n",
        "        break     # break le condition match bhaesi loop stop garcha\n",
        "    print(index)"
      ],
      "metadata": {
        "colab": {
          "base_uri": "https://localhost:8080/"
        },
        "id": "MC0__s6pFcII",
        "outputId": "16adcd3c-48ed-42fc-8f2e-e9f785bd8dc9"
      },
      "execution_count": null,
      "outputs": [
        {
          "output_type": "stream",
          "name": "stdout",
          "text": [
            "0\n",
            "1\n",
            "2\n",
            "3\n"
          ]
        }
      ]
    },
    {
      "cell_type": "markdown",
      "source": [
        "# string method manipulation\n"
      ],
      "metadata": {
        "id": "7_09nHo7GvV8"
      }
    },
    {
      "cell_type": "code",
      "source": [
        "text = \"pi\"\n",
        "text = text.upper()\n",
        "print(text)"
      ],
      "metadata": {
        "colab": {
          "base_uri": "https://localhost:8080/"
        },
        "id": "x7-i1Vk9GzkN",
        "outputId": "732c0808-fcd2-416e-a390-a4a909eecbf7"
      },
      "execution_count": null,
      "outputs": [
        {
          "output_type": "stream",
          "name": "stdout",
          "text": [
            "PI\n"
          ]
        }
      ]
    },
    {
      "cell_type": "code",
      "source": [
        "text = \"HELLO\"\n",
        "text = text.lower()\n",
        "print(text)"
      ],
      "metadata": {
        "colab": {
          "base_uri": "https://localhost:8080/"
        },
        "id": "A4_I8ZQgHGaW",
        "outputId": "be98bfdc-5c15-47b6-e672-64ab52c75fba"
      },
      "execution_count": null,
      "outputs": [
        {
          "output_type": "stream",
          "name": "stdout",
          "text": [
            "hello\n"
          ]
        }
      ]
    },
    {
      "cell_type": "code",
      "source": [
        "news = \"sheikh hasina is a noob\"\n",
        "news = news.title()  #title format ma convrt garcha\n",
        "print(news)"
      ],
      "metadata": {
        "colab": {
          "base_uri": "https://localhost:8080/"
        },
        "id": "Shh-fFmWHYTZ",
        "outputId": "6023d52d-5b6c-4b3d-e849-fab43233edda"
      },
      "execution_count": null,
      "outputs": [
        {
          "output_type": "stream",
          "name": "stdout",
          "text": [
            "Sheikh Hasina Is A Noob\n"
          ]
        }
      ]
    },
    {
      "cell_type": "code",
      "source": [
        "greet = \"Happy new Year\"\n",
        "greet = greet.replace(\"Happy\", \"Fantastic\")# replace\n",
        "print(greet)"
      ],
      "metadata": {
        "colab": {
          "base_uri": "https://localhost:8080/"
        },
        "id": "BINNn67PHwEl",
        "outputId": "90837dbf-3e3e-4013-b472-81383c163b1a"
      },
      "execution_count": null,
      "outputs": [
        {
          "output_type": "stream",
          "name": "stdout",
          "text": [
            "Fantastic new Year\n"
          ]
        }
      ]
    },
    {
      "cell_type": "code",
      "source": [
        "msg = \"           how you doin?      \"\n",
        "print(msg)"
      ],
      "metadata": {
        "colab": {
          "base_uri": "https://localhost:8080/"
        },
        "id": "WmQbzskzIFgS",
        "outputId": "ca90f370-a62c-4751-9367-079050f521da"
      },
      "execution_count": null,
      "outputs": [
        {
          "output_type": "stream",
          "name": "stdout",
          "text": [
            "           how you doin?      \n"
          ]
        }
      ]
    },
    {
      "cell_type": "code",
      "source": [
        "msg = \"           how you doin?      \"\n",
        "msg = msg.strip()  # removes extra space\n",
        "print(msg)"
      ],
      "metadata": {
        "colab": {
          "base_uri": "https://localhost:8080/"
        },
        "id": "DteAVxRPIet7",
        "outputId": "e650b099-44a6-4de5-ea2f-edc9128409d1"
      },
      "execution_count": null,
      "outputs": [
        {
          "output_type": "stream",
          "name": "stdout",
          "text": [
            "how you doin?\n"
          ]
        }
      ]
    },
    {
      "cell_type": "code",
      "source": [
        "msg = \"           how you doin?      \"\n",
        "msg = msg.lstrip()  # removes extra left space\n",
        "print(msg)\n"
      ],
      "metadata": {
        "colab": {
          "base_uri": "https://localhost:8080/"
        },
        "id": "zdXhZjMsIqF3",
        "outputId": "95fb7169-ad75-4264-8134-e64b07bc2817"
      },
      "execution_count": null,
      "outputs": [
        {
          "output_type": "stream",
          "name": "stdout",
          "text": [
            "how you doin?      \n"
          ]
        }
      ]
    },
    {
      "cell_type": "code",
      "source": [
        "msg = \"           how you doin?      \"\n",
        "msg = msg.rstrip()  # removes extra rigght space\n",
        "print(msg)"
      ],
      "metadata": {
        "colab": {
          "base_uri": "https://localhost:8080/"
        },
        "id": "uTa1r6MCI6BT",
        "outputId": "9f9fe628-b53a-451c-e263-b93b25038dd8"
      },
      "execution_count": null,
      "outputs": [
        {
          "output_type": "stream",
          "name": "stdout",
          "text": [
            "           how you doin?\n"
          ]
        }
      ]
    },
    {
      "cell_type": "code",
      "source": [
        "string = \"I like Football\"\n",
        "words = string.split(\" \")#seperate words like text to columns in excel\n",
        "print(words)"
      ],
      "metadata": {
        "colab": {
          "base_uri": "https://localhost:8080/"
        },
        "id": "a-ee6lyUJAXZ",
        "outputId": "fe236081-b63a-4869-c536-ab1f066839ee"
      },
      "execution_count": null,
      "outputs": [
        {
          "output_type": "stream",
          "name": "stdout",
          "text": [
            "['I', 'like', 'Football']\n"
          ]
        }
      ]
    },
    {
      "cell_type": "code",
      "source": [
        "string = \"red-green-blue\"\n",
        "words = string.split(\"-\")\n",
        "print(words)"
      ],
      "metadata": {
        "colab": {
          "base_uri": "https://localhost:8080/"
        },
        "id": "1ONRAh_GJVnC",
        "outputId": "d658924b-ff1d-4a84-e78e-ca9e8a0eb0c2"
      },
      "execution_count": null,
      "outputs": [
        {
          "output_type": "stream",
          "name": "stdout",
          "text": [
            "['red', 'green', 'blue']\n"
          ]
        }
      ]
    },
    {
      "cell_type": "code",
      "source": [
        "words = \"-\".join(words)  # join words with sth.\n",
        "print(words)"
      ],
      "metadata": {
        "colab": {
          "base_uri": "https://localhost:8080/"
        },
        "id": "7FkJXOSGJs6X",
        "outputId": "0fb44585-41fa-40af-848f-8a20be3a21e2"
      },
      "execution_count": null,
      "outputs": [
        {
          "output_type": "stream",
          "name": "stdout",
          "text": [
            "red-green-blue\n"
          ]
        }
      ]
    },
    {
      "cell_type": "code",
      "source": [
        "#string is immuatable data type."
      ],
      "metadata": {
        "id": "y0GGS5a-J3hn"
      },
      "execution_count": null,
      "outputs": []
    },
    {
      "cell_type": "code",
      "source": [
        "#replace $ with S\n",
        "name = \"Miyo$h\"\n",
        "name = name.replace(\"$\", \"s\")\n",
        "print(name)"
      ],
      "metadata": {
        "colab": {
          "base_uri": "https://localhost:8080/"
        },
        "id": "fswpzyYiLvMm",
        "outputId": "9c4cf64b-58f1-4c2e-d097-c6084f8ef1f7"
      },
      "execution_count": null,
      "outputs": [
        {
          "output_type": "stream",
          "name": "stdout",
          "text": [
            "Miyosh\n"
          ]
        }
      ]
    },
    {
      "cell_type": "code",
      "source": [
        "name = \"miyo$h\"\n",
        "print(id(name))"
      ],
      "metadata": {
        "id": "iDVPhsJtMGZt",
        "colab": {
          "base_uri": "https://localhost:8080/"
        },
        "outputId": "ae31ce11-d07c-48cb-8ced-c1bc74cceecc"
      },
      "execution_count": null,
      "outputs": [
        {
          "output_type": "stream",
          "name": "stdout",
          "text": [
            "133861206483312\n"
          ]
        }
      ]
    },
    {
      "cell_type": "code",
      "source": [
        "name[1]= 's'#we can do this only for mutable data types such as numbers."
      ],
      "metadata": {
        "colab": {
          "base_uri": "https://localhost:8080/",
          "height": 141
        },
        "id": "D14kpdVfFieB",
        "outputId": "3d0d1ab9-6803-47ca-bfb1-47275d7ef28d"
      },
      "execution_count": null,
      "outputs": [
        {
          "output_type": "error",
          "ename": "TypeError",
          "evalue": "'str' object does not support item assignment",
          "traceback": [
            "\u001b[0;31m---------------------------------------------------------------------------\u001b[0m",
            "\u001b[0;31mTypeError\u001b[0m                                 Traceback (most recent call last)",
            "\u001b[0;32m<ipython-input-7-3e16659c961c>\u001b[0m in \u001b[0;36m<cell line: 1>\u001b[0;34m()\u001b[0m\n\u001b[0;32m----> 1\u001b[0;31m \u001b[0mname\u001b[0m\u001b[0;34m[\u001b[0m\u001b[0;36m1\u001b[0m\u001b[0;34m]\u001b[0m\u001b[0;34m=\u001b[0m \u001b[0;34m's'\u001b[0m\u001b[0;31m#we can do this only for mutable data types such as numbers.\u001b[0m\u001b[0;34m\u001b[0m\u001b[0;34m\u001b[0m\u001b[0m\n\u001b[0m",
            "\u001b[0;31mTypeError\u001b[0m: 'str' object does not support item assignment"
          ]
        }
      ]
    },
    {
      "cell_type": "code",
      "source": [
        "name = name.replace('$', 's')\n",
        "print(id(name), name)"
      ],
      "metadata": {
        "colab": {
          "base_uri": "https://localhost:8080/"
        },
        "id": "Ama_ZO55Fuoq",
        "outputId": "46437e6f-5c3a-493b-a843-3b04fe8ac1b4"
      },
      "execution_count": null,
      "outputs": [
        {
          "output_type": "stream",
          "name": "stdout",
          "text": [
            "133860839838192 miyosh\n"
          ]
        }
      ]
    },
    {
      "cell_type": "code",
      "source": [],
      "metadata": {
        "id": "p6DVZXiYGGbJ"
      },
      "execution_count": null,
      "outputs": []
    }
  ]
}