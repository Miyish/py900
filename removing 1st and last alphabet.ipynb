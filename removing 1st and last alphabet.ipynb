{
  "nbformat": 4,
  "nbformat_minor": 0,
  "metadata": {
    "colab": {
      "provenance": []
    },
    "kernelspec": {
      "name": "python3",
      "display_name": "Python 3"
    },
    "language_info": {
      "name": "python"
    }
  },
  "cells": [
    {
      "cell_type": "code",
      "execution_count": null,
      "metadata": {
        "id": "xOGhJ6xW_eta"
      },
      "outputs": [],
      "source": [
        "#odd/even"
      ]
    },
    {
      "cell_type": "code",
      "source": [
        "num = int(input('enter your no. = '))\n",
        "if num%2 == 0:\n",
        "    print('even')\n",
        "else:\n",
        "    print(\"odd\")\n"
      ],
      "metadata": {
        "colab": {
          "base_uri": "https://localhost:8080/"
        },
        "id": "1HCfzCeE_mJE",
        "outputId": "1de3614a-67e2-4927-9f30-fe767eed56db"
      },
      "execution_count": null,
      "outputs": [
        {
          "output_type": "stream",
          "name": "stdout",
          "text": [
            "enter your no. = 1\n",
            "odd\n"
          ]
        }
      ]
    },
    {
      "cell_type": "code",
      "source": [
        "#positive negative"
      ],
      "metadata": {
        "id": "-5KjfuYQ_9lo"
      },
      "execution_count": null,
      "outputs": []
    },
    {
      "cell_type": "code",
      "source": [
        "num = int(input(\"enter your desired no. = \"))\n",
        "if num >= 0:\n",
        "    print(\"positive\")\n",
        "elif num == 0:\n",
        "    print('neutral')\n",
        "else:\n",
        "    print('negative')\n",
        "print('end of programme')"
      ],
      "metadata": {
        "colab": {
          "base_uri": "https://localhost:8080/"
        },
        "id": "elAcDwUkBmW_",
        "outputId": "0976d943-7dd6-4d07-953c-87c09851ca0c"
      },
      "execution_count": null,
      "outputs": [
        {
          "output_type": "stream",
          "name": "stdout",
          "text": [
            "enter your desired no. = 0\n",
            "positive\n",
            "end of programme\n"
          ]
        }
      ]
    },
    {
      "cell_type": "code",
      "source": [
        "#5 = heelo else bye\n"
      ],
      "metadata": {
        "id": "Y-WUmi8TCEnm"
      },
      "execution_count": null,
      "outputs": []
    },
    {
      "cell_type": "code",
      "source": [
        "num = int(input(\"enter your no. = \"))\n",
        "if num == 5:\n",
        "    print('hello')\n",
        "else:\n",
        "    print('bye')\n",
        "print('end of programme')"
      ],
      "metadata": {
        "colab": {
          "base_uri": "https://localhost:8080/"
        },
        "id": "ccvBihMXCbEN",
        "outputId": "964dfb5c-1da2-4ada-c2ef-978c62ef0ad4"
      },
      "execution_count": null,
      "outputs": [
        {
          "output_type": "stream",
          "name": "stdout",
          "text": [
            "enter your no. = 55\n",
            "bye\n",
            "end of programme\n"
          ]
        }
      ]
    },
    {
      "cell_type": "code",
      "source": [
        "#wap units              price\n",
        "    #first 100          0\n",
        "    #next 100           5 per unit\n",
        "    #after 200          10 per unit\n"
      ],
      "metadata": {
        "id": "ehofXixGCwLk"
      },
      "execution_count": null,
      "outputs": []
    },
    {
      "cell_type": "code",
      "source": [
        "units = int(input('enter units'))\n",
        "if units <= 100:\n",
        "    total_bill = 0\n",
        "elif units <= 200:\n",
        "    total_bill = (units-100)* 5\n",
        "else:\n",
        "    total_bill = 500 + (units-200)* 10\n",
        "print (total_bill)"
      ],
      "metadata": {
        "colab": {
          "base_uri": "https://localhost:8080/"
        },
        "id": "6FAeIAV34P9d",
        "outputId": "a86ceb4b-58bb-4dc1-c193-5dce219bfc2f"
      },
      "execution_count": null,
      "outputs": [
        {
          "output_type": "stream",
          "name": "stdout",
          "text": [
            "enter units200\n",
            "500\n"
          ]
        }
      ]
    },
    {
      "cell_type": "code",
      "source": [
        "num = int(input('enter your units: '))\n",
        "if num <= 100:\n",
        "    total_bill = 0\n",
        "elif num <= 200:\n",
        "    total_bill = (num - 100)* 5\n",
        "else:\n",
        "    total_bill = 500 + (num - 200)* 10\n",
        "print(f'your total bill is {total_bill}')"
      ],
      "metadata": {
        "colab": {
          "base_uri": "https://localhost:8080/"
        },
        "id": "MlCwL_3K5FzT",
        "outputId": "bcf01629-7bab-4dd4-f80d-7b3a65c4410a"
      },
      "execution_count": null,
      "outputs": [
        {
          "output_type": "stream",
          "name": "stdout",
          "text": [
            "enter your units: 350\n",
            "your total bill is 2000\n"
          ]
        }
      ]
    },
    {
      "cell_type": "code",
      "source": [
        "units = int(input('enter your no.'))\n",
        "if units <= 100:\n",
        "    total_bill = 0\n",
        "elif units <= 200:\n",
        "    total_bill = (units-100)* 5\n",
        "else:\n",
        "    total_bill = 500 + (units - 200)* 10\n",
        "print(f'your total is {total_bill}')"
      ],
      "metadata": {
        "colab": {
          "base_uri": "https://localhost:8080/"
        },
        "id": "8myvlq6Y6vUy",
        "outputId": "7d3611c9-e7ca-4eba-b015-89ba5e554ef9"
      },
      "execution_count": null,
      "outputs": [
        {
          "output_type": "stream",
          "name": "stdout",
          "text": [
            "enter your no.350\n",
            "your total is 2000\n"
          ]
        }
      ]
    },
    {
      "cell_type": "code",
      "source": [
        "#wap to check last no. is divisible by 3"
      ],
      "metadata": {
        "id": "HwBMqnGm7S4x"
      },
      "execution_count": null,
      "outputs": []
    },
    {
      "cell_type": "code",
      "source": [
        "num = int(input('enter no'))\n",
        "num1 = num%10\n",
        "if num1 % 3 == 0:\n",
        "    print('last no. is divisible by 3')\n",
        "else:\n",
        "    print('nop')"
      ],
      "metadata": {
        "colab": {
          "base_uri": "https://localhost:8080/"
        },
        "id": "cZuRqBwH71vP",
        "outputId": "3145f965-c480-45e7-89e0-3c27a63214be"
      },
      "execution_count": null,
      "outputs": [
        {
          "output_type": "stream",
          "name": "stdout",
          "text": [
            "enter no113\n",
            "last no. is divisible by 3\n"
          ]
        }
      ]
    },
    {
      "cell_type": "code",
      "source": [
        "#wap to check +ve -ve neutral and if +ve check odd/even"
      ],
      "metadata": {
        "id": "BAGnnZZt8bzy"
      },
      "execution_count": null,
      "outputs": []
    },
    {
      "cell_type": "code",
      "source": [
        "num = int(input('enter no. '))\n",
        "if num > 0:\n",
        "    if num % 2 == 0:\n",
        "        print(f'ur no.{num} is positive & even')\n",
        "    else:\n",
        "        print(f'ur no.{num} is positive &  odd')\n",
        "elif num == 0:\n",
        "    print(f'ur no.{num} is neutral')\n",
        "else:\n",
        "    print(f'ur no. {num} is negative')\n",
        "print('end of program')"
      ],
      "metadata": {
        "colab": {
          "base_uri": "https://localhost:8080/"
        },
        "id": "Zfuc2OUZ8YU9",
        "outputId": "1fba1c15-7f87-4bdf-c254-fc80781321bf"
      },
      "execution_count": null,
      "outputs": [
        {
          "output_type": "stream",
          "name": "stdout",
          "text": [
            "enter no. 5\n",
            "ur no.5 is positive &  odd\n",
            "end of program\n"
          ]
        }
      ]
    },
    {
      "cell_type": "markdown",
      "source": [
        "#wap to check BMI"
      ],
      "metadata": {
        "id": "SIRJG43cED4m"
      }
    },
    {
      "cell_type": "code",
      "source": [
        "height = int(input('enter you height in cm'))\n",
        "weight = int(input('enter you weight in kg'))\n",
        "height = height/100\n",
        "BMI = weight/(height* height)\n",
        "if BMI < 18.5:\n",
        "    print('ur underweight', BMI)\n",
        "elif BMI < 24.9:\n",
        "    print ('ur normal weight',BMI)\n",
        "elif BMI < 29.9:\n",
        "    print('ur overweight', BMI)\n",
        "else:\n",
        "    print('ur obesity bruh',BMI)"
      ],
      "metadata": {
        "colab": {
          "base_uri": "https://localhost:8080/"
        },
        "id": "bk0Fs7iiA2kc",
        "outputId": "1541f249-506b-404d-edf6-7630b7aa3121"
      },
      "execution_count": null,
      "outputs": [
        {
          "output_type": "stream",
          "name": "stdout",
          "text": [
            "enter you height in cm90\n",
            "enter you weight in kg90\n",
            "ur obesity bruh 111.1111111111111\n"
          ]
        }
      ]
    },
    {
      "cell_type": "code",
      "source": [
        "#vowels&consonent\n"
      ],
      "metadata": {
        "id": "T8VnRjT9Bwou"
      },
      "execution_count": null,
      "outputs": []
    },
    {
      "cell_type": "code",
      "source": [
        "s = 'aeyi'\n",
        "for item in s:\n",
        "    if item in 'aeiou':\n",
        "        print (f'{item} is a vowel')\n",
        "    else:\n",
        "        print(f'{item} is consonant')\n"
      ],
      "metadata": {
        "colab": {
          "base_uri": "https://localhost:8080/"
        },
        "id": "q_jctuJEIYcp",
        "outputId": "f5cabb45-e778-49e0-896f-163e05913663"
      },
      "execution_count": null,
      "outputs": [
        {
          "output_type": "stream",
          "name": "stdout",
          "text": [
            "a is a vowel\n",
            "e is a vowel\n",
            "y is consonant\n",
            "i is a vowel\n"
          ]
        }
      ]
    },
    {
      "cell_type": "code",
      "source": [
        "#count no. of vowels and consonants\n"
      ],
      "metadata": {
        "id": "02dr3_8PI0x2"
      },
      "execution_count": null,
      "outputs": []
    },
    {
      "cell_type": "code",
      "source": [
        "a='abcdefghi'\n",
        "vowel_count = 0\n",
        "consonant_count = 0\n",
        "for item in a:\n",
        "    if item in 'aeiou':\n",
        "        vowel_count = vowel_count +1\n",
        "    else:\n",
        "        consonant_count = consonant_count +1\n",
        "print(f'total vowel is {vowel_count}')\n",
        "print(f'total con is {consonant_count}')"
      ],
      "metadata": {
        "colab": {
          "base_uri": "https://localhost:8080/"
        },
        "id": "j9OgthhtLAyG",
        "outputId": "061efc33-d3ce-4eb9-d6d8-86f8bc53ec06"
      },
      "execution_count": null,
      "outputs": [
        {
          "output_type": "stream",
          "name": "stdout",
          "text": [
            "total vowel is 3\n",
            "total con is 6\n"
          ]
        }
      ]
    },
    {
      "cell_type": "code",
      "source": [
        " #extract fruits from txt"
      ],
      "metadata": {
        "id": "0qhIzx8wLs28"
      },
      "execution_count": null,
      "outputs": []
    },
    {
      "cell_type": "code",
      "source": [
        "txt = ' I like Banana, Apple and kiwi'\n",
        "txt = txt.replace('I',' ').replace('like',' ').replace(',',' ').replace('and',' ')\n",
        "fruits = txt.split()\n",
        "print(type(fruits),fruits)\n"
      ],
      "metadata": {
        "colab": {
          "base_uri": "https://localhost:8080/"
        },
        "id": "0g5WRhFOO53Z",
        "outputId": "f95cd4a4-7ae4-4741-8f02-b21179974c51"
      },
      "execution_count": null,
      "outputs": [
        {
          "output_type": "stream",
          "name": "stdout",
          "text": [
            "<class 'list'> ['Banana', 'Apple', 'kiwi']\n"
          ]
        }
      ]
    },
    {
      "cell_type": "code",
      "source": [
        "#accept string and display in reverse"
      ],
      "metadata": {
        "id": "zWyssHsuP32e"
      },
      "execution_count": null,
      "outputs": []
    },
    {
      "cell_type": "code",
      "source": [
        "# Function to reverse a string\n",
        "def reverse_string(s):\n",
        "    return s[::-1]\n",
        "# Accept a string from the user\n",
        "user_input = input(\"Enter a string: \")\n",
        "\n",
        "# Reverse the string\n",
        "reversed_string = reverse_string(user_input)\n",
        "\n",
        "# Display the reversed string\n",
        "print(\"Reversed string:\", reversed_string)"
      ],
      "metadata": {
        "colab": {
          "base_uri": "https://localhost:8080/"
        },
        "id": "rLoJ1yR3RMuF",
        "outputId": "005de544-b3b8-4165-fbce-053f12118e6d"
      },
      "execution_count": null,
      "outputs": [
        {
          "output_type": "stream",
          "name": "stdout",
          "text": [
            "Enter a string: abcdeg\n",
            "Reversed string: gedcba\n"
          ]
        }
      ]
    },
    {
      "cell_type": "code",
      "source": [
        "#vowels"
      ],
      "metadata": {
        "id": "fr0fTQaURNlN"
      },
      "execution_count": null,
      "outputs": []
    },
    {
      "cell_type": "code",
      "source": [
        "num = input('enter your country: ')\n",
        "vow = 0\n",
        "con = 0\n",
        "for item in num:\n",
        "    if item in 'aeiou':\n",
        "        print(f'{item} is a vowel')\n",
        "        vow = vow + 1\n",
        "    elif item in ' ':\n",
        "        continue\n",
        "    else:\n",
        "        print(f'{item} is a consonant')\n",
        "        con = con + 1\n",
        "print(f'total vow count is {vow}')\n",
        "print(f'total con count is {con}')"
      ],
      "metadata": {
        "colab": {
          "base_uri": "https://localhost:8080/"
        },
        "id": "qfU72kkb9DRy",
        "outputId": "97b6e061-39d6-49a7-ecac-88aaab43f6a8"
      },
      "execution_count": null,
      "outputs": [
        {
          "output_type": "stream",
          "name": "stdout",
          "text": [
            "enter your country: United States\n",
            "U is a consonant\n",
            "n is a consonant\n",
            "i is a vowel\n",
            "t is a consonant\n",
            "e is a vowel\n",
            "d is a consonant\n",
            "S is a consonant\n",
            "t is a consonant\n",
            "a is a vowel\n",
            "t is a consonant\n",
            "e is a vowel\n",
            "s is a consonant\n",
            "total vow count is 4\n",
            "total con count is 8\n"
          ]
        }
      ]
    },
    {
      "cell_type": "code",
      "source": [
        "#capitalize"
      ],
      "metadata": {
        "id": "pyFHvlkb_YFq"
      },
      "execution_count": null,
      "outputs": []
    },
    {
      "cell_type": "code",
      "source": [
        "word = input('enter your word ')\n",
        "word = word.capitalize()\n",
        "print(word)"
      ],
      "metadata": {
        "colab": {
          "base_uri": "https://localhost:8080/"
        },
        "id": "tqOWyQz1_sgP",
        "outputId": "d1383224-1f03-4d57-ae29-4ad1d124ac4d"
      },
      "execution_count": null,
      "outputs": [
        {
          "output_type": "stream",
          "name": "stdout",
          "text": [
            "enter your word word\n",
            "Word\n"
          ]
        }
      ]
    },
    {
      "cell_type": "code",
      "source": [
        "#replace vowel with o"
      ],
      "metadata": {
        "id": "yFvZkt9y_9Ul"
      },
      "execution_count": null,
      "outputs": []
    },
    {
      "cell_type": "code",
      "source": [
        "def replace_vowels_with_o(word):\n",
        "    vowels = 'aeiouAEIOU'  # List of vowels in both lowercase and uppercase\n",
        "    replaced_word = ''.join('o' if char in vowels else char for char in word)\n",
        "    return replaced_word\n",
        "\n",
        "# Take user input\n",
        "input_word = input(\"Enter a string: \")\n",
        "output_word = replace_vowels_with_o(input_word)\n",
        "\n",
        "# Print the result\n",
        "print(f\"Original string: {input_word}\")\n",
        "print(f\"String with vowels replaced: {output_word}\")"
      ],
      "metadata": {
        "colab": {
          "base_uri": "https://localhost:8080/"
        },
        "id": "jxUTPEGzA6mL",
        "outputId": "6d586899-7021-46a4-f156-8bed51202cab"
      },
      "execution_count": null,
      "outputs": [
        {
          "output_type": "stream",
          "name": "stdout",
          "text": [
            "Enter a string: nepal\n",
            "Original string: nepal\n",
            "String with vowels replaced: nopol\n"
          ]
        }
      ]
    },
    {
      "cell_type": "code",
      "source": [
        "#2 input concat"
      ],
      "metadata": {
        "id": "6rMLc_pGCJzb"
      },
      "execution_count": null,
      "outputs": []
    },
    {
      "cell_type": "code",
      "source": [
        "from typing import Concatenate\n",
        "str1 = input('enter str1 ')\n",
        "str2 = input('enter str2 ')\n",
        "str = str1 + ' ' + str2\n",
        "print(str.capitalize())"
      ],
      "metadata": {
        "colab": {
          "base_uri": "https://localhost:8080/"
        },
        "id": "qHh5JtWUDkRJ",
        "outputId": "e605e192-fbe0-4dc9-ab8a-8a9dbfa48efc"
      },
      "execution_count": null,
      "outputs": [
        {
          "output_type": "stream",
          "name": "stdout",
          "text": [
            "enter str1 ram\n",
            "enter str2 hari\n",
            "Ram hari\n"
          ]
        }
      ]
    },
    {
      "cell_type": "code",
      "source": [
        "#remove 1st and last alphabet from str"
      ],
      "metadata": {
        "id": "Rc0DEN7wD9kB"
      },
      "execution_count": null,
      "outputs": []
    },
    {
      "cell_type": "code",
      "source": [
        "def remove_first_and_last_char(word):\n",
        "    # Check if the string is too short to remove both first and last characters\n",
        "    if len(word) <= 2:\n",
        "        return \"String is too short to remove first and last characters.\"\n",
        "    # Return the string with the first and last characters removed\n",
        "    return word[1:-1]\n",
        "\n",
        "# Take user input\n",
        "input_word = input(\"Enter a string: \")\n",
        "output_word = remove_first_and_last_char(input_word)\n",
        "\n",
        "# Print the result\n",
        "print(f\"Original string: {input_word}\")\n",
        "print(f\"String with first and last characters removed: {output_word}\")"
      ],
      "metadata": {
        "colab": {
          "base_uri": "https://localhost:8080/"
        },
        "id": "_LbsN4NxG60S",
        "outputId": "f8ec5269-b613-4723-9cb4-3dbbd700d1ac"
      },
      "execution_count": null,
      "outputs": [
        {
          "output_type": "stream",
          "name": "stdout",
          "text": [
            "Enter a string: nepal\n",
            "Original string: nepal\n",
            "String with first and last characters removed: epa\n"
          ]
        }
      ]
    },
    {
      "cell_type": "code",
      "source": [],
      "metadata": {
        "id": "tTDaK47uHFND"
      },
      "execution_count": null,
      "outputs": []
    }
  ]
}