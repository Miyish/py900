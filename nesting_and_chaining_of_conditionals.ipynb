{
  "nbformat": 4,
  "nbformat_minor": 0,
  "metadata": {
    "colab": {
      "provenance": []
    },
    "kernelspec": {
      "name": "python3",
      "display_name": "Python 3"
    },
    "language_info": {
      "name": "python"
    }
  },
  "cells": [
    {
      "cell_type": "code",
      "execution_count": null,
      "metadata": {
        "id": "v64rjtkZwzRJ"
      },
      "outputs": [],
      "source": [
        "#wap to check if a input is positive, negative or neutral."
      ]
    },
    {
      "cell_type": "markdown",
      "source": [
        "$$\n",
        "IF ELIF ELSE\n",
        "$$"
      ],
      "metadata": {
        "id": "BLUlMpfBy7tp"
      }
    },
    {
      "cell_type": "code",
      "source": [
        "num=5\n",
        "if num<0:\n",
        "    print(\"negative\")\n",
        "if num ==0:\n",
        "    print(\"neutral\")\n",
        "if num>0:\n",
        "    print(\"positive\")"
      ],
      "metadata": {
        "colab": {
          "base_uri": "https://localhost:8080/"
        },
        "id": "91Hb_1tWxdv5",
        "outputId": "2d2e121d-8189-4565-b0c1-2c93e19c9aee"
      },
      "execution_count": null,
      "outputs": [
        {
          "output_type": "stream",
          "name": "stdout",
          "text": [
            "positive\n"
          ]
        }
      ]
    },
    {
      "cell_type": "code",
      "source": [
        "num = 0\n",
        "if num < 0:\n",
        "    print(\"negative\")\n",
        "else:\n",
        "    if num == 0:\n",
        "        print(\"neutral\")\n",
        "    else:\n",
        "        print(\"positive\")"
      ],
      "metadata": {
        "colab": {
          "base_uri": "https://localhost:8080/"
        },
        "id": "enCnPB9Ix_Pl",
        "outputId": "dfe6a674-5a87-434f-8bbd-c1529b21998f"
      },
      "execution_count": null,
      "outputs": [
        {
          "output_type": "stream",
          "name": "stdout",
          "text": [
            "neutral\n"
          ]
        }
      ]
    },
    {
      "cell_type": "code",
      "source": [
        "num = 0\n",
        "if num < 0:\n",
        "    print(\"negative\")\n",
        "elif num == 0:\n",
        "    print(\"neutral\")\n",
        "elif num > 0:\n",
        "    print(\"positive\")"
      ],
      "metadata": {
        "colab": {
          "base_uri": "https://localhost:8080/"
        },
        "id": "EqgXLOuzy4AD",
        "outputId": "e6b815be-0fc7-4e92-b6ae-9f7df2fe5462"
      },
      "execution_count": null,
      "outputs": [
        {
          "output_type": "stream",
          "name": "stdout",
          "text": [
            "neutral\n"
          ]
        }
      ]
    },
    {
      "cell_type": "code",
      "source": [
        "num = 0\n",
        "if num < 0:\n",
        "    print(\"negative\")\n",
        "elif num == 0:\n",
        "    print(\"neutral\")\n",
        "else:\n",
        "    print(\"positive\")"
      ],
      "metadata": {
        "colab": {
          "base_uri": "https://localhost:8080/"
        },
        "id": "CeNszag4z3BF",
        "outputId": "d54b28c1-548d-4ea4-a6a9-c2088caea2ef"
      },
      "execution_count": null,
      "outputs": [
        {
          "output_type": "stream",
          "name": "stdout",
          "text": [
            "neutral\n"
          ]
        }
      ]
    },
    {
      "cell_type": "code",
      "source": [],
      "metadata": {
        "id": "tQvvYQf501Rw"
      },
      "execution_count": null,
      "outputs": []
    }
  ]
}