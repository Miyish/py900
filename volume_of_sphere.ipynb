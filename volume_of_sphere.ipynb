{
  "nbformat": 4,
  "nbformat_minor": 0,
  "metadata": {
    "colab": {
      "provenance": []
    },
    "kernelspec": {
      "name": "python3",
      "display_name": "Python 3"
    },
    "language_info": {
      "name": "python"
    }
  },
  "cells": [
    {
      "cell_type": "markdown",
      "source": [
        "# Volume of sphere 1 $ for  left margin double $$ to center margin\n",
        "#latexcode\n",
        "$\n",
        "volume(v)=\\frac{4}{3}π r^3\n",
        "$\n",
        "\n",
        "$$\n",
        "volume(v)=\\frac{4}{3}π r^3\n",
        "$$"
      ],
      "metadata": {
        "id": "DTfW9QefqL_g"
      }
    },
    {
      "cell_type": "code",
      "execution_count": null,
      "metadata": {
        "colab": {
          "base_uri": "https://localhost:8080/"
        },
        "id": "W_iqvLwho_y7",
        "outputId": "22d2abd2-06d8-427e-be04-77cdbb3b73aa"
      },
      "outputs": [
        {
          "output_type": "stream",
          "name": "stdout",
          "text": [
            "enter radius = 4.8\n",
            "The volume of sphere with radius 4.8 is 463.247 cm³\n"
          ]
        }
      ],
      "source": [
        "import math\n",
        "r = float (input (\"enter radius = \"))\n",
        "volume = 4/3 * math.pi * r ** 3\n",
        "round (volume, 3)\n",
        "print(f\"The volume of sphere with radius {r} is {round (volume, 3)} cm\\u00B3\")"
      ]
    },
    {
      "cell_type": "code",
      "source": [
        "#operator precedence/ assignment"
      ],
      "metadata": {
        "id": "EI8Eljj1sS_m"
      },
      "execution_count": null,
      "outputs": []
    },
    {
      "cell_type": "code",
      "source": [
        "2 * 2 ** 3 #** (aka: exponential) has higher precidence than *"
      ],
      "metadata": {
        "colab": {
          "base_uri": "https://localhost:8080/"
        },
        "id": "ha4XlIhfuOAy",
        "outputId": "08ba2513-d6dd-4cac-e260-252d15fd0d37"
      },
      "execution_count": null,
      "outputs": [
        {
          "output_type": "execute_result",
          "data": {
            "text/plain": [
              "16"
            ]
          },
          "metadata": {},
          "execution_count": 4
        }
      ]
    },
    {
      "cell_type": "code",
      "source": [
        "2**9# power dina ** use\n"
      ],
      "metadata": {
        "colab": {
          "base_uri": "https://localhost:8080/"
        },
        "id": "uxyTfWvTutCY",
        "outputId": "16f4c3f5-6271-4070-c422-20e2d8b0eac4"
      },
      "execution_count": null,
      "outputs": [
        {
          "output_type": "execute_result",
          "data": {
            "text/plain": [
              "512"
            ]
          },
          "metadata": {},
          "execution_count": 6
        }
      ]
    },
    {
      "cell_type": "code",
      "source": [
        "num= int(input(\"enter no.\"))\n",
        "if num%2 == 0:\n",
        "    print(\"even\")\n",
        "else:\n",
        "    print(\"odd\")"
      ],
      "metadata": {
        "colab": {
          "base_uri": "https://localhost:8080/"
        },
        "id": "reTCygaKvBhw",
        "outputId": "9f39a5d8-0c07-4488-ea88-ad14881ee071"
      },
      "execution_count": null,
      "outputs": [
        {
          "output_type": "stream",
          "name": "stdout",
          "text": [
            "enter no.3\n",
            "odd\n"
          ]
        }
      ]
    },
    {
      "cell_type": "code",
      "source": [
        "num= 103\n",
        "last_digit = num % 10\n",
        "if last_digit % 3==0:\n",
        "    print(f\"your no. is {num} and its last dig is {last_digit}and its divisble by 3\")\n",
        "else:\n",
        "    print(f\"no your 3 no. digit is {}\")\n"
      ],
      "metadata": {
        "colab": {
          "base_uri": "https://localhost:8080/"
        },
        "id": "TTVK1KS6v2hh",
        "outputId": "ea0ae509-0448-45ba-c4f1-992e982df431"
      },
      "execution_count": null,
      "outputs": [
        {
          "output_type": "stream",
          "name": "stdout",
          "text": [
            "your no. is 103 and its last dig is 3and its divisble by 3\n"
          ]
        }
      ]
    },
    {
      "cell_type": "code",
      "source": [],
      "metadata": {
        "id": "4ZxBsFyCwsWB"
      },
      "execution_count": null,
      "outputs": []
    }
  ]
}