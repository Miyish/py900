{
  "nbformat": 4,
  "nbformat_minor": 0,
  "metadata": {
    "colab": {
      "provenance": []
    },
    "kernelspec": {
      "name": "python3",
      "display_name": "Python 3"
    },
    "language_info": {
      "name": "python"
    }
  },
  "cells": [
    {
      "cell_type": "code",
      "execution_count": null,
      "metadata": {
        "id": "eA8Sq4Ox4h90"
      },
      "outputs": [],
      "source": [
        "# creating empty class"
      ]
    },
    {
      "cell_type": "code",
      "source": [
        "class Person:\n",
        "    pass"
      ],
      "metadata": {
        "id": "yNk08mOx5CsK"
      },
      "execution_count": null,
      "outputs": []
    },
    {
      "cell_type": "code",
      "source": [
        "p1 = Person() #creating object from a class\n",
        "print(type(p1))"
      ],
      "metadata": {
        "colab": {
          "base_uri": "https://localhost:8080/"
        },
        "id": "I_Tpgxt45HT1",
        "outputId": "fbfb88bf-adfe-4249-c041-c1ba5a24ee5c"
      },
      "execution_count": null,
      "outputs": [
        {
          "output_type": "stream",
          "name": "stdout",
          "text": [
            "<class '__main__.Person'>\n"
          ]
        }
      ]
    },
    {
      "cell_type": "code",
      "source": [
        "#class is a blueprint to create an object\n",
        "#object is an instance or example of a class"
      ],
      "metadata": {
        "id": "qFxN-1As5Sg_"
      },
      "execution_count": null,
      "outputs": []
    },
    {
      "cell_type": "markdown",
      "source": [
        "#Class attribute vs Object attribute\n",
        "#CLass Object"
      ],
      "metadata": {
        "id": "fCBF3w_g5uOY"
      }
    },
    {
      "cell_type": "markdown",
      "source": [
        "#Class attribute"
      ],
      "metadata": {
        "id": "TJnsqbiD6t9E"
      }
    },
    {
      "cell_type": "code",
      "source": [
        "class Mammal:\n",
        "    has_hair = True#class attribute is same for all objects"
      ],
      "metadata": {
        "id": "mmLX7VxA5pyd"
      },
      "execution_count": null,
      "outputs": []
    },
    {
      "cell_type": "code",
      "source": [
        "cow = Mammal()\n",
        "human = Mammal()"
      ],
      "metadata": {
        "id": "-bDHIC366HVd"
      },
      "execution_count": null,
      "outputs": []
    },
    {
      "cell_type": "code",
      "source": [
        "cow.has_hair #attribute ho so no()"
      ],
      "metadata": {
        "colab": {
          "base_uri": "https://localhost:8080/"
        },
        "id": "pYbre-Qz6VaV",
        "outputId": "ded7a010-d578-49a1-e8d4-4dac006e9dbd"
      },
      "execution_count": null,
      "outputs": [
        {
          "output_type": "execute_result",
          "data": {
            "text/plain": [
              "True"
            ]
          },
          "metadata": {},
          "execution_count": 23
        }
      ]
    },
    {
      "cell_type": "code",
      "source": [
        "human.has_hair"
      ],
      "metadata": {
        "colab": {
          "base_uri": "https://localhost:8080/"
        },
        "id": "eh5Iv0Ph6XZ9",
        "outputId": "dd372188-f8f9-44ae-d19a-ecd7246b075d"
      },
      "execution_count": null,
      "outputs": [
        {
          "output_type": "execute_result",
          "data": {
            "text/plain": [
              "True"
            ]
          },
          "metadata": {},
          "execution_count": 8
        }
      ]
    },
    {
      "cell_type": "markdown",
      "source": [
        "#object attribute"
      ],
      "metadata": {
        "id": "AIp_c3rp6wjs"
      }
    },
    {
      "cell_type": "code",
      "source": [
        "class Mammal:\n",
        "    def __init__(self,leg):#__init__(self,...)initializes object attribute  #dunder method  #magic mthod\n",
        "        self.leg=leg"
      ],
      "metadata": {
        "id": "4gwB1MN66aMt"
      },
      "execution_count": null,
      "outputs": []
    },
    {
      "cell_type": "code",
      "source": [
        "class Mammal():\n",
        "    def __init__(self,leg):\n",
        "        self.leg = leg\n",
        "human = Mammal(leg = 2)\n",
        "human.leg"
      ],
      "metadata": {
        "colab": {
          "base_uri": "https://localhost:8080/"
        },
        "id": "RZJSysyxNdo0",
        "outputId": "a48f5025-518a-4057-a852-74557eb922b5"
      },
      "execution_count": null,
      "outputs": [
        {
          "output_type": "execute_result",
          "data": {
            "text/plain": [
              "2"
            ]
          },
          "metadata": {},
          "execution_count": 7
        }
      ]
    },
    {
      "cell_type": "code",
      "source": [
        "class Hands():\n",
        "    def __init__(self,hand):\n",
        "        self.hand = hand\n",
        "class Legs():\n",
        "    def __init__(self,leg):\n",
        "        self.leg = leg"
      ],
      "metadata": {
        "id": "ABqJqoJLOGMm"
      },
      "execution_count": null,
      "outputs": []
    },
    {
      "cell_type": "code",
      "source": [
        "Kavya = Hands(hand = 2)\n",
        "Kavya.hand"
      ],
      "metadata": {
        "colab": {
          "base_uri": "https://localhost:8080/"
        },
        "id": "1g4PNQXHO8y-",
        "outputId": "c39cc7aa-3760-4709-e473-21b84197ff2f"
      },
      "execution_count": null,
      "outputs": [
        {
          "output_type": "execute_result",
          "data": {
            "text/plain": [
              "2"
            ]
          },
          "metadata": {},
          "execution_count": 25
        }
      ]
    },
    {
      "cell_type": "code",
      "source": [
        "Kavya = Legs(leg = 2)\n",
        "Kavya.leg"
      ],
      "metadata": {
        "colab": {
          "base_uri": "https://localhost:8080/"
        },
        "id": "lex3yAg57luc",
        "outputId": "f75bef80-5953-4a43-d785-9cb64b853758"
      },
      "execution_count": null,
      "outputs": [
        {
          "output_type": "execute_result",
          "data": {
            "text/plain": [
              "2"
            ]
          },
          "metadata": {},
          "execution_count": 21
        }
      ]
    },
    {
      "cell_type": "code",
      "source": [
        "human = Mammal(leg = 2)"
      ],
      "metadata": {
        "id": "NUsQGFr17pm-"
      },
      "execution_count": null,
      "outputs": []
    },
    {
      "cell_type": "code",
      "source": [
        "human.leg"
      ],
      "metadata": {
        "colab": {
          "base_uri": "https://localhost:8080/"
        },
        "id": "QAsTuS8371EW",
        "outputId": "e454abe4-bfd0-4d74-f60b-aa17c5fb89ec"
      },
      "execution_count": null,
      "outputs": [
        {
          "output_type": "execute_result",
          "data": {
            "text/plain": [
              "2"
            ]
          },
          "metadata": {},
          "execution_count": 14
        }
      ]
    },
    {
      "cell_type": "code",
      "source": [
        "cow = Mammal(leg = 4)"
      ],
      "metadata": {
        "id": "NwYwa39Q7sqs"
      },
      "execution_count": null,
      "outputs": []
    },
    {
      "cell_type": "code",
      "source": [
        "cow.leg"
      ],
      "metadata": {
        "colab": {
          "base_uri": "https://localhost:8080/"
        },
        "id": "v4CC3szG7xUM",
        "outputId": "3635c418-86b4-4e44-ed01-7d931325d4bf"
      },
      "execution_count": null,
      "outputs": [
        {
          "output_type": "execute_result",
          "data": {
            "text/plain": [
              "4"
            ]
          },
          "metadata": {},
          "execution_count": 15
        }
      ]
    },
    {
      "cell_type": "code",
      "source": [
        "class Rectangle:\n",
        "    def __init__(self,l,b):\n",
        "        self.l = l\n",
        "        self.b = b\n",
        "    def area (self):\n",
        "        return self.l * self.b\n",
        "r1=Rectangle(l=2,b=5)"
      ],
      "metadata": {
        "id": "3-xEw5Fx74AE"
      },
      "execution_count": null,
      "outputs": []
    },
    {
      "cell_type": "code",
      "source": [
        "r1.area()"
      ],
      "metadata": {
        "colab": {
          "base_uri": "https://localhost:8080/"
        },
        "id": "3F4uYL9R9FlM",
        "outputId": "98c96a7e-467b-44df-c35d-af42c6e08017"
      },
      "execution_count": null,
      "outputs": [
        {
          "output_type": "execute_result",
          "data": {
            "text/plain": [
              "10"
            ]
          },
          "metadata": {},
          "execution_count": 6
        }
      ]
    },
    {
      "cell_type": "code",
      "source": [],
      "metadata": {
        "id": "hBp3JjmqRzuZ"
      },
      "execution_count": null,
      "outputs": []
    },
    {
      "cell_type": "code",
      "source": [
        "class Rectangle:\n",
        "    def __init__(self,l,b):\n",
        "        self.l = l\n",
        "        self.b = b\n",
        "    def area (self):\n",
        "        return self.l*self.b\n"
      ],
      "metadata": {
        "id": "_RG7Nyu6Rqvb"
      },
      "execution_count": null,
      "outputs": []
    },
    {
      "cell_type": "code",
      "source": [
        "r1 = Rectangle(l=5,b=10)\n",
        "r1.area()"
      ],
      "metadata": {
        "colab": {
          "base_uri": "https://localhost:8080/"
        },
        "id": "-P_DW8rCSjnr",
        "outputId": "79317b94-ac6d-4442-f9e4-268fb7f85c01"
      },
      "execution_count": null,
      "outputs": [
        {
          "output_type": "execute_result",
          "data": {
            "text/plain": [
              "50"
            ]
          },
          "metadata": {},
          "execution_count": 29
        }
      ]
    },
    {
      "cell_type": "code",
      "source": [
        "#Function ends with ()\n",
        "#attribute doesnt end with () ex:r1.l"
      ],
      "metadata": {
        "id": "SQbCy0zA9IvE"
      },
      "execution_count": null,
      "outputs": []
    },
    {
      "cell_type": "code",
      "source": [
        "class Rectangle1:\n",
        "    def __init__(self,l,b):\n",
        "        self.l=l\n",
        "        self.b=b\n",
        "    def area(self):\n",
        "        return self.l*self.b\n",
        "    def perimeter(self):\n",
        "        return 2*(self.l+self.b)\n"
      ],
      "metadata": {
        "id": "dZO324pq9cjo"
      },
      "execution_count": null,
      "outputs": []
    },
    {
      "cell_type": "code",
      "source": [
        "class Square:\n",
        "    def __init__(self,l,b):\n",
        "        self.l = l\n",
        "        self.b = b\n",
        "    def area(self):\n",
        "        return self.l * self.b\n",
        "    def perimeter(self):\n",
        "        return 2*(self.l * self.b)\n",
        "\n",
        "s1 = Square(5,8)\n",
        "print('the area of square is ',s1.area())\n",
        "print('the perimeter of square is ', s1.perimeter())\n"
      ],
      "metadata": {
        "colab": {
          "base_uri": "https://localhost:8080/"
        },
        "id": "rCU3zDRMdWGP",
        "outputId": "90ba0da0-96a7-48ac-b37c-f5d184f3bb0f"
      },
      "execution_count": null,
      "outputs": [
        {
          "output_type": "stream",
          "name": "stdout",
          "text": [
            "the area of square is  40\n",
            "the perimeter of square is  80\n"
          ]
        }
      ]
    },
    {
      "cell_type": "code",
      "source": [
        "class Apartment:\n",
        "    has_security = True\n",
        "    has_electricity = True\n",
        "\n",
        "Westar = Apartment()\n",
        "Westar.has_security"
      ],
      "metadata": {
        "colab": {
          "base_uri": "https://localhost:8080/"
        },
        "id": "lnNcEFV8fN3r",
        "outputId": "03fe36b8-f737-4d28-f1e0-b029dad2766b"
      },
      "execution_count": null,
      "outputs": [
        {
          "output_type": "execute_result",
          "data": {
            "text/plain": [
              "True"
            ]
          },
          "metadata": {},
          "execution_count": 18
        }
      ]
    },
    {
      "cell_type": "code",
      "source": [
        "r1 = Rectangle1(l=2,b=3)\n",
        "r1.area()\n"
      ],
      "metadata": {
        "colab": {
          "base_uri": "https://localhost:8080/"
        },
        "id": "wKVixK0ITO2u",
        "outputId": "981583e6-be13-45c5-b92e-fcc451e7c857"
      },
      "execution_count": null,
      "outputs": [
        {
          "output_type": "execute_result",
          "data": {
            "text/plain": [
              "6"
            ]
          },
          "metadata": {},
          "execution_count": 10
        }
      ]
    },
    {
      "cell_type": "code",
      "source": [
        "r1.perimeter()"
      ],
      "metadata": {
        "colab": {
          "base_uri": "https://localhost:8080/"
        },
        "id": "f_oS0hV0eAi0",
        "outputId": "33014e57-664d-4ae4-9a3f-4bbbac518df5"
      },
      "execution_count": null,
      "outputs": [
        {
          "output_type": "execute_result",
          "data": {
            "text/plain": [
              "10"
            ]
          },
          "metadata": {},
          "execution_count": 7
        }
      ]
    },
    {
      "cell_type": "code",
      "source": [
        "r2 = Rectangle1(l=9,b=3)\n",
        "r2.area()"
      ],
      "metadata": {
        "colab": {
          "base_uri": "https://localhost:8080/"
        },
        "id": "0xYBrClu7Ku1",
        "outputId": "c28b97de-98b4-4ab1-f46b-6efccf75e78c"
      },
      "execution_count": null,
      "outputs": [
        {
          "output_type": "execute_result",
          "data": {
            "text/plain": [
              "27"
            ]
          },
          "metadata": {},
          "execution_count": 12
        }
      ]
    },
    {
      "cell_type": "code",
      "source": [
        "r2.perimeter()"
      ],
      "metadata": {
        "colab": {
          "base_uri": "https://localhost:8080/"
        },
        "id": "L5z_Y9VidfOs",
        "outputId": "2f95bbda-efe2-4f26-a840-47c60bee6cb8"
      },
      "execution_count": null,
      "outputs": [
        {
          "output_type": "execute_result",
          "data": {
            "text/plain": [
              "24"
            ]
          },
          "metadata": {},
          "execution_count": 13
        }
      ]
    },
    {
      "cell_type": "markdown",
      "source": [
        "#Inheritance"
      ],
      "metadata": {
        "id": "yEBS5S7X8Ybl"
      }
    },
    {
      "cell_type": "markdown",
      "source": [
        "#Single inheritance wrong eg"
      ],
      "metadata": {
        "id": "fSzLi6xP8yHu"
      }
    },
    {
      "cell_type": "code",
      "source": [
        "class Parent:\n",
        "    name='Ram'\n",
        "\n",
        "class Child:\n",
        "    childname='Shyam'\n",
        "\n",
        "c1 = Child()\n",
        "c1.name#it is error because child class object can't access parent attribute without inheritance"
      ],
      "metadata": {
        "id": "sXV4QQB38Xmw"
      },
      "execution_count": null,
      "outputs": []
    },
    {
      "cell_type": "markdown",
      "source": [
        "#correct"
      ],
      "metadata": {
        "id": "WAc3zysq9uJW"
      }
    },
    {
      "cell_type": "code",
      "source": [
        "class Parent:\n",
        "    name='Ram'\n",
        "\n",
        "class Child(Parent):\n",
        "    childname = 'Shyam'\n",
        "\n",
        "c1 = Child()\n",
        "c1.name\n"
      ],
      "metadata": {
        "id": "jUBCSbNi9teV",
        "colab": {
          "base_uri": "https://localhost:8080/",
          "height": 35
        },
        "outputId": "31dc6328-0ad5-4834-f3e8-a6db3208e5c6"
      },
      "execution_count": null,
      "outputs": [
        {
          "output_type": "execute_result",
          "data": {
            "text/plain": [
              "'Ram'"
            ],
            "application/vnd.google.colaboratory.intrinsic+json": {
              "type": "string"
            }
          },
          "metadata": {},
          "execution_count": 24
        }
      ]
    },
    {
      "cell_type": "markdown",
      "source": [
        "#Super Inheritance Method"
      ],
      "metadata": {
        "id": "wOxulBRR-Qgr"
      }
    },
    {
      "cell_type": "code",
      "source": [
        "class Parent:\n",
        "    name='Ram'\n",
        "\n",
        "class Child(Parent):\n",
        "    childname = 'Shyam'\n",
        "    def __init__(self):\n",
        "        super().__init__()\n",
        "\n",
        "c1= Child()\n",
        "c1.name"
      ],
      "metadata": {
        "id": "jIghyo1K-Top",
        "colab": {
          "base_uri": "https://localhost:8080/",
          "height": 35
        },
        "outputId": "7032b597-6acc-405a-cfd0-668b1ffa3bbf"
      },
      "execution_count": null,
      "outputs": [
        {
          "output_type": "execute_result",
          "data": {
            "text/plain": [
              "'Ram'"
            ],
            "application/vnd.google.colaboratory.intrinsic+json": {
              "type": "string"
            }
          },
          "metadata": {},
          "execution_count": 26
        }
      ]
    },
    {
      "cell_type": "markdown",
      "source": [
        "#Multiple inheritance"
      ],
      "metadata": {
        "id": "IpduoQlv_YnT"
      }
    },
    {
      "cell_type": "code",
      "source": [
        "class Father:\n",
        "    fname='Ram'\n",
        "\n",
        "class Mother:\n",
        "    mname='Sita'\n",
        "\n",
        "class Child(Father,Mother):\n",
        "    cname= 'Miyosh'\n",
        "    def __init__(self): #esto chai nachalne thauma use huncha\n",
        "        Father.__init__(self)\n",
        "        Mother.__init__(self)\n",
        "\n",
        "c=Child()\n",
        "c.fname\n",
        "c.mname"
      ],
      "metadata": {
        "id": "Jd3sAoZv_bP6",
        "colab": {
          "base_uri": "https://localhost:8080/",
          "height": 35
        },
        "outputId": "39d4b341-74d1-46a3-cca9-321daaa685c9"
      },
      "execution_count": null,
      "outputs": [
        {
          "output_type": "execute_result",
          "data": {
            "text/plain": [
              "'Sita'"
            ],
            "application/vnd.google.colaboratory.intrinsic+json": {
              "type": "string"
            }
          },
          "metadata": {},
          "execution_count": 29
        }
      ]
    },
    {
      "cell_type": "code",
      "source": [
        "class Father:\n",
        "    fname = 'Ram'\n",
        "class Child(Father):\n",
        "    cname = 'Shyam'\n",
        "\n",
        "a1 = Child()\n",
        "a1.fname"
      ],
      "metadata": {
        "colab": {
          "base_uri": "https://localhost:8080/",
          "height": 35
        },
        "id": "v0dgXYlSi6Bi",
        "outputId": "e223ad53-2411-4057-afc3-545733308952"
      },
      "execution_count": null,
      "outputs": [
        {
          "output_type": "execute_result",
          "data": {
            "text/plain": [
              "'Ram'"
            ],
            "application/vnd.google.colaboratory.intrinsic+json": {
              "type": "string"
            }
          },
          "metadata": {},
          "execution_count": 36
        }
      ]
    },
    {
      "cell_type": "code",
      "source": [
        "class Father:\n",
        "    fname = 'Ram'\n",
        "class Mother():\n",
        "    mname = 'Sita'\n",
        "class Child(Father,Mother):\n",
        "    cname = 'Shyaam'\n",
        "\n",
        "b1 = Child()\n",
        "b1.mname"
      ],
      "metadata": {
        "colab": {
          "base_uri": "https://localhost:8080/",
          "height": 35
        },
        "id": "5oJIVzf-jT43",
        "outputId": "7ed8a22a-cb05-4c3f-f522-ca231e964698"
      },
      "execution_count": null,
      "outputs": [
        {
          "output_type": "execute_result",
          "data": {
            "text/plain": [
              "'Sita'"
            ],
            "application/vnd.google.colaboratory.intrinsic+json": {
              "type": "string"
            }
          },
          "metadata": {},
          "execution_count": 50
        }
      ]
    },
    {
      "cell_type": "markdown",
      "source": [
        "#Polymorphism\n",
        "\n",
        "1.   Having many forms\n",
        "\n",
        "\n"
      ],
      "metadata": {
        "id": "FZUW6ibGBGNj"
      }
    },
    {
      "cell_type": "code",
      "source": [
        "class Point:\n",
        "    def __init__(self,p):\n",
        "        self.p = p\n",
        "\n",
        "p1 =Point(p=3)\n",
        "p2 =Point(p=8)#chaldaina"
      ],
      "metadata": {
        "id": "D_vivv5uBOFj"
      },
      "execution_count": null,
      "outputs": []
    },
    {
      "cell_type": "code",
      "source": [
        "class Point:\n",
        "    def __init__(self,p):\n",
        "        self.p = p\n",
        "    def __add__(self,other):#dunder is that jasko agadi ra pichadi __ cha eg:__init__;used for operator overloading\n",
        "        return self.p + other.p\n",
        "\n",
        "p1=Point(p=3)\n",
        "p2=Point(p=8)\n",
        "c1 = p1 + p2\n",
        "c1"
      ],
      "metadata": {
        "id": "PxWL6sS4DtYj",
        "colab": {
          "base_uri": "https://localhost:8080/"
        },
        "outputId": "ea6bb737-d9e5-4ee7-97a0-3908c5833164"
      },
      "execution_count": null,
      "outputs": [
        {
          "output_type": "execute_result",
          "data": {
            "text/plain": [
              "11"
            ]
          },
          "metadata": {},
          "execution_count": 34
        }
      ]
    },
    {
      "cell_type": "code",
      "source": [
        "class Point:\n",
        "    def __init__(self,p):\n",
        "        self.p = p\n",
        "    def __add__(self,other):\n",
        "        return self.p + other.p\n",
        "\n",
        "p1 = Point(1)\n",
        "p2 = Point(2)\n",
        "p1+p2"
      ],
      "metadata": {
        "colab": {
          "base_uri": "https://localhost:8080/"
        },
        "id": "vgy0E_-VuFhD",
        "outputId": "be2ea08a-6bef-42ee-e4ab-4f4f01302bc5"
      },
      "execution_count": null,
      "outputs": [
        {
          "output_type": "execute_result",
          "data": {
            "text/plain": [
              "3"
            ]
          },
          "metadata": {},
          "execution_count": 52
        }
      ]
    },
    {
      "cell_type": "code",
      "source": [
        "class Point:\n",
        "    def __init__(self,p):\n",
        "        self.p = p\n",
        "    def __add__(self,other):\n",
        "        return self.p + other.p\n",
        "\n",
        "\n",
        "p1 = Point(1)\n",
        "p2 = Point(2)\n",
        "p1 + p2"
      ],
      "metadata": {
        "colab": {
          "base_uri": "https://localhost:8080/"
        },
        "id": "ABIH-EyGkUo6",
        "outputId": "00cf877d-4f72-47b0-8cf5-648cf2902f48"
      },
      "execution_count": null,
      "outputs": [
        {
          "output_type": "execute_result",
          "data": {
            "text/plain": [
              "3"
            ]
          },
          "metadata": {},
          "execution_count": 49
        }
      ]
    },
    {
      "cell_type": "markdown",
      "source": [
        "#Encaptulations\n",
        "\n",
        "1.   to protect\n",
        "2.   limit access\n",
        "\n",
        "\n"
      ],
      "metadata": {
        "id": "eNQpQYCiEkEj"
      }
    },
    {
      "cell_type": "code",
      "source": [
        "class Teacher:\n",
        "    name='Miyosh'  #public\n",
        "    _address='Patan'  #protected by underscore\n",
        "    __age = 26  #private\n",
        "\n",
        "obj = Teacher()\n",
        "obj.name\n",
        "\n",
        "obj._address#can ba called outside the class but is not a good practice\n"
      ],
      "metadata": {
        "id": "FeuXqE6MEn90",
        "colab": {
          "base_uri": "https://localhost:8080/",
          "height": 35
        },
        "outputId": "cc617d2e-7c21-427a-b406-56b43d3e4094"
      },
      "execution_count": null,
      "outputs": [
        {
          "output_type": "execute_result",
          "data": {
            "text/plain": [
              "'Patan'"
            ],
            "application/vnd.google.colaboratory.intrinsic+json": {
              "type": "string"
            }
          },
          "metadata": {},
          "execution_count": 56
        }
      ]
    },
    {
      "cell_type": "code",
      "source": [
        "obj.__age"
      ],
      "metadata": {
        "id": "7kUiUe-mvICG",
        "outputId": "db617fa7-2745-42b9-f8ad-636f5e6302b3",
        "colab": {
          "base_uri": "https://localhost:8080/",
          "height": 141
        }
      },
      "execution_count": null,
      "outputs": [
        {
          "output_type": "error",
          "ename": "AttributeError",
          "evalue": "'Teacher' object has no attribute '__age'",
          "traceback": [
            "\u001b[0;31m---------------------------------------------------------------------------\u001b[0m",
            "\u001b[0;31mAttributeError\u001b[0m                            Traceback (most recent call last)",
            "\u001b[0;32m<ipython-input-57-ca40ed65a170>\u001b[0m in \u001b[0;36m<cell line: 1>\u001b[0;34m()\u001b[0m\n\u001b[0;32m----> 1\u001b[0;31m \u001b[0mobj\u001b[0m\u001b[0;34m.\u001b[0m\u001b[0m__age\u001b[0m\u001b[0;34m\u001b[0m\u001b[0;34m\u001b[0m\u001b[0m\n\u001b[0m",
            "\u001b[0;31mAttributeError\u001b[0m: 'Teacher' object has no attribute '__age'"
          ]
        }
      ]
    },
    {
      "cell_type": "markdown",
      "source": [
        "#Abstraction means\n",
        "\n",
        "  object doesnt know whats happening in class,,,,,\n",
        "above are eg of abstraction\n"
      ],
      "metadata": {
        "id": "6DBb3ofNGQZf"
      }
    },
    {
      "cell_type": "markdown",
      "source": [
        "#NEW THINGS"
      ],
      "metadata": {
        "id": "6Yvfve_PDZql"
      }
    },
    {
      "cell_type": "code",
      "source": [
        "#https://meet.google.com/uzt-utgc-vgf\n",
        "\n",
        "\n",
        "\n",
        "#1. Install Gitbash: https://git-scm.com/downloads\n",
        "#2. Install VS code: https://code.visualstudio.com/download\n",
        "#3. Create your Account in Github.com : https://github.com/\n",
        "\n",
        "#Don't forget ID and Password"
      ],
      "metadata": {
        "id": "GS4YczM_GiZ-"
      },
      "execution_count": null,
      "outputs": []
    },
    {
      "cell_type": "markdown",
      "source": [
        "#SQL in Python"
      ],
      "metadata": {
        "id": "AXntu-lUGmRX"
      }
    },
    {
      "cell_type": "code",
      "source": [
        "import sqlite3"
      ],
      "metadata": {
        "id": "-ABQZ4QZDM8K"
      },
      "execution_count": null,
      "outputs": []
    },
    {
      "cell_type": "code",
      "source": [
        "db = sqlite3.connect('my database.db')#create and connect to db"
      ],
      "metadata": {
        "id": "Z0d9y5ILG7Mk"
      },
      "execution_count": null,
      "outputs": []
    },
    {
      "cell_type": "code",
      "source": [
        "query = '''\n",
        "CREATE table all_student(Roll_no int, name varchar(50), age int);\n",
        "'''"
      ],
      "metadata": {
        "id": "tr7I74MZHSxa"
      },
      "execution_count": null,
      "outputs": []
    },
    {
      "cell_type": "code",
      "source": [
        "#Cursor executes sql query.\n",
        "cur = db.cursor()"
      ],
      "metadata": {
        "id": "sTlGHYXZHrNJ"
      },
      "execution_count": null,
      "outputs": []
    },
    {
      "cell_type": "code",
      "source": [
        "cur.execute (query)"
      ],
      "metadata": {
        "colab": {
          "base_uri": "https://localhost:8080/"
        },
        "id": "q0F8b3NUIFF6",
        "outputId": "f7bef851-97b4-43df-e7f2-d6b44b782fa4"
      },
      "execution_count": null,
      "outputs": [
        {
          "output_type": "execute_result",
          "data": {
            "text/plain": [
              "<sqlite3.Cursor at 0x7d55fe823a40>"
            ]
          },
          "metadata": {},
          "execution_count": 8
        }
      ]
    },
    {
      "cell_type": "code",
      "source": [
        "#Insert"
      ],
      "metadata": {
        "id": "7Tp6dQdKISui"
      },
      "execution_count": null,
      "outputs": []
    },
    {
      "cell_type": "code",
      "source": [
        "query='''\n",
        "Insert into all_student(roll_no,name,age)\n",
        "values\n",
        "(1,'Miyosh',26),\n",
        "(2,'Binita',24)\n",
        "'''"
      ],
      "metadata": {
        "id": "EY--qLiwJ9zs"
      },
      "execution_count": null,
      "outputs": []
    },
    {
      "cell_type": "code",
      "source": [
        "cur.execute(query)"
      ],
      "metadata": {
        "colab": {
          "base_uri": "https://localhost:8080/"
        },
        "id": "1WkyvW7pKDXi",
        "outputId": "01279d09-9627-4c27-ec7c-dc321853c54a"
      },
      "execution_count": null,
      "outputs": [
        {
          "output_type": "execute_result",
          "data": {
            "text/plain": [
              "<sqlite3.Cursor at 0x7d55fe823a40>"
            ]
          },
          "metadata": {},
          "execution_count": 11
        }
      ]
    },
    {
      "cell_type": "code",
      "source": [
        "#select and where statement"
      ],
      "metadata": {
        "id": "QNKxFMxFKH-a"
      },
      "execution_count": null,
      "outputs": []
    },
    {
      "cell_type": "code",
      "source": [
        "cur.execute('Select * from all_student')"
      ],
      "metadata": {
        "colab": {
          "base_uri": "https://localhost:8080/"
        },
        "id": "G7Beqe_KL_a0",
        "outputId": "ad341216-2a65-4c89-80a1-8c6f00e05972"
      },
      "execution_count": null,
      "outputs": [
        {
          "output_type": "execute_result",
          "data": {
            "text/plain": [
              "<sqlite3.Cursor at 0x7d55fe823a40>"
            ]
          },
          "metadata": {},
          "execution_count": 14
        }
      ]
    },
    {
      "cell_type": "code",
      "source": [
        "cur.execute('Select * from all_student').fetchall()"
      ],
      "metadata": {
        "colab": {
          "base_uri": "https://localhost:8080/"
        },
        "id": "t2VKOoeWLp0D",
        "outputId": "7334f279-a366-4bf0-f5d7-57293973bb8a"
      },
      "execution_count": null,
      "outputs": [
        {
          "output_type": "execute_result",
          "data": {
            "text/plain": [
              "[(1, 'Miyosh', 26), (2, 'Binita', 24)]"
            ]
          },
          "metadata": {},
          "execution_count": 16
        }
      ]
    },
    {
      "cell_type": "code",
      "source": [
        "cur.execute('select name,age from all_student').fetchall()"
      ],
      "metadata": {
        "colab": {
          "base_uri": "https://localhost:8080/"
        },
        "id": "Cng3DuU2L6s6",
        "outputId": "69403098-09b2-4906-a14e-b2ed0701198a"
      },
      "execution_count": null,
      "outputs": [
        {
          "output_type": "execute_result",
          "data": {
            "text/plain": [
              "[('Miyosh', 26), ('Binita', 24)]"
            ]
          },
          "metadata": {},
          "execution_count": 17
        }
      ]
    },
    {
      "cell_type": "code",
      "source": [
        "cur.execute('select name,age from all_student where age <=25').fetchall()"
      ],
      "metadata": {
        "colab": {
          "base_uri": "https://localhost:8080/"
        },
        "id": "1xc9ctPpMUNC",
        "outputId": "b1db3132-3151-4d9c-e032-5f3ea3d8c24e"
      },
      "execution_count": null,
      "outputs": [
        {
          "output_type": "execute_result",
          "data": {
            "text/plain": [
              "[('Binita', 24)]"
            ]
          },
          "metadata": {},
          "execution_count": 18
        }
      ]
    },
    {
      "cell_type": "code",
      "source": [
        "query ='''\n",
        "update all_student\n",
        "set name ='Miyosh'\n",
        "where roll_no =1\n",
        "'''"
      ],
      "metadata": {
        "id": "IgTnII91MfNa"
      },
      "execution_count": null,
      "outputs": []
    },
    {
      "cell_type": "code",
      "source": [
        "cur.execute(query)"
      ],
      "metadata": {
        "colab": {
          "base_uri": "https://localhost:8080/"
        },
        "id": "iMI7d3lcNDvA",
        "outputId": "99191c25-b620-408c-bf28-6cbc60cbdc24"
      },
      "execution_count": null,
      "outputs": [
        {
          "output_type": "execute_result",
          "data": {
            "text/plain": [
              "<sqlite3.Cursor at 0x7d55fe823a40>"
            ]
          },
          "metadata": {},
          "execution_count": 23
        }
      ]
    },
    {
      "cell_type": "code",
      "source": [
        "cur.execute('select * from all_student').fetchall()"
      ],
      "metadata": {
        "colab": {
          "base_uri": "https://localhost:8080/"
        },
        "id": "a3lDqf3aNHf4",
        "outputId": "bf1cb17a-3605-4e5e-dac2-80b5bbbd483f"
      },
      "execution_count": null,
      "outputs": [
        {
          "output_type": "execute_result",
          "data": {
            "text/plain": [
              "[(1, 'Miyosh', 26), (2, 'Binita', 24)]"
            ]
          },
          "metadata": {},
          "execution_count": 24
        }
      ]
    },
    {
      "cell_type": "code",
      "source": [
        "query='''\n",
        "Delete from all_student\n",
        "where roll_no = 1\n",
        "'''\n"
      ],
      "metadata": {
        "id": "ng033hDsNfFy"
      },
      "execution_count": null,
      "outputs": []
    },
    {
      "cell_type": "code",
      "source": [
        "cur.execute(query)"
      ],
      "metadata": {
        "colab": {
          "base_uri": "https://localhost:8080/"
        },
        "id": "OIMmph1BOL5v",
        "outputId": "91cd16b0-bb81-4d22-aa32-bfb94ea91399"
      },
      "execution_count": null,
      "outputs": [
        {
          "output_type": "execute_result",
          "data": {
            "text/plain": [
              "<sqlite3.Cursor at 0x7d55fe823a40>"
            ]
          },
          "metadata": {},
          "execution_count": 26
        }
      ]
    },
    {
      "cell_type": "code",
      "source": [
        "cur.execute('select * from all_student').fetchall()"
      ],
      "metadata": {
        "colab": {
          "base_uri": "https://localhost:8080/"
        },
        "id": "I0At4n7XOPB_",
        "outputId": "127e7621-cc6e-438d-e8d9-17f245952c95"
      },
      "execution_count": null,
      "outputs": [
        {
          "output_type": "execute_result",
          "data": {
            "text/plain": [
              "[(2, 'Binita', 24)]"
            ]
          },
          "metadata": {},
          "execution_count": 28
        }
      ]
    },
    {
      "cell_type": "code",
      "source": [],
      "metadata": {
        "id": "03Ki6WPDOYOC"
      },
      "execution_count": null,
      "outputs": []
    }
  ]
}